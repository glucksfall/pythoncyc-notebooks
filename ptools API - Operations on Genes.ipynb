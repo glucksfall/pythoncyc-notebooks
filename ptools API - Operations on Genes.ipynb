{
 "cells": [
  {
   "cell_type": "code",
   "execution_count": 1,
   "metadata": {},
   "outputs": [
    {
     "data": {
      "text/plain": [
       "0"
      ]
     },
     "execution_count": 1,
     "metadata": {},
     "output_type": "execute_result"
    }
   ],
   "source": [
    "#to run the script, you need to start pathway tools form the command line \n",
    "# using the -lisp -python options. Example (from the pathway tools github repository)\n",
    "import os\n",
    "# os.system('nohup /opt/pathway-tools/pathway-tools -lisp -python &')\n",
    "os.system('nohup /opt/pathway-tools/pathway-tools -lisp -python-local-only &') # added cybersecurity"
   ]
  },
  {
   "cell_type": "code",
   "execution_count": 2,
   "metadata": {},
   "outputs": [
    {
     "name": "stdout",
     "output_type": "stream",
     "text": [
      "[u'|META|', u'|ECOLI|']\n"
     ]
    }
   ],
   "source": [
    "import pythoncyc\n",
    "all_orgids = pythoncyc.all_orgids()\n",
    "print all_orgids\n",
    "\n",
    "meta = pythoncyc.select_organism(u'|META|')\n",
    "ecoli = pythoncyc.select_organism(u'|ECOLI|')\n",
    "genes = [x.frameid for x in ecoli.genes.instances]"
   ]
  },
  {
   "cell_type": "code",
   "execution_count": 3,
   "metadata": {},
   "outputs": [
    {
     "name": "stdout",
     "output_type": "stream",
     "text": [
      "[u'|Genes|', u'|Genes|', u'|Genes|', u'|Genes|', u'|Genes|', u'|Genes|', u'|Genes|', u'|Genes|', u'|Genes|', u'|Genes|']\n"
     ]
    }
   ],
   "source": [
    "lst = []\n",
    "for gene in genes:\n",
    "    lst.append(ecoli.gene_p(gene))\n",
    "print(lst[0:10])"
   ]
  },
  {
   "cell_type": "code",
   "execution_count": 4,
   "metadata": {},
   "outputs": [
    {
     "name": "stdout",
     "output_type": "stream",
     "text": [
      "[[], [], [], [], [u'|YDCS-MONOMER|'], [u'|EG11237-MONOMER|'], [], [], [], [u'|CPLX0-7462|']]\n"
     ]
    }
   ],
   "source": [
    "lst = []\n",
    "for gene in genes:\n",
    "    lst.append(ecoli.enzymes_of_gene(gene))\n",
    "print(lst[0:10])"
   ]
  },
  {
   "cell_type": "code",
   "execution_count": 5,
   "metadata": {},
   "outputs": [
    {
     "name": "stdout",
     "output_type": "stream",
     "text": [
      "[[u'|EG11414-MONOMER|', u'|CPLX0-7910|', u'|CPLX0-3803|'], [u'|EG11127-MONOMER|'], [u'|G6118-MONOMER|'], [u'|G6345-MONOMER|', u'|PHOSPHO-DPIB|'], [u'|YDCS-MONOMER|', u'|ABC-51-CPLX|'], [u'|EG11237-MONOMER|'], [u'|G6405-MONOMER|'], [u'|G6374-MONOMER|'], [u'|G6827-MONOMER|'], [u'|EG11234-MONOMER|', u'|CPLX0-7462|']]\n"
     ]
    }
   ],
   "source": [
    "lst = []\n",
    "for gene in genes:\n",
    "    lst.append(ecoli.all_products_of_gene(gene))\n",
    "print(lst[0:10])"
   ]
  },
  {
   "cell_type": "code",
   "execution_count": 6,
   "metadata": {},
   "outputs": [
    {
     "name": "stdout",
     "output_type": "stream",
     "text": [
      "[[], [], [], [], [u'|RXN1-42|'], [u'|3.2.1.14-RXN|'], [], [], [], [u'|SHIKIMATE-5-DEHYDROGENASE-RXN|', u'|RXN-7968|', u'|RXN-7967|']]\n"
     ]
    }
   ],
   "source": [
    "lst = []\n",
    "for gene in genes:\n",
    "    lst.append(ecoli.reactions_of_gene(gene))\n",
    "print(lst[0:10])"
   ]
  },
  {
   "cell_type": "code",
   "execution_count": 7,
   "metadata": {},
   "outputs": [
    {
     "name": "stdout",
     "output_type": "stream",
     "text": [
      "[[], [], [], [u'|PWY0-1499|'], [], [], [], [], [], [u'|PWY-6163|']]\n"
     ]
    }
   ],
   "source": [
    "lst = []\n",
    "for gene in genes:\n",
    "    lst.append(ecoli.pathways_of_gene(gene))\n",
    "print(lst[0:10])"
   ]
  },
  {
   "cell_type": "code",
   "execution_count": 8,
   "metadata": {},
   "outputs": [
    {
     "name": "stdout",
     "output_type": "stream",
     "text": [
      "[u'|COLI-K12|', u'|COLI-K12|', u'|COLI-K12|', u'|COLI-K12|', u'|COLI-K12|', u'|COLI-K12|', u'|COLI-K12|', u'|COLI-K12|', u'|COLI-K12|', u'|COLI-K12|']\n"
     ]
    }
   ],
   "source": [
    "lst = []\n",
    "for gene in genes:\n",
    "    lst.append(ecoli.chromosome_of_gene(gene))\n",
    "print(lst[0:10])"
   ]
  },
  {
   "cell_type": "code",
   "execution_count": 9,
   "metadata": {},
   "outputs": [
    {
     "name": "stdout",
     "output_type": "stream",
     "text": [
      "[u'|EG11414-MONOMER|', u'|EG11127-MONOMER|', u'|G6118-MONOMER|', u'|G6345-MONOMER|', u'|YDCS-MONOMER|', u'|EG11237-MONOMER|', u'|G6405-MONOMER|', u'|G6374-MONOMER|', u'|G6827-MONOMER|', u'|EG11234-MONOMER|']\n"
     ]
    }
   ],
   "source": [
    "lst = []\n",
    "for gene in genes:\n",
    "    lst.append(ecoli.unmodified_gene_product(gene))\n",
    "print(lst[0:10])"
   ]
  },
  {
   "cell_type": "code",
   "execution_count": 10,
   "metadata": {},
   "outputs": [
    {
     "name": "stdout",
     "output_type": "stream",
     "text": [
      "[[u'|EG11414-MONOMER|'], [u'|EG11127-MONOMER|'], [u'|G6118-MONOMER|'], [u'|G6345-MONOMER|'], [u'|YDCS-MONOMER|'], [u'|EG11237-MONOMER|'], [u'|G6405-MONOMER|'], [u'|G6374-MONOMER|'], [u'|G6827-MONOMER|'], [u'|EG11234-MONOMER|']]\n"
     ]
    }
   ],
   "source": [
    "lst = []\n",
    "for gene in genes:\n",
    "    lst.append(ecoli.unmodified_gene_products(gene = gene))\n",
    "print(lst[0:10])"
   ]
  },
  {
   "cell_type": "code",
   "execution_count": 11,
   "metadata": {},
   "outputs": [
    {
     "name": "stdout",
     "output_type": "stream",
     "text": [
      "[u'|EG10850|', u'|EG11024|', u'|G6119|', u'|G6346|', u'|G6752|', u'|EG11036|', u'|G6406|', u'|EG11778|', u'|G6828|', u'|EG10076|']\n"
     ]
    }
   ],
   "source": [
    "lst = []\n",
    "for gene in genes:\n",
    "    lst.append(ecoli.next_gene_on_replicon(gene = gene))\n",
    "print(lst[0:10])"
   ]
  },
  {
   "cell_type": "code",
   "execution_count": 12,
   "metadata": {},
   "outputs": [
    {
     "name": "stdout",
     "output_type": "stream",
     "text": [
      "[u'|G7950|', u'|EG11126|', u'|G6117|', u'|G6344|', u'|G6750|', u'|EG11181|', u'|G6404|', u'|EG12144|', u'|G0-16675|', u'|G6917|']\n"
     ]
    }
   ],
   "source": [
    "lst = []\n",
    "for gene in genes:\n",
    "    lst.append(ecoli.previous_gene_on_replicon(gene = gene))\n",
    "print(lst[0:10])"
   ]
  },
  {
   "cell_type": "code",
   "execution_count": 13,
   "metadata": {},
   "outputs": [
    {
     "name": "stdout",
     "output_type": "stream",
     "text": [
      "[[True, None]]\n"
     ]
    }
   ],
   "source": [
    "lst = []\n",
    "for gene1 in genes[0:1]:\n",
    "    for gene2 in genes[0:1]:\n",
    "        lst.append(ecoli.adjacent_genes_p(gene1, gene2))\n",
    "print(lst[0:10])"
   ]
  },
  {
   "cell_type": "code",
   "execution_count": 14,
   "metadata": {},
   "outputs": [],
   "source": [
    "# lst = []\n",
    "# for gene1 in genes:\n",
    "#     for gene2 in genes:\n",
    "#         lst.append(ecoli.connecting_genes(gene1, gene2))\n",
    "# print(lst[0:10])"
   ]
  },
  {
   "cell_type": "code",
   "execution_count": 15,
   "metadata": {},
   "outputs": [
    {
     "name": "stdout",
     "output_type": "stream",
     "text": [
      "[[True, None]]\n"
     ]
    }
   ],
   "source": [
    "lst = []\n",
    "for gene1 in genes[0:1]:\n",
    "    for gene2 in genes[0:1]:\n",
    "        lst.append(ecoli.neighboring_genes_p(gene1, gene2, 100))\n",
    "print(lst[0:10])"
   ]
  },
  {
   "cell_type": "code",
   "execution_count": 16,
   "metadata": {},
   "outputs": [
    {
     "data": {
      "text/plain": [
       "[u'|EG11277|']"
      ]
     },
     "execution_count": 16,
     "metadata": {},
     "output_type": "execute_result"
    }
   ],
   "source": [
    "ecoli.gene_clusters(genes, 10).keys()"
   ]
  },
  {
   "cell_type": "code",
   "execution_count": 17,
   "metadata": {},
   "outputs": [],
   "source": [
    "# lst = []\n",
    "# for gene in genes:\n",
    "#     lst.append(ecoli.rna_coding_gene(gene=gene))\n",
    "# print(lst[0:10])"
   ]
  },
  {
   "cell_type": "code",
   "execution_count": 18,
   "metadata": {},
   "outputs": [],
   "source": [
    "# lst = []\n",
    "# for gene in genes:\n",
    "#     lst.append(ecoli.protein_coding_gene(gene=gene))\n",
    "# print(lst[0:10])"
   ]
  },
  {
   "cell_type": "code",
   "execution_count": 19,
   "metadata": {},
   "outputs": [
    {
     "name": "stdout",
     "output_type": "stream",
     "text": [
      "[False, False, False, False, False, False, False, False, False, False]\n"
     ]
    }
   ],
   "source": [
    "lst = []\n",
    "for gene in genes:\n",
    "    lst.append(ecoli.pseudo_gene_p(gene=gene))\n",
    "print(lst[0:10])"
   ]
  },
  {
   "cell_type": "code",
   "execution_count": 20,
   "metadata": {},
   "outputs": [
    {
     "name": "stdout",
     "output_type": "stream",
     "text": [
      "[False, False, False, False, False, False, False, False, False, False]\n"
     ]
    }
   ],
   "source": [
    "lst = []\n",
    "for gene in genes:\n",
    "    lst.append(ecoli.phantom_gene_p(gene=gene))\n",
    "print(lst[0:10])"
   ]
  },
  {
   "cell_type": "code",
   "execution_count": 21,
   "metadata": {},
   "outputs": [
    {
     "name": "stdout",
     "output_type": "stream",
     "text": [
      "[False, False, False, False, False, False, False, False, False, False]\n"
     ]
    }
   ],
   "source": [
    "lst = []\n",
    "for gene in genes:\n",
    "    lst.append(ecoli.dna_binding_site_p(gene=gene))\n",
    "print(lst[0:10])"
   ]
  },
  {
   "cell_type": "code",
   "execution_count": 22,
   "metadata": {},
   "outputs": [
    {
     "name": "stdout",
     "output_type": "stream",
     "text": [
      "[False, False, False, False, False, False, False, False, False, False]\n"
     ]
    }
   ],
   "source": [
    "lst = []\n",
    "for gene in genes:\n",
    "    lst.append(ecoli.terminator_p(gene=gene))\n",
    "print(lst[0:10])"
   ]
  },
  {
   "cell_type": "code",
   "execution_count": 23,
   "metadata": {},
   "outputs": [
    {
     "name": "stdout",
     "output_type": "stream",
     "text": [
      "[[u'|TU0-14216|'], [u'|TU0-36408|', u'|TU0-36411|', u'|TU0-13193|'], [u'|TU0-12853|', u'|TU0-12854|'], [u'|TU0-14751|', u'|TU0-13000|'], [u'|TU0-42535|', u'|TU0-13268|', u'|TU0-3644|', u'|TU0-41778|'], [u'|TU0-3141|'], [u'|TU0-13049|'], [u'|TU0-13024|'], [u'|TU0-13321|'], [u'|TU0-13373|']]\n"
     ]
    }
   ],
   "source": [
    "lst = []\n",
    "for gene in genes:\n",
    "    lst.append(ecoli.operon_of_gene(gene=gene))\n",
    "print(lst[0:10])"
   ]
  },
  {
   "cell_type": "code",
   "execution_count": 24,
   "metadata": {},
   "outputs": [
    {
     "name": "stdout",
     "output_type": "stream",
     "text": [
      "[[u'|EG12115|', u'|EG10850|', u'|EG11414|'], [u'|EG11125|', u'|EG11126|', u'|EG11127|'], [u'|G6115|', u'|G6118|', u'|G6117|', u'|G6116|'], [u'|G6346|', u'|G6345|'], [u'|G6755|', u'|G6752|', u'|G6753|', u'|G6754|', u'|G6751|'], [u'|EG11237|'], [u'|G6407|', u'|G6406|', u'|G6405|'], [u'|G6374|'], [u'|G6829|', u'|G6828|', u'|G6827|', u'|G6826|'], [u'|EG10076|', u'|EG11234|', u'|G6917|']]\n"
     ]
    }
   ],
   "source": [
    "lst = []\n",
    "for gene in genes:\n",
    "    lst.append(ecoli.genes_in_same_operon(gene=gene))\n",
    "print(lst[0:10])"
   ]
  },
  {
   "cell_type": "code",
   "execution_count": 25,
   "metadata": {},
   "outputs": [
    {
     "name": "stdout",
     "output_type": "stream",
     "text": [
      "[[u'|TU0-14216|'], [u'|TU0-36408|', u'|TU0-13193|'], [u'|TU0-12853|', u'|TU0-12854|'], [u'|TU0-14751|', u'|TU0-13000|'], [u'|TU0-42535|', u'|TU0-41778|', u'|TU0-3644|'], [u'|TU0-3141|'], [u'|TU0-13049|'], [u'|TU0-13024|'], [u'|TU0-13321|'], [u'|TU0-13373|']]\n"
     ]
    }
   ],
   "source": [
    "lst = []\n",
    "for gene in genes:\n",
    "    lst.append(ecoli.gene_transcription_units(gene=gene))\n",
    "print(lst[0:10])"
   ]
  },
  {
   "cell_type": "code",
   "execution_count": 26,
   "metadata": {},
   "outputs": [
    {
     "name": "stdout",
     "output_type": "stream",
     "text": [
      "[[u'|EG12115|', u'|EG10850|'], [u'|EG11125|', u'|EG11126|'], [u'|G6115|', u'|G6117|', u'|G6116|'], [u'|G6346|'], [u'|G6755|', u'|G6754|', u'|G6753|', u'|G6752|'], [], [u'|G6407|', u'|G6406|'], [], [u'|G6829|', u'|G6828|', u'|G6826|'], [u'|EG10076|', u'|G6917|']]\n"
     ]
    }
   ],
   "source": [
    "lst = []\n",
    "for gene in genes:\n",
    "    lst.append(ecoli.cotranscribed_genes(gene=gene))\n",
    "print(lst[0:10])"
   ]
  },
  {
   "cell_type": "code",
   "execution_count": 27,
   "metadata": {},
   "outputs": [
    {
     "name": "stdout",
     "output_type": "stream",
     "text": [
      "[[], [], [], [], [], [], [], [], [], []]\n"
     ]
    }
   ],
   "source": [
    "lst = []\n",
    "for gene in genes:\n",
    "    lst.append(ecoli.terminators_affecting_gene(gene=gene))\n",
    "print(lst[0:10])"
   ]
  },
  {
   "cell_type": "code",
   "execution_count": 28,
   "metadata": {},
   "outputs": [
    {
     "name": "stdout",
     "output_type": "stream",
     "text": [
      "[u'|COLI-K12|', u'|COLI-K12|', u'|COLI-K12|', u'|COLI-K12|', u'|COLI-K12|', u'|COLI-K12|', u'|COLI-K12|', u'|COLI-K12|', u'|COLI-K12|', u'|COLI-K12|']\n"
     ]
    }
   ],
   "source": [
    "lst = []\n",
    "for gene in genes:\n",
    "    lst.append(ecoli.chromosome_of_object(gene))\n",
    "print(lst[0:10])"
   ]
  },
  {
   "cell_type": "code",
   "execution_count": null,
   "metadata": {},
   "outputs": [],
   "source": []
  }
 ],
 "metadata": {
  "kernelspec": {
   "display_name": "Python 2",
   "language": "python",
   "name": "python2"
  },
  "language_info": {
   "codemirror_mode": {
    "name": "ipython",
    "version": 2
   },
   "file_extension": ".py",
   "mimetype": "text/x-python",
   "name": "python",
   "nbconvert_exporter": "python",
   "pygments_lexer": "ipython2",
   "version": "2.7.15rc1"
  }
 },
 "nbformat": 4,
 "nbformat_minor": 2
}
