{
 "cells": [
  {
   "cell_type": "code",
   "execution_count": 1,
   "metadata": {},
   "outputs": [
    {
     "data": {
      "text/plain": [
       "0"
      ]
     },
     "execution_count": 1,
     "metadata": {},
     "output_type": "execute_result"
    }
   ],
   "source": [
    "#to run the script, you need to start pathway tools form the command line \n",
    "# using the -lisp -python options. Example (from the pathway tools github repository)\n",
    "import os\n",
    "# os.system('nohup /opt/pathway-tools/pathway-tools -lisp -python &')\n",
    "os.system('nohup /opt/pathway-tools/pathway-tools -lisp -python-local-only &') # added cybersecurity"
   ]
  },
  {
   "cell_type": "code",
   "execution_count": 2,
   "metadata": {},
   "outputs": [
    {
     "name": "stdout",
     "output_type": "stream",
     "text": [
      "[u'|META|', u'|ECOLI|']\n"
     ]
    }
   ],
   "source": [
    "import pythoncyc\n",
    "all_orgids = pythoncyc.all_orgids()\n",
    "print all_orgids\n",
    "\n",
    "meta = pythoncyc.select_organism(u'|META|')\n",
    "ecoli = pythoncyc.select_organism(u'|ECOLI|')\n",
    "regs = [x.frameid for x in ecoli.regulation.instances]\n",
    "genes = [x.frameid for x in ecoli.genes.instances]\n",
    "proteins = [x.frameid for x in ecoli.proteins.instances]\n",
    "tus = [x.frameid for x in ecoli.transcription_units.instances]\n",
    "dna_sites = [x.frameid for x in ecoli.DNA_Binding_Sites.instances]\n",
    "mrna_sites = [x.frameid for x in ecoli.mRNA_Binding_Sites.instances]\n",
    "terminators = [x.frameid for x in ecoli.Terminators.instances]\n",
    "promoters = [x.frameid for x in ecoli.Promoters.instances]"
   ]
  },
  {
   "cell_type": "code",
   "execution_count": 3,
   "metadata": {},
   "outputs": [
    {
     "name": "stdout",
     "output_type": "stream",
     "text": [
      "[True, False, False, False, False, False, False, True, False, True]\n"
     ]
    }
   ],
   "source": [
    "lst = []\n",
    "for reg in regs:\n",
    "    lst.append(ecoli.activation_p(reg))\n",
    "print(lst[0:10])"
   ]
  },
  {
   "cell_type": "code",
   "execution_count": 4,
   "metadata": {},
   "outputs": [
    {
     "name": "stdout",
     "output_type": "stream",
     "text": [
      "[False, True, True, True, True, True, True, False, True, False]\n"
     ]
    }
   ],
   "source": [
    "lst = []\n",
    "for reg in regs:\n",
    "    lst.append(ecoli.inhibition_p(reg))\n",
    "print(lst[0:10])"
   ]
  },
  {
   "cell_type": "code",
   "execution_count": 5,
   "metadata": {},
   "outputs": [
    {
     "name": "stdout",
     "output_type": "stream",
     "text": [
      "[[], [], [], [], [], [], [], [], [], []]\n"
     ]
    }
   ],
   "source": [
    "lst = []\n",
    "for gene in genes:\n",
    "    lst.append(ecoli.direct_regulators(gene))\n",
    "print(lst[0:10])"
   ]
  },
  {
   "cell_type": "code",
   "execution_count": 6,
   "metadata": {},
   "outputs": [
    {
     "name": "stdout",
     "output_type": "stream",
     "text": [
      "[[], [], [], [], [], [], [], [], [], []]\n"
     ]
    }
   ],
   "source": [
    "lst = []\n",
    "for gene in genes:\n",
    "    lst.append(ecoli.direct_activators(gene))\n",
    "print(lst[0:10])"
   ]
  },
  {
   "cell_type": "code",
   "execution_count": 7,
   "metadata": {},
   "outputs": [
    {
     "name": "stdout",
     "output_type": "stream",
     "text": [
      "[[], [], [], [], [], [], [], [], [], []]\n"
     ]
    }
   ],
   "source": [
    "lst = []\n",
    "for gene in genes:\n",
    "    lst.append(ecoli.direct_inhibitors(gene))\n",
    "print(lst[0:10])"
   ]
  },
  {
   "cell_type": "code",
   "execution_count": 8,
   "metadata": {},
   "outputs": [],
   "source": [
    "# lst = []\n",
    "# for protein in proteins:\n",
    "#     lst.append(ecoli.transcription_factor_p(protein))\n",
    "# print(lst[0:10])"
   ]
  },
  {
   "cell_type": "code",
   "execution_count": 9,
   "metadata": {},
   "outputs": [],
   "source": [
    "# lst = []\n",
    "# for protein in proteins:\n",
    "#     lst.append(ecoli.regulator_of_type(protein, class_name = 'activator'))\n",
    "# print(lst[0:10])"
   ]
  },
  {
   "cell_type": "code",
   "execution_count": 10,
   "metadata": {},
   "outputs": [
    {
     "name": "stdout",
     "output_type": "stream",
     "text": [
      "[[], [], [], [], [], [u'|TU0-1981|', u'|TU00390|', u'|TU00392|', u'|TU0-14429|', u'|TU0-14116|', u'|TU369|', u'|TU00136|', u'|TU00282|', u'|TU0-5682|', u'|TU0-4021|', u'|TU0-13527|'], [], [], [], []]\n"
     ]
    }
   ],
   "source": [
    "lst = []\n",
    "for protein in proteins:\n",
    "    lst.append(ecoli.regulon_of_protein(protein))\n",
    "print(lst[0:10])"
   ]
  },
  {
   "cell_type": "code",
   "execution_count": 11,
   "metadata": {},
   "outputs": [
    {
     "name": "stdout",
     "output_type": "stream",
     "text": [
      "[[u'|TU162|'], [u'|TU461|'], [u'|TU00021|'], [], [], [u'|TU0-41857|'], [], [u'|TU581|'], [], [u'|TU00254|']]\n"
     ]
    }
   ],
   "source": [
    "lst = []\n",
    "for reg in regs:\n",
    "    lst.append(ecoli.regulation_frame_transcription_units(reg))\n",
    "print(lst[0:10])"
   ]
  },
  {
   "cell_type": "code",
   "execution_count": 12,
   "metadata": {},
   "outputs": [
    {
     "name": "stdout",
     "output_type": "stream",
     "text": [
      "[[], [u'|REG0-11053|', u'|REG0-11052|'], [], [], [], [u'|REG0-10515|'], [], [], [], []]\n"
     ]
    }
   ],
   "source": [
    "lst = []\n",
    "for tu in tus:\n",
    "    lst.append(ecoli.transcription_unit_regulation_frames(tu))\n",
    "print(lst[0:10])"
   ]
  },
  {
   "cell_type": "code",
   "execution_count": 13,
   "metadata": {},
   "outputs": [
    {
     "name": "stdout",
     "output_type": "stream",
     "text": [
      "[[], [], [], [], [], [], [], [], [], []]\n"
     ]
    }
   ],
   "source": [
    "lst = []\n",
    "for tu in tus:\n",
    "    lst.append(ecoli.transcription_unit_activation_frames(tu))\n",
    "print(lst[0:10])"
   ]
  },
  {
   "cell_type": "code",
   "execution_count": 14,
   "metadata": {},
   "outputs": [
    {
     "name": "stdout",
     "output_type": "stream",
     "text": [
      "[[], [u'|REG0-11053|', u'|REG0-11052|'], [], [], [], [u'|REG0-10515|'], [], [], [], []]\n"
     ]
    }
   ],
   "source": [
    "lst = []\n",
    "for tu in tus:\n",
    "    lst.append(ecoli.transcription_unit_inhibition_frames(tu))\n",
    "print(lst[0:10])"
   ]
  },
  {
   "cell_type": "code",
   "execution_count": 15,
   "metadata": {},
   "outputs": [
    {
     "name": "stdout",
     "output_type": "stream",
     "text": [
      "[[], [], [], [], [], [u'|TU0-1981|', u'|TU00390|', u'|TU00392|', u'|TU0-14429|', u'|TU0-14116|', u'|TU369|', u'|TU00136|', u'|TU00282|', u'|TU0-5682|', u'|TU0-4021|', u'|TU0-13527|'], [], [], [], []]\n"
     ]
    }
   ],
   "source": [
    "lst = []\n",
    "for protein in proteins:\n",
    "    lst.append(ecoli.transcription_units_of_protein(protein))\n",
    "print(lst[0:10])"
   ]
  },
  {
   "cell_type": "code",
   "execution_count": 16,
   "metadata": {},
   "outputs": [
    {
     "name": "stdout",
     "output_type": "stream",
     "text": [
      "[[], [], [], [], [], [u'|EG11391|', u'|G6548|', u'|G6547|', u'|EG11489|', u'|G6543|', u'|G6544|', u'|G6545|', u'|G6546|', u'|EG11928|', u'|G6786|', u'|EG11490|', u'|EG10319|', u'|EG10320|', u'|EG11400|', u'|EG11399|', u'|EG11398|', u'|G0-16680|', u'|EG12241|', u'|EG12240|', u'|EG11544|', u'|G6639|', u'|EG12008|'], [], [], [], []]\n"
     ]
    }
   ],
   "source": [
    "lst = []\n",
    "for protein in proteins:\n",
    "    lst.append(ecoli.genes_regulated_by_protein(protein))\n",
    "print(lst[0:10])"
   ]
  },
  {
   "cell_type": "code",
   "execution_count": 17,
   "metadata": {},
   "outputs": [
    {
     "name": "stdout",
     "output_type": "stream",
     "text": [
      "[[], [], [], [], [], [u'|BS0-8242|', u'|BS0-8240|', u'|BS0-8239|', u'|BS0-8238|', u'|BS0-8237|', u'|BS0-8236|', u'|BS0-8235|', u'|BS0-8234|', u'|BS0-8233|', u'|BS0-8232|', u'|BS0-8231|'], [], [], [], []]\n"
     ]
    }
   ],
   "source": [
    "lst = []\n",
    "for protein in proteins:\n",
    "    lst.append(ecoli.DNA_binding_sites_of_protein(protein, all_forms = True))\n",
    "print(lst[0:10])"
   ]
  },
  {
   "cell_type": "code",
   "execution_count": 18,
   "metadata": {},
   "outputs": [
    {
     "name": "stdout",
     "output_type": "stream",
     "text": [
      "[[], [u'|PD01379|'], [], [], [], [u'|CPLX0-7756|'], [], [], [], []]\n"
     ]
    }
   ],
   "source": [
    "lst = []\n",
    "for tu in tus:\n",
    "    lst.append(ecoli.regulator_proteins_of_transcription_unit(tu))\n",
    "print(lst[0:10])"
   ]
  },
  {
   "cell_type": "code",
   "execution_count": 19,
   "metadata": {},
   "outputs": [],
   "source": [
    "# lst = []\n",
    "# for protein in proteins:\n",
    "#     print(protein)\n",
    "#     lst.append(ecoli.transcription_factor_ligands(protein, mode = u':both'))\n",
    "# print(lst[0:10])"
   ]
  },
  {
   "cell_type": "code",
   "execution_count": 20,
   "metadata": {},
   "outputs": [
    {
     "name": "stdout",
     "output_type": "stream",
     "text": [
      "[[], [], [], [], [], [u'|EG11356-MONOMER|'], [], [], [], []]\n"
     ]
    }
   ],
   "source": [
    "lst = []\n",
    "for protein in proteins:\n",
    "    lst.append(ecoli.transcription_factor_active_forms(protein))\n",
    "print(lst[0:10])"
   ]
  },
  {
   "cell_type": "code",
   "execution_count": 21,
   "metadata": {},
   "outputs": [
    {
     "name": "stdout",
     "output_type": "stream",
     "text": [
      "[[], [u'|G6761|', u'|EG10457|'], [u'|EG10533|'], [u'|G7826|', u'|EG10061|', u'|G6346|', u'|G0-9382|', u'|EG10325|', u'|EG10164|', u'|EG10643|'], [u'|G7072|'], [u'|EG10457|'], [], [], [], []]\n"
     ]
    }
   ],
   "source": [
    "lst = []\n",
    "for gene in genes:\n",
    "    lst.append(ecoli.genes_regulating_gene(gene))\n",
    "print(lst[0:10])"
   ]
  },
  {
   "cell_type": "code",
   "execution_count": 22,
   "metadata": {},
   "outputs": [
    {
     "name": "stdout",
     "output_type": "stream",
     "text": [
      "[[], [], [], [], [], [], [], [], [], []]\n"
     ]
    }
   ],
   "source": [
    "lst = []\n",
    "for gene in genes:\n",
    "    lst.append(ecoli.genes_regulated_by_gene(gene))\n",
    "print(lst[0:10])"
   ]
  },
  {
   "cell_type": "code",
   "execution_count": 23,
   "metadata": {},
   "outputs": [
    {
     "name": "stdout",
     "output_type": "stream",
     "text": [
      "[[None, None, None], [[u'|G6761-MONOMER|'], [u'|PD00288|'], None], [None, [u'|PC00010|'], None], [[u'|CPLX0-7721|', u'|PHOSPHO-ARCA|', u'|PHOSPHO-DPIA|'], [u'|RNA0-123|', u'|CPLX0-7797|', u'|CPLX0-226|', u'|PHOSPHO-NARL|'], None], [[u'|G7072-MONOMER|'], None, None], [None, [u'|PD00288|'], None], [None, None, None], [None, None, None], [None, None, None], [None, None, None]]\n"
     ]
    }
   ],
   "source": [
    "lst = []\n",
    "for gene in genes:\n",
    "    lst.append(ecoli.regulators_of_gene_transcription(gene, by_function = True))\n",
    "print(lst[0:10])"
   ]
  },
  {
   "cell_type": "code",
   "execution_count": 24,
   "metadata": {},
   "outputs": [
    {
     "name": "stdout",
     "output_type": "stream",
     "text": [
      "[[], [], [], [], [], [], [], [], [], []]\n"
     ]
    }
   ],
   "source": [
    "lst = []\n",
    "for tu in tus:\n",
    "    lst.append(ecoli.transcription_unit_activators(tu))\n",
    "print(lst[0:10])"
   ]
  },
  {
   "cell_type": "code",
   "execution_count": 25,
   "metadata": {},
   "outputs": [
    {
     "name": "stdout",
     "output_type": "stream",
     "text": [
      "[[], [u'|PD01379|'], [], [], [], [u'|CPLX0-7756|'], [], [], [], []]\n"
     ]
    }
   ],
   "source": [
    "lst = []\n",
    "for tu in tus:\n",
    "    lst.append(ecoli.transcription_unit_inhibitors(tu))\n",
    "print(lst[0:10])"
   ]
  },
  {
   "cell_type": "code",
   "execution_count": 26,
   "metadata": {},
   "outputs": [],
   "source": [
    "# lst = []\n",
    "# for tu in tus:\n",
    "#     lst.append(ecoli.regulators_of_operon_transcription(tu, by_function = True))\n",
    "# print(lst[0:10])"
   ]
  },
  {
   "cell_type": "code",
   "execution_count": 27,
   "metadata": {},
   "outputs": [
    {
     "name": "stdout",
     "output_type": "stream",
     "text": [
      "[None, u'|PM0-8720|', u'|PM0-10056|', None, None, u'|PM0-10445|', u'|PM0-2301|', u'|PM0-10109|', None, None]\n"
     ]
    }
   ],
   "source": [
    "lst = []\n",
    "for tu in tus:\n",
    "    lst.append(ecoli.transcription_unit_promoter(tu))\n",
    "print(lst[0:10])"
   ]
  },
  {
   "cell_type": "code",
   "execution_count": 28,
   "metadata": {},
   "outputs": [
    {
     "name": "stdout",
     "output_type": "stream",
     "text": [
      "[[u'|G6954|'], [u'|EG11346|'], [u'|G6919|'], [u'|EG11603|', u'|EG11602|'], [u'|G7483|'], [u'|EG11371|', u'|EG11372|'], [u'|G6447|', u'|EG10852|'], [u'|EG10510|'], [u'|EG10752|', u'|EG10751|', u'|EG10750|', u'|EG10749|'], [u'|G6935|']]\n"
     ]
    }
   ],
   "source": [
    "lst = []\n",
    "for tu in tus:\n",
    "    lst.append(ecoli.transcription_unit_genes(tu))\n",
    "print(lst[0:10])"
   ]
  },
  {
   "cell_type": "code",
   "execution_count": 29,
   "metadata": {},
   "outputs": [
    {
     "name": "stdout",
     "output_type": "stream",
     "text": [
      "[u'|G6954|', u'|EG11346|', u'|G6919|', u'|EG11603|', u'|G7483|', u'|EG11371|', u'|EG10852|', u'|EG10510|', u'|EG10749|', u'|G6935|']\n"
     ]
    }
   ],
   "source": [
    "lst = []\n",
    "for tu in tus:\n",
    "    lst.append(ecoli.transcription_unit_first_gene(tu))\n",
    "print(lst[0:10])"
   ]
  },
  {
   "cell_type": "code",
   "execution_count": 30,
   "metadata": {},
   "outputs": [
    {
     "name": "stdout",
     "output_type": "stream",
     "text": [
      "[[], [u'|BS0-8048|', u'|BS0-8047|'], [], [], [], [u'|BS0-7790|'], [], [], [], []]\n"
     ]
    }
   ],
   "source": [
    "lst = []\n",
    "for tu in tus:\n",
    "    lst.append(ecoli.transcription_unit_binding_sites(tu))\n",
    "print(lst[0:10])"
   ]
  },
  {
   "cell_type": "code",
   "execution_count": 31,
   "metadata": {},
   "outputs": [
    {
     "name": "stdout",
     "output_type": "stream",
     "text": [
      "[[], [u'|PD01379|'], [], [], [], [u'|CPLX0-7756|'], [], [], [], []]\n"
     ]
    }
   ],
   "source": [
    "lst = []\n",
    "for tu in tus:\n",
    "    lst.append(ecoli.transcription_unit_transcription_factors(tu))\n",
    "print(lst[0:10])"
   ]
  },
  {
   "cell_type": "code",
   "execution_count": 32,
   "metadata": {},
   "outputs": [
    {
     "name": "stdout",
     "output_type": "stream",
     "text": [
      "[[], [], [], [], [], [], [], [], [], []]\n"
     ]
    }
   ],
   "source": [
    "lst = []\n",
    "for tu in tus:\n",
    "    lst.append(ecoli.transcription_unit_mrna_binding_sites(tu))\n",
    "print(lst[0:10])"
   ]
  },
  {
   "cell_type": "code",
   "execution_count": 33,
   "metadata": {},
   "outputs": [
    {
     "name": "stdout",
     "output_type": "stream",
     "text": [
      "[u'|COLI-K12|', u'|COLI-K12|', u'|COLI-K12|', u'|COLI-K12|', u'|COLI-K12|', u'|COLI-K12|', u'|COLI-K12|', u'|COLI-K12|', u'|COLI-K12|', u'|COLI-K12|']\n"
     ]
    }
   ],
   "source": [
    "lst = []\n",
    "for tu in tus:\n",
    "    lst.append(ecoli.chromosome_of_operon(tu))\n",
    "print(lst[0:10])"
   ]
  },
  {
   "cell_type": "code",
   "execution_count": 34,
   "metadata": {},
   "outputs": [
    {
     "name": "stdout",
     "output_type": "stream",
     "text": [
      "[[], [u'|BS0-7937|', u'|BS0-7936|', u'|BS0-7935|', u'|BS0-7225|'], [u'|BS0-7736|', u'|BS0-7823|'], [u'|BS0-8183|', u'|BS0-8182|', u'|BS0-8173|', u'|BS0-8179|', u'|BS0-8178|', u'|BS0-8181|', u'|BS0-8180|', u'|BS0-8177|', u'|BS0-8174|', u'|BS0-7726|'], [u'|BS0-8370|'], [u'|BS0-2221|'], [], [], [], []]\n"
     ]
    }
   ],
   "source": [
    "lst = []\n",
    "for gene in genes:\n",
    "    lst.append(ecoli.binding_sites_affecting_gene(gene))\n",
    "print(lst[0:10])"
   ]
  },
  {
   "cell_type": "code",
   "execution_count": 35,
   "metadata": {},
   "outputs": [
    {
     "name": "stdout",
     "output_type": "stream",
     "text": [
      "[[], [], [], [], [], [], [], [], [], []]\n"
     ]
    }
   ],
   "source": [
    "lst = []\n",
    "for gene in genes:\n",
    "    lst.append(ecoli.binding_site_to_regulators(gene))\n",
    "print(lst[0:10])"
   ]
  },
  {
   "cell_type": "code",
   "execution_count": 36,
   "metadata": {},
   "outputs": [
    {
     "name": "stdout",
     "output_type": "stream",
     "text": [
      "[[u'|PHOSPHO-PHOB|'], [u'|CPLX0-7639|'], [u'|CPLX0-7680|'], [u'|PD03028|'], [u'|CPLX0-226|'], [u'|PD00288|'], [u'|PHOSPHO-PHOB|'], [u'|CPLX0-7705|'], [u'|PD00288|'], [u'|PC00010|']]\n"
     ]
    }
   ],
   "source": [
    "lst = []\n",
    "for dna_site in dna_sites:\n",
    "    lst.append(ecoli.binding_site_to_regulators(dna_site))\n",
    "print(lst[0:10])"
   ]
  },
  {
   "cell_type": "code",
   "execution_count": 37,
   "metadata": {},
   "outputs": [
    {
     "name": "stdout",
     "output_type": "stream",
     "text": [
      "[[u'|TU0-13975|'], [u'|TU0-8636|'], [], [u'|TU0-13241|'], [u'|TU0-4191|'], [], [u'|TU00172|'], [u'|TU0-42559|'], [], [u'|TU00091|']]\n"
     ]
    }
   ],
   "source": [
    "lst = []\n",
    "for promoter in promoters:\n",
    "    lst.append(ecoli.transcription_units_of_promoter(promoter))\n",
    "print(lst[0:10])"
   ]
  },
  {
   "cell_type": "code",
   "execution_count": 38,
   "metadata": {},
   "outputs": [
    {
     "name": "stdout",
     "output_type": "stream",
     "text": [
      "[[], [], [], [u'|BS0-7282|'], [], [], [u'|BS00715|', u'|BS00714|', u'|BS00713|', u'|BS00712|', u'|BS00427|', u'|BS00409|'], [], [], [u'|BS756|', u'|BS00267|', u'|BS282|']]\n"
     ]
    }
   ],
   "source": [
    "lst = []\n",
    "for promoter in promoters:\n",
    "    lst.append(ecoli.promoter_binding_sites(promoter))\n",
    "print(lst[0:10])"
   ]
  },
  {
   "cell_type": "code",
   "execution_count": 39,
   "metadata": {},
   "outputs": [
    {
     "name": "stdout",
     "output_type": "stream",
     "text": [
      "[[], [], [], [], [], [], [], [], [], []]\n"
     ]
    }
   ],
   "source": [
    "lst = []\n",
    "for tu in tus:\n",
    "    lst.append(ecoli.transcription_unit_terminators(tu))\n",
    "print(lst[0:10])"
   ]
  },
  {
   "cell_type": "code",
   "execution_count": 40,
   "metadata": {},
   "outputs": [
    {
     "name": "stdout",
     "output_type": "stream",
     "text": [
      "[[u'|TU0-8814|'], [u'|TU0-8340|'], [u'|TU0-8710|'], [u'|TU0-13847|'], [u'|TU0-13769|'], [u'|TU0-13667|'], [u'|TU0-2121|'], [u'|TU0-14650|'], [u'|TU00321|'], [u'|TU0-13385|']]\n",
      "[[u'|TU0-42642|', u'|TU0-42640|', u'|TU0-42638|', u'|TU0-42636|', u'|TU281|', u'|TU00342|'], [u'|TU00392|'], [u'|TU0-8480|'], [u'|TU0-8682|'], [], [u'|TU00524|', u'|TU00103|'], [u'|TU00128|'], [u'|TU00449|', u'|TU00450|'], [u'|TU00015|', u'|TU00014|'], [u'|TU00211|']]\n",
      "[[u'|TU0-2021|'], [u'|TU0-13514|'], [u'|TU0-8330|'], [u'|TU00168|'], [u'|TU586|'], [u'|TU00282|'], [u'|TU0-5981|'], [u'|TU0-2603|'], [u'|TU0-8586|'], [u'|TU00353|']]\n",
      "[[u'|TU0-13975|'], [u'|TU0-8636|'], [], [u'|TU0-13241|'], [u'|TU0-4191|'], [], [u'|TU00172|'], [u'|TU0-42559|'], [], [u'|TU00091|']]\n",
      "[[u'|TU0-14216|'], [u'|TU0-36408|', u'|TU0-13193|'], [u'|TU0-12853|', u'|TU0-12854|'], [u'|TU0-14751|', u'|TU0-13000|'], [u'|TU0-42535|', u'|TU0-41778|', u'|TU0-3644|'], [u'|TU0-3141|'], [u'|TU0-13049|'], [u'|TU0-13024|'], [u'|TU0-13321|'], [u'|TU0-13373|']]\n",
      "[[u'|TU-8390|', u'|TU-8389|'], [u'|TU00091|'], [u'|TU0-41793|', u'|TU0-41792|', u'|TU0-41791|', u'|TU369|'], [u'|TU490|', u'|TU489|', u'|TU488|', u'|TU487|'], [u'|TU0-13792|'], [u'|TU0-6636|', u'|TU0-6635|', u'|TU00243|'], [u'|TU00139|'], [u'|TU0-14640|', u'|TU0-7421|'], [u'|TU586|', u'|TU0-2261|'], [u'|TU00173|']]\n"
     ]
    }
   ],
   "source": [
    "lst = []\n",
    "for tu in tus:\n",
    "    lst.append(ecoli.containing_tus(tu))\n",
    "print(lst[0:10])\n",
    "\n",
    "lst = []\n",
    "for tu in mrna_sites:\n",
    "    lst.append(ecoli.containing_tus(tu))\n",
    "print(lst[0:10])\n",
    "\n",
    "lst = []\n",
    "for tu in dna_sites:\n",
    "    lst.append(ecoli.containing_tus(tu))\n",
    "print(lst[0:10])\n",
    "\n",
    "lst = []\n",
    "for tu in promoters:\n",
    "    lst.append(ecoli.containing_tus(tu))\n",
    "print(lst[0:10])\n",
    "\n",
    "lst = []\n",
    "for tu in genes:\n",
    "    lst.append(ecoli.containing_tus(tu))\n",
    "print(lst[0:10])\n",
    "\n",
    "lst = []\n",
    "for tu in terminators:\n",
    "    lst.append(ecoli.containing_tus(tu))\n",
    "print(lst[0:10])"
   ]
  },
  {
   "cell_type": "code",
   "execution_count": 41,
   "metadata": {},
   "outputs": [
    {
     "name": "stdout",
     "output_type": "stream",
     "text": [
      "[u'|COLI-K12|', u'|COLI-K12|', u'|COLI-K12|', u'|COLI-K12|', u'|COLI-K12|', u'|COLI-K12|', u'|COLI-K12|', u'|COLI-K12|', u'|COLI-K12|', u'|COLI-K12|']\n",
      "[u'|COLI-K12|', u'|COLI-K12|', u'|COLI-K12|', u'|COLI-K12|', u'|COLI-K12|', u'|COLI-K12|', u'|COLI-K12|', u'|COLI-K12|', u'|COLI-K12|', u'|COLI-K12|']\n",
      "[u'|COLI-K12|', u'|COLI-K12|', u'|COLI-K12|', u'|COLI-K12|', u'|COLI-K12|', u'|COLI-K12|', u'|COLI-K12|', u'|COLI-K12|', u'|COLI-K12|', u'|COLI-K12|']\n",
      "[u'|COLI-K12|', u'|COLI-K12|', u'|COLI-K12|', u'|COLI-K12|', u'|COLI-K12|', u'|COLI-K12|', u'|COLI-K12|', u'|COLI-K12|', u'|COLI-K12|', u'|COLI-K12|']\n",
      "[u'|COLI-K12|', u'|COLI-K12|', u'|COLI-K12|', u'|COLI-K12|', u'|COLI-K12|', u'|COLI-K12|', u'|COLI-K12|', u'|COLI-K12|', u'|COLI-K12|', u'|COLI-K12|']\n",
      "[u'|COLI-K12|', u'|COLI-K12|', u'|COLI-K12|', u'|COLI-K12|', u'|COLI-K12|', u'|COLI-K12|', u'|COLI-K12|', u'|COLI-K12|', u'|COLI-K12|', u'|COLI-K12|']\n"
     ]
    }
   ],
   "source": [
    "lst = []\n",
    "for tu in tus:\n",
    "    lst.append(ecoli.containing_chromosome(tu))\n",
    "print(lst[0:10])\n",
    "\n",
    "lst = []\n",
    "for tu in mrna_sites:\n",
    "    lst.append(ecoli.containing_chromosome(tu))\n",
    "print(lst[0:10])\n",
    "\n",
    "lst = []\n",
    "for tu in dna_sites:\n",
    "    lst.append(ecoli.containing_chromosome(tu))\n",
    "print(lst[0:10])\n",
    "\n",
    "lst = []\n",
    "for tu in promoters:\n",
    "    lst.append(ecoli.containing_chromosome(tu))\n",
    "print(lst[0:10])\n",
    "\n",
    "lst = []\n",
    "for tu in genes:\n",
    "    lst.append(ecoli.containing_chromosome(tu))\n",
    "print(lst[0:10])\n",
    "\n",
    "lst = []\n",
    "for tu in terminators:\n",
    "    lst.append(ecoli.containing_chromosome(tu))\n",
    "print(lst[0:10])"
   ]
  },
  {
   "cell_type": "code",
   "execution_count": 42,
   "metadata": {},
   "outputs": [
    {
     "name": "stdout",
     "output_type": "stream",
     "text": [
      "[[u'|PM0-2201|'], [u'|PM0-9620|'], [u'|PM0-8710|'], [u'|PM00231|'], [u'|PM461|'], [u'|PM928|'], [u'|PM00448|'], [u'|PM00457|'], [u'|PM0-36192|'], [u'|PM00386|']]\n"
     ]
    }
   ],
   "source": [
    "lst = []\n",
    "for dna_site in dna_sites:\n",
    "    lst.append(ecoli.binding_site_promoters(dna_site))\n",
    "print(lst[0:10])"
   ]
  },
  {
   "cell_type": "code",
   "execution_count": 43,
   "metadata": {},
   "outputs": [
    {
     "name": "stdout",
     "output_type": "stream",
     "text": [
      "[[u'|G6954|'], [u'|PM0-8720|', u'|EG11346|', u'|BS0-8048|', u'|BS0-8047|'], [u'|PM0-10056|', u'|G6919|'], [u'|EG11603|', u'|EG11602|'], [u'|G7483|'], [u'|PM0-10445|', u'|EG11371|', u'|EG11372|', u'|BS0-7790|'], [u'|PM0-2301|', u'|G6447|', u'|EG10852|'], [u'|PM0-10109|', u'|EG10510|'], [u'|EG10752|', u'|EG10751|', u'|EG10750|', u'|EG10749|'], [u'|G6935|']]\n"
     ]
    }
   ],
   "source": [
    "lst = []\n",
    "for tu in tus:\n",
    "    lst.append(ecoli.transcription_unit_all_components(tu))\n",
    "print(lst[0:10])"
   ]
  },
  {
   "cell_type": "code",
   "execution_count": 44,
   "metadata": {},
   "outputs": [
    {
     "name": "stdout",
     "output_type": "stream",
     "text": [
      "[[u'|TU0-2021|'], [u'|TU0-13514|'], [u'|TU0-8330|'], [u'|TU00168|'], [u'|TU586|'], [u'|TU00282|'], [u'|TU0-5981|'], [u'|TU0-2603|'], [u'|TU0-8586|'], [u'|TU00353|']]\n",
      "[[u'|TU0-42642|', u'|TU0-42640|', u'|TU0-42638|', u'|TU0-42636|', u'|TU281|', u'|TU00342|'], [u'|TU00392|'], [u'|TU0-8480|'], [u'|TU0-8682|'], [], [u'|TU00524|', u'|TU00103|'], [u'|TU00128|'], [u'|TU00449|', u'|TU00450|'], [u'|TU00015|', u'|TU00014|'], [u'|TU00211|']]\n"
     ]
    }
   ],
   "source": [
    "lst = []\n",
    "for dna_site in dna_sites:\n",
    "    lst.append(ecoli.binding_site_transcription_units(dna_site))\n",
    "print(lst[0:10])\n",
    "\n",
    "lst = []\n",
    "for mrna_site in mrna_sites:\n",
    "    lst.append(ecoli.binding_site_transcription_units(mrna_site))\n",
    "print(lst[0:10])"
   ]
  }
 ],
 "metadata": {
  "kernelspec": {
   "display_name": "Python 2",
   "language": "python",
   "name": "python2"
  },
  "language_info": {
   "codemirror_mode": {
    "name": "ipython",
    "version": 2
   },
   "file_extension": ".py",
   "mimetype": "text/x-python",
   "name": "python",
   "nbconvert_exporter": "python",
   "pygments_lexer": "ipython2",
   "version": "2.7.15rc1"
  }
 },
 "nbformat": 4,
 "nbformat_minor": 2
}
