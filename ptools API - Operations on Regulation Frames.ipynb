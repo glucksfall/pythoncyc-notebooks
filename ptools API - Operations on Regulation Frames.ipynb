{
 "cells": [
  {
   "cell_type": "code",
   "execution_count": 1,
   "metadata": {},
   "outputs": [
    {
     "data": {
      "text/plain": [
       "0"
      ]
     },
     "execution_count": 1,
     "metadata": {},
     "output_type": "execute_result"
    }
   ],
   "source": [
    "#to run the script, you need to start pathway tools form the command line \n",
    "# using the -lisp -python options. Example (from the pathway tools github repository)\n",
    "import os\n",
    "# os.system('nohup /opt/pathway-tools/pathway-tools -lisp -python &')\n",
    "os.system('nohup /opt/pathway-tools/pathway-tools -lisp -python-local-only &') # added cybersecurity\n",
    "os.system('nohup /shared/D1/opt/pathway-tools/pathway-tools -lisp -python-local-only &') # added cybersecurity"
   ]
  },
  {
   "cell_type": "code",
   "execution_count": 2,
   "metadata": {},
   "outputs": [
    {
     "data": {
      "text/plain": [
       "['/opt/repositories/git-reps/pythoncyc-notebooks.glucksfall/PythonCyc']"
      ]
     },
     "execution_count": 2,
     "metadata": {},
     "output_type": "execute_result"
    }
   ],
   "source": [
    "# modify sys.path to recognize local pythoncyc\n",
    "import os\n",
    "import sys\n",
    "module_path = os.path.abspath(os.path.join('./PythonCyc/'))\n",
    "sys.path = [module_path]\n",
    "\n",
    "sys.path"
   ]
  },
  {
   "cell_type": "code",
   "execution_count": 3,
   "metadata": {},
   "outputs": [
    {
     "name": "stdout",
     "output_type": "stream",
     "text": [
      "rm: cannot remove './PythonCyc/pythoncyc/*pyc': No such file or directory\n",
      "[u'|META|', u'|ECOLI|']\n"
     ]
    }
   ],
   "source": [
    "# remove pyc files\n",
    "!rm ./PythonCyc/pythoncyc/*pyc\n",
    "\n",
    "import pythoncyc\n",
    "all_orgids = pythoncyc.all_orgids()\n",
    "print all_orgids\n",
    "\n",
    "meta = pythoncyc.select_organism(u'|META|')\n",
    "ecoli = pythoncyc.select_organism(u'|ECOLI|')\n",
    "\n",
    "regs = [x.frameid for x in ecoli.regulation.instances][0:2]\n",
    "genes = [x.frameid for x in ecoli.genes.instances][0:2]\n",
    "proteins = [x.frameid for x in ecoli.proteins.instances][0:2]\n",
    "tus = [x.frameid for x in ecoli.transcription_units.instances][0:2]\n",
    "dna_sites = [x.frameid for x in ecoli.DNA_Binding_Sites.instances][0:2]\n",
    "mrna_sites = [x.frameid for x in ecoli.mRNA_Binding_Sites.instances][0:2]\n",
    "terminators = [x.frameid for x in ecoli.Terminators.instances][0:2]\n",
    "promoters = [x.frameid for x in ecoli.Promoters.instances][0:2]"
   ]
  },
  {
   "cell_type": "code",
   "execution_count": 4,
   "metadata": {},
   "outputs": [],
   "source": [
    "genes = [u'|EG10527|']"
   ]
  },
  {
   "cell_type": "code",
   "execution_count": 5,
   "metadata": {},
   "outputs": [
    {
     "name": "stdout",
     "output_type": "stream",
     "text": [
      "[True, False]\n"
     ]
    }
   ],
   "source": [
    "lst = []\n",
    "for reg in regs:\n",
    "    lst.append(ecoli.activation_p(reg))\n",
    "print(lst[-10:])"
   ]
  },
  {
   "cell_type": "code",
   "execution_count": 6,
   "metadata": {},
   "outputs": [
    {
     "name": "stdout",
     "output_type": "stream",
     "text": [
      "[False, True]\n"
     ]
    }
   ],
   "source": [
    "lst = []\n",
    "for reg in regs:\n",
    "    lst.append(ecoli.inhibition_p(reg))\n",
    "print(lst[-10:])"
   ]
  },
  {
   "cell_type": "code",
   "execution_count": 9,
   "metadata": {},
   "outputs": [
    {
     "name": "stdout",
     "output_type": "stream",
     "text": [
      "[[]]\n"
     ]
    }
   ],
   "source": [
    "lst = []\n",
    "for gene in genes:\n",
    "    lst.append(ecoli.direct_regulators(gene))\n",
    "print(lst[-10:])"
   ]
  },
  {
   "cell_type": "code",
   "execution_count": 10,
   "metadata": {},
   "outputs": [
    {
     "name": "stdout",
     "output_type": "stream",
     "text": [
      "[[]]\n"
     ]
    }
   ],
   "source": [
    "lst = []\n",
    "for gene in genes:\n",
    "    lst.append(ecoli.direct_activators(gene))\n",
    "print(lst[-10:])"
   ]
  },
  {
   "cell_type": "code",
   "execution_count": 11,
   "metadata": {},
   "outputs": [
    {
     "name": "stdout",
     "output_type": "stream",
     "text": [
      "[[]]\n"
     ]
    }
   ],
   "source": [
    "lst = []\n",
    "for gene in genes:\n",
    "    lst.append(ecoli.direct_inhibitors(gene))\n",
    "print(lst[-10:])"
   ]
  },
  {
   "cell_type": "code",
   "execution_count": 12,
   "metadata": {},
   "outputs": [],
   "source": [
    "try:\n",
    "    lst = []\n",
    "    for protein in proteins:\n",
    "        lst.append(ecoli.transcription_factor_p(protein))\n",
    "    print(lst[-10:])\n",
    "except:\n",
    "    pass"
   ]
  },
  {
   "cell_type": "code",
   "execution_count": 13,
   "metadata": {},
   "outputs": [],
   "source": [
    "try:\n",
    "    lst = []\n",
    "    for protein in proteins:\n",
    "        lst.append(ecoli.regulator_of_type(protein, class_name = ':activator'))\n",
    "    print(lst[-10:])\n",
    "except:\n",
    "    pass"
   ]
  },
  {
   "cell_type": "code",
   "execution_count": 14,
   "metadata": {},
   "outputs": [
    {
     "name": "stdout",
     "output_type": "stream",
     "text": [
      "[[], []]\n"
     ]
    }
   ],
   "source": [
    "lst = []\n",
    "for protein in proteins:\n",
    "    lst.append(ecoli.regulon_of_protein(protein))\n",
    "print(lst[-10:])"
   ]
  },
  {
   "cell_type": "code",
   "execution_count": 15,
   "metadata": {},
   "outputs": [
    {
     "name": "stdout",
     "output_type": "stream",
     "text": [
      "[[u'|TU162|'], [u'|TU461|']]\n"
     ]
    }
   ],
   "source": [
    "lst = []\n",
    "for reg in regs:\n",
    "    lst.append(ecoli.regulation_frame_transcription_units(reg))\n",
    "print(lst[-10:])"
   ]
  },
  {
   "cell_type": "code",
   "execution_count": 16,
   "metadata": {},
   "outputs": [
    {
     "name": "stdout",
     "output_type": "stream",
     "text": [
      "[[], [u'|REG0-11053|', u'|REG0-11052|']]\n"
     ]
    }
   ],
   "source": [
    "lst = []\n",
    "for tu in tus:\n",
    "    lst.append(ecoli.transcription_unit_regulation_frames(tu))\n",
    "print(lst[-10:])"
   ]
  },
  {
   "cell_type": "code",
   "execution_count": 17,
   "metadata": {},
   "outputs": [
    {
     "name": "stdout",
     "output_type": "stream",
     "text": [
      "[[], []]\n"
     ]
    }
   ],
   "source": [
    "lst = []\n",
    "for tu in tus:\n",
    "    lst.append(ecoli.transcription_unit_activation_frames(tu))\n",
    "print(lst[-10:])"
   ]
  },
  {
   "cell_type": "code",
   "execution_count": 18,
   "metadata": {},
   "outputs": [
    {
     "name": "stdout",
     "output_type": "stream",
     "text": [
      "[[], [u'|REG0-11053|', u'|REG0-11052|']]\n"
     ]
    }
   ],
   "source": [
    "lst = []\n",
    "for tu in tus:\n",
    "    lst.append(ecoli.transcription_unit_inhibition_frames(tu))\n",
    "print(lst[-10:])"
   ]
  },
  {
   "cell_type": "code",
   "execution_count": 19,
   "metadata": {},
   "outputs": [
    {
     "name": "stdout",
     "output_type": "stream",
     "text": [
      "[[], []]\n"
     ]
    }
   ],
   "source": [
    "lst = []\n",
    "for protein in proteins:\n",
    "    lst.append(ecoli.transcription_units_of_protein(protein))\n",
    "print(lst[-10:])"
   ]
  },
  {
   "cell_type": "code",
   "execution_count": 20,
   "metadata": {},
   "outputs": [
    {
     "name": "stdout",
     "output_type": "stream",
     "text": [
      "[[], []]\n"
     ]
    }
   ],
   "source": [
    "lst = []\n",
    "for protein in proteins:\n",
    "    lst.append(ecoli.genes_regulated_by_protein(protein))\n",
    "print(lst[-10:])"
   ]
  },
  {
   "cell_type": "code",
   "execution_count": 21,
   "metadata": {},
   "outputs": [
    {
     "name": "stdout",
     "output_type": "stream",
     "text": [
      "[[], []]\n"
     ]
    }
   ],
   "source": [
    "lst = []\n",
    "for protein in proteins:\n",
    "    lst.append(ecoli.DNA_binding_sites_of_protein(protein, all_forms = True))\n",
    "print(lst[-10:])"
   ]
  },
  {
   "cell_type": "code",
   "execution_count": 22,
   "metadata": {},
   "outputs": [
    {
     "name": "stdout",
     "output_type": "stream",
     "text": [
      "[[], [u'|PD01379|']]\n"
     ]
    }
   ],
   "source": [
    "lst = []\n",
    "for tu in tus:\n",
    "    lst.append(ecoli.regulator_proteins_of_transcription_unit(tu))\n",
    "print(lst[-10:])"
   ]
  },
  {
   "cell_type": "code",
   "execution_count": 23,
   "metadata": {},
   "outputs": [],
   "source": [
    "try:\n",
    "    lst = []\n",
    "    for protein in proteins:\n",
    "        lst.append(ecoli.transcription_factor_ligands(protein, u':both'))\n",
    "    print(lst[-10:])\n",
    "except:\n",
    "    pass"
   ]
  },
  {
   "cell_type": "code",
   "execution_count": 24,
   "metadata": {},
   "outputs": [
    {
     "name": "stdout",
     "output_type": "stream",
     "text": [
      "[[], []]\n"
     ]
    }
   ],
   "source": [
    "lst = []\n",
    "for protein in proteins:\n",
    "    lst.append(ecoli.transcription_factor_active_forms(protein))\n",
    "print(lst[-10:])"
   ]
  },
  {
   "cell_type": "code",
   "execution_count": 25,
   "metadata": {},
   "outputs": [
    {
     "name": "stdout",
     "output_type": "stream",
     "text": [
      "[[u'|EG10525|', u'|EG10457|', u'|EG10164|']]\n"
     ]
    }
   ],
   "source": [
    "lst = []\n",
    "for gene in genes:\n",
    "    lst.append(ecoli.genes_regulating_gene(gene))\n",
    "print(lst[-10:])"
   ]
  },
  {
   "cell_type": "code",
   "execution_count": 26,
   "metadata": {},
   "outputs": [
    {
     "name": "stdout",
     "output_type": "stream",
     "text": [
      "[[]]\n"
     ]
    }
   ],
   "source": [
    "lst = []\n",
    "for gene in genes:\n",
    "    lst.append(ecoli.genes_regulated_by_gene(gene))\n",
    "print(lst[-10:])"
   ]
  },
  {
   "cell_type": "code",
   "execution_count": 28,
   "metadata": {},
   "outputs": [
    {
     "name": "stdout",
     "output_type": "stream",
     "text": [
      "[[u'|PD00763|', u'|PD00288|', u'|CPLX0-226|']]\n"
     ]
    }
   ],
   "source": [
    "lst = []\n",
    "for gene in genes:\n",
    "    lst.append(ecoli.regulators_of_gene_transcription(gene, by_function = False))\n",
    "print(lst[-10:])"
   ]
  },
  {
   "cell_type": "code",
   "execution_count": 29,
   "metadata": {},
   "outputs": [
    {
     "name": "stdout",
     "output_type": "stream",
     "text": [
      "[[], []]\n"
     ]
    }
   ],
   "source": [
    "lst = []\n",
    "for tu in tus:\n",
    "    lst.append(ecoli.transcription_unit_activators(tu))\n",
    "print(lst[-10:])"
   ]
  },
  {
   "cell_type": "code",
   "execution_count": 30,
   "metadata": {},
   "outputs": [
    {
     "name": "stdout",
     "output_type": "stream",
     "text": [
      "[[], [u'|PD01379|']]\n"
     ]
    }
   ],
   "source": [
    "lst = []\n",
    "for tu in tus:\n",
    "    lst.append(ecoli.transcription_unit_inhibitors(tu))\n",
    "print(lst[-10:])"
   ]
  },
  {
   "cell_type": "code",
   "execution_count": 31,
   "metadata": {},
   "outputs": [
    {
     "ename": "PToolsError",
     "evalue": "An internal error occurred in the running Pathway Tools application: :error, During the evaluation of '(WITH-ORGANISM\n                                   (:ORG-ID 'ECOLI)\n                                   (REGULATORS-OF-OPERON-TRANSCRIPTION\n                                    'TU0-8814\n                                    T))', the following error occurred: #<TYPE-ERROR\n                                                                          @\n                                                                          #x100420f1142>",
     "output_type": "error",
     "traceback": [
      "\u001b[0;31m\u001b[0m",
      "\u001b[0;31mPToolsError\u001b[0mTraceback (most recent call last)",
      "\u001b[0;32m<ipython-input-31-38c27c85248f>\u001b[0m in \u001b[0;36m<module>\u001b[0;34m()\u001b[0m\n\u001b[1;32m      1\u001b[0m \u001b[0mlst\u001b[0m \u001b[0;34m=\u001b[0m \u001b[0;34m[\u001b[0m\u001b[0;34m]\u001b[0m\u001b[0;34m\u001b[0m\u001b[0;34m\u001b[0m\u001b[0m\n\u001b[1;32m      2\u001b[0m \u001b[0;32mfor\u001b[0m \u001b[0mtu\u001b[0m \u001b[0;32min\u001b[0m \u001b[0mtus\u001b[0m\u001b[0;34m:\u001b[0m\u001b[0;34m\u001b[0m\u001b[0;34m\u001b[0m\u001b[0m\n\u001b[0;32m----> 3\u001b[0;31m     \u001b[0mlst\u001b[0m\u001b[0;34m.\u001b[0m\u001b[0mappend\u001b[0m\u001b[0;34m(\u001b[0m\u001b[0mecoli\u001b[0m\u001b[0;34m.\u001b[0m\u001b[0mregulators_of_operon_transcription\u001b[0m\u001b[0;34m(\u001b[0m\u001b[0mtu\u001b[0m\u001b[0;34m,\u001b[0m \u001b[0mby_function\u001b[0m \u001b[0;34m=\u001b[0m \u001b[0mTrue\u001b[0m\u001b[0;34m)\u001b[0m\u001b[0;34m)\u001b[0m\u001b[0;34m\u001b[0m\u001b[0;34m\u001b[0m\u001b[0m\n\u001b[0m\u001b[1;32m      4\u001b[0m \u001b[0;32mprint\u001b[0m\u001b[0;34m(\u001b[0m\u001b[0mlst\u001b[0m\u001b[0;34m[\u001b[0m\u001b[0;34m-\u001b[0m\u001b[0;36m10\u001b[0m\u001b[0;34m:\u001b[0m\u001b[0;34m]\u001b[0m\u001b[0;34m)\u001b[0m\u001b[0;34m\u001b[0m\u001b[0;34m\u001b[0m\u001b[0m\n",
      "\u001b[0;32m/opt/repositories/git-reps/pythoncyc-notebooks.glucksfall/PythonCyc/pythoncyc/PGDB.py\u001b[0m in \u001b[0;36mregulators_of_operon_transcription\u001b[0;34m(self, operon_list, by_function)\u001b[0m\n\u001b[1;32m   2848\u001b[0m       \"\"\"\n\u001b[1;32m   2849\u001b[0m       \u001b[0;31m# Parameter by_function is optional for the Lisp fn.\u001b[0m\u001b[0;34m\u001b[0m\u001b[0;34m\u001b[0m\u001b[0;34m\u001b[0m\u001b[0m\n\u001b[0;32m-> 2850\u001b[0;31m       \u001b[0;32mreturn\u001b[0m \u001b[0mself\u001b[0m\u001b[0;34m.\u001b[0m\u001b[0msendPgdbFnCallList\u001b[0m\u001b[0;34m(\u001b[0m\u001b[0;34m'regulators-of-operon-transcription'\u001b[0m\u001b[0;34m,\u001b[0m \u001b[0mmay_be_frameid\u001b[0m\u001b[0;34m(\u001b[0m\u001b[0moperon_list\u001b[0m\u001b[0;34m)\u001b[0m\u001b[0;34m,\u001b[0m \u001b[0mby_function\u001b[0m\u001b[0;34m)\u001b[0m\u001b[0;34m\u001b[0m\u001b[0;34m\u001b[0m\u001b[0m\n\u001b[0m\u001b[1;32m   2851\u001b[0m \u001b[0;34m\u001b[0m\u001b[0m\n\u001b[1;32m   2852\u001b[0m     \u001b[0;32mdef\u001b[0m \u001b[0mtranscription_unit_promoter\u001b[0m\u001b[0;34m(\u001b[0m\u001b[0mself\u001b[0m\u001b[0;34m,\u001b[0m \u001b[0mtu\u001b[0m\u001b[0;34m)\u001b[0m\u001b[0;34m:\u001b[0m\u001b[0;34m\u001b[0m\u001b[0;34m\u001b[0m\u001b[0m\n",
      "\u001b[0;32m/opt/repositories/git-reps/pythoncyc-notebooks.glucksfall/PythonCyc/pythoncyc/PGDB.py\u001b[0m in \u001b[0;36msendPgdbFnCallList\u001b[0;34m(self, fn, *args, **kwargs)\u001b[0m\n\u001b[1;32m    356\u001b[0m         \u001b[0mThis\u001b[0m \u001b[0mmethod\u001b[0m \u001b[0mtakes\u001b[0m \u001b[0mcare\u001b[0m \u001b[0mof\u001b[0m \u001b[0mtranslating\u001b[0m \u001b[0mno\u001b[0m \u001b[0mvalue\u001b[0m \u001b[0;32mor\u001b[0m \u001b[0mFalse\u001b[0m \u001b[0mto\u001b[0m \u001b[0man\u001b[0m \u001b[0mempty\u001b[0m \u001b[0mlist\u001b[0m\u001b[0;34m.\u001b[0m\u001b[0;34m\u001b[0m\u001b[0;34m\u001b[0m\u001b[0m\n\u001b[1;32m    357\u001b[0m         \"\"\"\n\u001b[0;32m--> 358\u001b[0;31m         \u001b[0mresult\u001b[0m \u001b[0;34m=\u001b[0m \u001b[0mself\u001b[0m\u001b[0;34m.\u001b[0m\u001b[0msendPgdbFnCall\u001b[0m\u001b[0;34m(\u001b[0m\u001b[0mfn\u001b[0m\u001b[0;34m,\u001b[0m \u001b[0;34m*\u001b[0m\u001b[0margs\u001b[0m\u001b[0;34m,\u001b[0m \u001b[0;34m**\u001b[0m\u001b[0mkwargs\u001b[0m\u001b[0;34m)\u001b[0m\u001b[0;34m\u001b[0m\u001b[0;34m\u001b[0m\u001b[0m\n\u001b[0m\u001b[1;32m    359\u001b[0m         \u001b[0;32mif\u001b[0m \u001b[0mresult\u001b[0m \u001b[0;34m==\u001b[0m \u001b[0mNone\u001b[0m \u001b[0;32mor\u001b[0m \u001b[0mresult\u001b[0m \u001b[0;34m==\u001b[0m \u001b[0mFalse\u001b[0m\u001b[0;34m:\u001b[0m\u001b[0;34m\u001b[0m\u001b[0;34m\u001b[0m\u001b[0m\n\u001b[1;32m    360\u001b[0m             \u001b[0;32mreturn\u001b[0m \u001b[0;34m[\u001b[0m\u001b[0;34m]\u001b[0m\u001b[0;34m\u001b[0m\u001b[0;34m\u001b[0m\u001b[0m\n",
      "\u001b[0;32m/opt/repositories/git-reps/pythoncyc-notebooks.glucksfall/PythonCyc/pythoncyc/PGDB.py\u001b[0m in \u001b[0;36msendPgdbFnCall\u001b[0;34m(self, fn, *args, **kwargs)\u001b[0m\n\u001b[1;32m    368\u001b[0m         \"\"\"\n\u001b[1;32m    369\u001b[0m         \u001b[0mfnCall\u001b[0m \u001b[0;34m=\u001b[0m \u001b[0mprepareFnCall\u001b[0m\u001b[0;34m(\u001b[0m\u001b[0mfn\u001b[0m\u001b[0;34m,\u001b[0m \u001b[0;34m*\u001b[0m\u001b[0margs\u001b[0m\u001b[0;34m,\u001b[0m \u001b[0;34m**\u001b[0m\u001b[0mkwargs\u001b[0m\u001b[0;34m)\u001b[0m\u001b[0;34m\u001b[0m\u001b[0;34m\u001b[0m\u001b[0m\n\u001b[0;32m--> 370\u001b[0;31m         \u001b[0;32mreturn\u001b[0m \u001b[0mself\u001b[0m\u001b[0;34m.\u001b[0m\u001b[0msendPgdbQuery\u001b[0m\u001b[0;34m(\u001b[0m\u001b[0mfnCall\u001b[0m\u001b[0;34m)\u001b[0m\u001b[0;34m\u001b[0m\u001b[0;34m\u001b[0m\u001b[0m\n\u001b[0m\u001b[1;32m    371\u001b[0m \u001b[0;34m\u001b[0m\u001b[0m\n\u001b[1;32m    372\u001b[0m     \u001b[0;32mdef\u001b[0m \u001b[0mis_a_class_name\u001b[0m\u001b[0;34m(\u001b[0m\u001b[0mself\u001b[0m\u001b[0;34m,\u001b[0m \u001b[0mclassName\u001b[0m\u001b[0;34m)\u001b[0m\u001b[0;34m:\u001b[0m\u001b[0;34m\u001b[0m\u001b[0;34m\u001b[0m\u001b[0m\n",
      "\u001b[0;32m/opt/repositories/git-reps/pythoncyc-notebooks.glucksfall/PythonCyc/pythoncyc/PGDB.py\u001b[0m in \u001b[0;36msendPgdbQuery\u001b[0;34m(self, query)\u001b[0m\n\u001b[1;32m    339\u001b[0m             \u001b[0;32mreturn\u001b[0m \u001b[0mNone\u001b[0m\u001b[0;34m\u001b[0m\u001b[0;34m\u001b[0m\u001b[0m\n\u001b[1;32m    340\u001b[0m         \u001b[0;32melse\u001b[0m\u001b[0;34m:\u001b[0m\u001b[0;34m\u001b[0m\u001b[0;34m\u001b[0m\u001b[0m\n\u001b[0;32m--> 341\u001b[0;31m             \u001b[0;32mreturn\u001b[0m \u001b[0mPTools\u001b[0m\u001b[0;34m.\u001b[0m\u001b[0msendQueryToPTools\u001b[0m\u001b[0;34m(\u001b[0m\u001b[0;34m'(with-organism (:org-id \\''\u001b[0m\u001b[0;34m+\u001b[0m\u001b[0mself\u001b[0m\u001b[0;34m.\u001b[0m\u001b[0m_orgid\u001b[0m\u001b[0;34m+\u001b[0m\u001b[0;34m') '\u001b[0m\u001b[0;34m+\u001b[0m\u001b[0mquery\u001b[0m\u001b[0;34m+\u001b[0m\u001b[0;34m')'\u001b[0m\u001b[0;34m)\u001b[0m\u001b[0;34m\u001b[0m\u001b[0;34m\u001b[0m\u001b[0m\n\u001b[0m\u001b[1;32m    342\u001b[0m \u001b[0;34m\u001b[0m\u001b[0m\n\u001b[1;32m    343\u001b[0m     \u001b[0;32mdef\u001b[0m \u001b[0msendPgdbFnCallBool\u001b[0m\u001b[0;34m(\u001b[0m\u001b[0mself\u001b[0m\u001b[0;34m,\u001b[0m \u001b[0mfn\u001b[0m\u001b[0;34m,\u001b[0m \u001b[0;34m*\u001b[0m\u001b[0margs\u001b[0m\u001b[0;34m,\u001b[0m \u001b[0;34m**\u001b[0m\u001b[0mkwargs\u001b[0m\u001b[0;34m)\u001b[0m\u001b[0;34m:\u001b[0m\u001b[0;34m\u001b[0m\u001b[0;34m\u001b[0m\u001b[0m\n",
      "\u001b[0;32m/opt/repositories/git-reps/pythoncyc-notebooks.glucksfall/PythonCyc/pythoncyc/PTools.py\u001b[0m in \u001b[0;36msendQueryToPTools\u001b[0;34m(query)\u001b[0m\n\u001b[1;32m    180\u001b[0m     \u001b[0ms\u001b[0m\u001b[0;34m.\u001b[0m\u001b[0mclose\u001b[0m\u001b[0;34m(\u001b[0m\u001b[0;34m)\u001b[0m\u001b[0;34m\u001b[0m\u001b[0;34m\u001b[0m\u001b[0m\n\u001b[1;32m    181\u001b[0m     \u001b[0;32mif\u001b[0m \u001b[0misinstance\u001b[0m\u001b[0;34m(\u001b[0m\u001b[0mr\u001b[0m\u001b[0;34m,\u001b[0m\u001b[0mbasestring\u001b[0m\u001b[0;34m)\u001b[0m \u001b[0;32mand\u001b[0m \u001b[0mr\u001b[0m\u001b[0;34m.\u001b[0m\u001b[0mstartswith\u001b[0m\u001b[0;34m(\u001b[0m\u001b[0;34m':error'\u001b[0m\u001b[0;34m)\u001b[0m\u001b[0;34m:\u001b[0m\u001b[0;34m\u001b[0m\u001b[0;34m\u001b[0m\u001b[0m\n\u001b[0;32m--> 182\u001b[0;31m         \u001b[0;32mraise\u001b[0m \u001b[0mPToolsError\u001b[0m\u001b[0;34m(\u001b[0m\u001b[0;34m'An internal error occurred in the running Pathway Tools application: %s'\u001b[0m \u001b[0;34m%\u001b[0m \u001b[0mr\u001b[0m\u001b[0;34m)\u001b[0m\u001b[0;34m\u001b[0m\u001b[0;34m\u001b[0m\u001b[0m\n\u001b[0m\u001b[1;32m    183\u001b[0m     \u001b[0;32melse\u001b[0m\u001b[0;34m:\u001b[0m\u001b[0;34m\u001b[0m\u001b[0;34m\u001b[0m\u001b[0m\n\u001b[1;32m    184\u001b[0m         \u001b[0;31m# Return some result.\u001b[0m\u001b[0;34m\u001b[0m\u001b[0;34m\u001b[0m\u001b[0;34m\u001b[0m\u001b[0m\n",
      "\u001b[0;31mPToolsError\u001b[0m: An internal error occurred in the running Pathway Tools application: :error, During the evaluation of '(WITH-ORGANISM\n                                   (:ORG-ID 'ECOLI)\n                                   (REGULATORS-OF-OPERON-TRANSCRIPTION\n                                    'TU0-8814\n                                    T))', the following error occurred: #<TYPE-ERROR\n                                                                          @\n                                                                          #x100420f1142>"
     ]
    }
   ],
   "source": [
    "lst = []\n",
    "for tu in tus:\n",
    "    lst.append(ecoli.regulators_of_operon_transcription(tu, by_function = True))\n",
    "print(lst[-10:])"
   ]
  },
  {
   "cell_type": "code",
   "execution_count": 32,
   "metadata": {},
   "outputs": [
    {
     "name": "stdout",
     "output_type": "stream",
     "text": [
      "[None, u'|PM0-8720|']\n"
     ]
    }
   ],
   "source": [
    "lst = []\n",
    "for tu in tus:\n",
    "    lst.append(ecoli.transcription_unit_promoter(tu))\n",
    "print(lst[-10:])"
   ]
  },
  {
   "cell_type": "code",
   "execution_count": 33,
   "metadata": {},
   "outputs": [
    {
     "name": "stdout",
     "output_type": "stream",
     "text": [
      "[[u'|G6954|'], [u'|EG11346|']]\n"
     ]
    }
   ],
   "source": [
    "lst = []\n",
    "for tu in tus:\n",
    "    lst.append(ecoli.transcription_unit_genes(tu))\n",
    "print(lst[-10:])"
   ]
  },
  {
   "cell_type": "code",
   "execution_count": 34,
   "metadata": {},
   "outputs": [
    {
     "name": "stdout",
     "output_type": "stream",
     "text": [
      "[u'|G6954|', u'|EG11346|']\n"
     ]
    }
   ],
   "source": [
    "lst = []\n",
    "for tu in tus:\n",
    "    lst.append(ecoli.transcription_unit_first_gene(tu))\n",
    "print(lst[-10:])"
   ]
  },
  {
   "cell_type": "code",
   "execution_count": 35,
   "metadata": {},
   "outputs": [
    {
     "name": "stdout",
     "output_type": "stream",
     "text": [
      "[[], [u'|BS0-8048|', u'|BS0-8047|']]\n"
     ]
    }
   ],
   "source": [
    "lst = []\n",
    "for tu in tus:\n",
    "    lst.append(ecoli.transcription_unit_binding_sites(tu))\n",
    "print(lst[-10:])"
   ]
  },
  {
   "cell_type": "code",
   "execution_count": 36,
   "metadata": {},
   "outputs": [
    {
     "name": "stdout",
     "output_type": "stream",
     "text": [
      "[[], [u'|PD01379|']]\n"
     ]
    }
   ],
   "source": [
    "lst = []\n",
    "for tu in tus:\n",
    "    lst.append(ecoli.transcription_unit_transcription_factors(tu))\n",
    "print(lst[-10:])"
   ]
  },
  {
   "cell_type": "code",
   "execution_count": 37,
   "metadata": {},
   "outputs": [
    {
     "name": "stdout",
     "output_type": "stream",
     "text": [
      "[[], []]\n"
     ]
    }
   ],
   "source": [
    "lst = []\n",
    "for tu in tus:\n",
    "    lst.append(ecoli.transcription_unit_mrna_binding_sites(tu))\n",
    "print(lst[-10:])"
   ]
  },
  {
   "cell_type": "code",
   "execution_count": 38,
   "metadata": {},
   "outputs": [
    {
     "name": "stdout",
     "output_type": "stream",
     "text": [
      "[u'|COLI-K12|', u'|COLI-K12|']\n"
     ]
    }
   ],
   "source": [
    "lst = []\n",
    "for tu in tus:\n",
    "    lst.append(ecoli.chromosome_of_operon(tu))\n",
    "print(lst[-10:])"
   ]
  },
  {
   "cell_type": "code",
   "execution_count": 39,
   "metadata": {},
   "outputs": [
    {
     "name": "stdout",
     "output_type": "stream",
     "text": [
      "[[u'|BS0-7593|', u'|BS00106|', u'|BS00105|', u'|BS00104|', u'|BS0-5461|', u'|BS0-5462|', u'|BS0-5463|', u'|BS0-5467|', u'|BS0-5468|', u'|BS0-5469|', u'|BS0-3622|']]\n"
     ]
    }
   ],
   "source": [
    "lst = []\n",
    "for gene in genes:\n",
    "    lst.append(ecoli.binding_sites_affecting_gene(gene))\n",
    "print(lst[-10:])"
   ]
  },
  {
   "cell_type": "code",
   "execution_count": 40,
   "metadata": {},
   "outputs": [
    {
     "name": "stdout",
     "output_type": "stream",
     "text": [
      "[[]]\n"
     ]
    }
   ],
   "source": [
    "lst = []\n",
    "for gene in genes:\n",
    "    lst.append(ecoli.binding_site_to_regulators(gene))\n",
    "print(lst[-10:])"
   ]
  },
  {
   "cell_type": "code",
   "execution_count": 41,
   "metadata": {},
   "outputs": [
    {
     "name": "stdout",
     "output_type": "stream",
     "text": [
      "[[u'|PHOSPHO-PHOB|'], [u'|CPLX0-7639|']]\n"
     ]
    }
   ],
   "source": [
    "lst = []\n",
    "for dna_site in dna_sites:\n",
    "    lst.append(ecoli.binding_site_to_regulators(dna_site))\n",
    "print(lst[-10:])"
   ]
  },
  {
   "cell_type": "code",
   "execution_count": 42,
   "metadata": {},
   "outputs": [
    {
     "name": "stdout",
     "output_type": "stream",
     "text": [
      "[[u'|TU0-13975|'], [u'|TU0-8636|']]\n"
     ]
    }
   ],
   "source": [
    "lst = []\n",
    "for promoter in promoters:\n",
    "    lst.append(ecoli.transcription_units_of_promoter(promoter))\n",
    "print(lst[-10:])"
   ]
  },
  {
   "cell_type": "code",
   "execution_count": 43,
   "metadata": {},
   "outputs": [
    {
     "name": "stdout",
     "output_type": "stream",
     "text": [
      "[[], []]\n"
     ]
    }
   ],
   "source": [
    "lst = []\n",
    "for promoter in promoters:\n",
    "    lst.append(ecoli.promoter_binding_sites(promoter))\n",
    "print(lst[-10:])"
   ]
  },
  {
   "cell_type": "code",
   "execution_count": 44,
   "metadata": {},
   "outputs": [
    {
     "name": "stdout",
     "output_type": "stream",
     "text": [
      "[[], []]\n"
     ]
    }
   ],
   "source": [
    "lst = []\n",
    "for tu in tus:\n",
    "    lst.append(ecoli.transcription_unit_terminators(tu))\n",
    "print(lst[-10:])"
   ]
  },
  {
   "cell_type": "code",
   "execution_count": 45,
   "metadata": {},
   "outputs": [
    {
     "name": "stdout",
     "output_type": "stream",
     "text": [
      "[[u'|TU0-8814|'], [u'|TU0-8340|']]\n",
      "[[u'|TU0-42642|', u'|TU0-42640|', u'|TU0-42638|', u'|TU0-42636|', u'|TU281|', u'|TU00342|'], [u'|TU00392|']]\n",
      "[[u'|TU0-2021|'], [u'|TU0-13514|']]\n",
      "[[u'|TU0-13975|'], [u'|TU0-8636|']]\n",
      "[[u'|TU0-4703|', u'|TU0-4702|', u'|TU0-4701|', u'|TU00036|']]\n",
      "[[u'|TU-8390|', u'|TU-8389|'], [u'|TU00091|']]\n"
     ]
    }
   ],
   "source": [
    "lst = []\n",
    "for tu in tus:\n",
    "    lst.append(ecoli.containing_tus(tu))\n",
    "print(lst[-10:])\n",
    "\n",
    "lst = []\n",
    "for tu in mrna_sites:\n",
    "    lst.append(ecoli.containing_tus(tu))\n",
    "print(lst[-10:])\n",
    "\n",
    "lst = []\n",
    "for tu in dna_sites:\n",
    "    lst.append(ecoli.containing_tus(tu))\n",
    "print(lst[-10:])\n",
    "\n",
    "lst = []\n",
    "for tu in promoters:\n",
    "    lst.append(ecoli.containing_tus(tu))\n",
    "print(lst[-10:])\n",
    "\n",
    "lst = []\n",
    "for tu in genes:\n",
    "    lst.append(ecoli.containing_tus(tu))\n",
    "print(lst[-10:])\n",
    "\n",
    "lst = []\n",
    "for tu in terminators:\n",
    "    lst.append(ecoli.containing_tus(tu))\n",
    "print(lst[-10:])"
   ]
  },
  {
   "cell_type": "code",
   "execution_count": 46,
   "metadata": {},
   "outputs": [
    {
     "name": "stdout",
     "output_type": "stream",
     "text": [
      "[u'|COLI-K12|', u'|COLI-K12|']\n",
      "[u'|COLI-K12|', u'|COLI-K12|']\n",
      "[u'|COLI-K12|', u'|COLI-K12|']\n",
      "[u'|COLI-K12|', u'|COLI-K12|']\n",
      "[u'|COLI-K12|']\n",
      "[u'|COLI-K12|', u'|COLI-K12|']\n"
     ]
    }
   ],
   "source": [
    "lst = []\n",
    "for tu in tus:\n",
    "    lst.append(ecoli.containing_chromosome(tu))\n",
    "print(lst[-10:])\n",
    "\n",
    "lst = []\n",
    "for tu in mrna_sites:\n",
    "    lst.append(ecoli.containing_chromosome(tu))\n",
    "print(lst[-10:])\n",
    "\n",
    "lst = []\n",
    "for tu in dna_sites:\n",
    "    lst.append(ecoli.containing_chromosome(tu))\n",
    "print(lst[-10:])\n",
    "\n",
    "lst = []\n",
    "for tu in promoters:\n",
    "    lst.append(ecoli.containing_chromosome(tu))\n",
    "print(lst[-10:])\n",
    "\n",
    "lst = []\n",
    "for tu in genes:\n",
    "    lst.append(ecoli.containing_chromosome(tu))\n",
    "print(lst[-10:])\n",
    "\n",
    "lst = []\n",
    "for tu in terminators:\n",
    "    lst.append(ecoli.containing_chromosome(tu))\n",
    "print(lst[-10:])"
   ]
  },
  {
   "cell_type": "code",
   "execution_count": 47,
   "metadata": {},
   "outputs": [
    {
     "name": "stdout",
     "output_type": "stream",
     "text": [
      "[[u'|PM0-2201|'], [u'|PM0-9620|']]\n"
     ]
    }
   ],
   "source": [
    "lst = []\n",
    "for dna_site in dna_sites:\n",
    "    lst.append(ecoli.binding_site_promoters(dna_site))\n",
    "print(lst[-10:])"
   ]
  },
  {
   "cell_type": "code",
   "execution_count": 48,
   "metadata": {},
   "outputs": [
    {
     "name": "stdout",
     "output_type": "stream",
     "text": [
      "[[u'|G6954|'], [u'|PM0-8720|', u'|EG11346|', u'|BS0-8048|', u'|BS0-8047|']]\n"
     ]
    }
   ],
   "source": [
    "lst = []\n",
    "for tu in tus:\n",
    "    lst.append(ecoli.transcription_unit_all_components(tu))\n",
    "print(lst[-10:])"
   ]
  },
  {
   "cell_type": "code",
   "execution_count": 49,
   "metadata": {},
   "outputs": [
    {
     "name": "stdout",
     "output_type": "stream",
     "text": [
      "[[u'|TU0-2021|'], [u'|TU0-13514|']]\n",
      "[[u'|TU0-42642|', u'|TU0-42640|', u'|TU0-42638|', u'|TU0-42636|', u'|TU281|', u'|TU00342|'], [u'|TU00392|']]\n"
     ]
    }
   ],
   "source": [
    "lst = []\n",
    "for dna_site in dna_sites:\n",
    "    lst.append(ecoli.binding_site_transcription_units(dna_site))\n",
    "print(lst[-10:])\n",
    "\n",
    "lst = []\n",
    "for mrna_site in mrna_sites:\n",
    "    lst.append(ecoli.binding_site_transcription_units(mrna_site))\n",
    "print(lst[-10:])"
   ]
  },
  {
   "cell_type": "code",
   "execution_count": null,
   "metadata": {},
   "outputs": [],
   "source": []
  }
 ],
 "metadata": {
  "kernelspec": {
   "display_name": "Python 2",
   "language": "python",
   "name": "python2"
  },
  "language_info": {
   "codemirror_mode": {
    "name": "ipython",
    "version": 2
   },
   "file_extension": ".py",
   "mimetype": "text/x-python",
   "name": "python",
   "nbconvert_exporter": "python",
   "pygments_lexer": "ipython2",
   "version": "2.7.15+"
  }
 },
 "nbformat": 4,
 "nbformat_minor": 2
}
