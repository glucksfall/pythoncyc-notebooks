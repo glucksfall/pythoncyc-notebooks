{
 "cells": [
  {
   "cell_type": "code",
   "execution_count": 1,
   "metadata": {},
   "outputs": [
    {
     "data": {
      "text/plain": [
       "0"
      ]
     },
     "execution_count": 1,
     "metadata": {},
     "output_type": "execute_result"
    }
   ],
   "source": [
    "#to run the script, you need to start pathway tools form the command line \n",
    "# using the -lisp -python options. Example (from the pathway tools github repository)\n",
    "import os\n",
    "# os.system('nohup /opt/pathway-tools/pathway-tools -lisp -python &')\n",
    "os.system('nohup /opt/pathway-tools/pathway-tools -lisp -python-local-only &') # added cybersecurity"
   ]
  },
  {
   "cell_type": "code",
   "execution_count": 2,
   "metadata": {},
   "outputs": [
    {
     "name": "stdout",
     "output_type": "stream",
     "text": [
      "[u'|META|', u'|ECOLI|']\n"
     ]
    }
   ],
   "source": [
    "import pythoncyc\n",
    "all_orgids = pythoncyc.all_orgids()\n",
    "print all_orgids\n",
    "\n",
    "meta = pythoncyc.select_organism(u'|META|')\n",
    "ecoli = pythoncyc.select_organism(u'|ECOLI|')\n",
    "proteins = [x.frameid for x in ecoli.proteins.instances]\n",
    "complexes = ecoli.all_protein_complexes()"
   ]
  },
  {
   "cell_type": "code",
   "execution_count": 3,
   "metadata": {},
   "outputs": [
    {
     "name": "stdout",
     "output_type": "stream",
     "text": [
      "[[[u'|G6106-MONOMER|'], [4]], [[u'|URAA-MONOMER|'], [2]], [[u'|EG10159-MONOMER|'], [6]], [[u'|CARBOXYL-TRANSFERASE-ALPHA-MONOMER|', u'|CARBOXYL-TRANSFERASE-BETA-MONOMER|'], [2, 2]], [[u'|MONOMER0-5|', u'|CRR-MONOMER|'], [1, 1]], [[u'|EG11009-MONOMER|', u'|EG12240-MONOMER|', u'|YHIV-MONOMER|'], [3, 1, 1]], [[u'|FLIN-FLAGELLAR-C-RING-SWITCH|', u'|FLIM-FLAGELLAR-C-RING-SWITCH|', u'|FLIG-FLAGELLAR-SWITCH-PROTEIN|', u'|FLGH-FLAGELLAR-L-RING|', u'|MOTA-FLAGELLAR-MOTOR-STATOR-PROTEIN|', u'|MOTB-FLAGELLAR-MOTOR-STATOR-PROTEIN|', u'|FLGB-FLAGELLAR-MOTOR-ROD-PROTEIN|', u'|FLGC-FLAGELLAR-MOTOR-ROD-PROTEIN|', u'|FLGF-FLAGELLAR-MOTOR-ROD-PROTEIN|', u'|FLGG-FLAGELLAR-MOTOR-ROD-PROTEIN|', u'|FLGI-FLAGELLAR-P-RING|', u'|FLIF-FLAGELLAR-MS-RING|', u'|EG11346-MONOMER|', u'|EG10322-MONOMER|'], [1, 34, 26, 1, 1, 1, 1, 1, 1, 1, 1, 1, 1, 2]], [[u'|1-PFK-MONOMER|'], [2]], [[u'|EG12259-MONOMER|', u'|EG12260-MONOMER|'], [1, 1]], [[u'|G6811-MONOMER|'], [2]]]\n",
      "[[[u'|OPPC-MONOMER|'], [1]], [[u'|YHBN-MONOMER|'], [1]], [[u'|G7455-MONOMER|'], [1]], [[u'|ISOCITDEH-SUBUNIT|'], [2]], [[u'|EG10866-MONOMER|'], [1]], [[u'|EG11356-MONOMER|'], [1]], [[u'|G6898-MONOMER|'], [1]], [[u'|URPHOS-MONOMER|'], [1]], [[u'|G6149-MONOMER|'], [1]], [[u'|G7865-MONOMER|'], [1]]]\n"
     ]
    }
   ],
   "source": [
    "\"\"\"\n",
    "p\n",
    "An instance of the class |Proteins|. \n",
    "coefficients?\n",
    "Keyword, Optional If true, then the second return value of the function will be \n",
    "a list of monomer coefficients. Defaults to true. \n",
    "unmodify?\n",
    "Keyword, Optional If true, obtain the monomers of the unmodified form of p.\n",
    "\"\"\"\n",
    "\n",
    "lst = []\n",
    "for protein in complexes:\n",
    "    lst.append(ecoli.monomers_of_protein(p = protein))\n",
    "print(lst[0:10])\n",
    "\n",
    "lst = []\n",
    "for protein in proteins:\n",
    "    lst.append(ecoli.monomers_of_protein(p = protein))\n",
    "print(lst[0:10])"
   ]
  },
  {
   "cell_type": "code",
   "execution_count": 4,
   "metadata": {},
   "outputs": [
    {
     "name": "stdout",
     "output_type": "stream",
     "text": [
      "[[[u'|G6106-MONOMER|'], [4]], [[u'|URAA-MONOMER|'], [2]], [[u'|EG10159-MONOMER|'], [6]], [[u'|CARBOXYL-TRANSFERASE-ALPHA-MONOMER|', u'|CARBOXYL-TRANSFERASE-BETA-MONOMER|'], [2, 2]], [[u'|MONOMER0-5|', u'|CRR-MONOMER|'], [1, 1]], [[u'|EG11009-MONOMER|', u'|EG12240-MONOMER|', u'|YHIV-MONOMER|'], [3, 1, 1]], [[u'|FLIN-FLAGELLAR-C-RING-SWITCH|', u'|FLIM-FLAGELLAR-C-RING-SWITCH|', u'|FLIG-FLAGELLAR-SWITCH-PROTEIN|', u'|FLGH-FLAGELLAR-L-RING|', u'|MOTA-FLAGELLAR-MOTOR-STATOR-PROTEIN|', u'|MOTB-FLAGELLAR-MOTOR-STATOR-PROTEIN|', u'|FLGB-FLAGELLAR-MOTOR-ROD-PROTEIN|', u'|FLGC-FLAGELLAR-MOTOR-ROD-PROTEIN|', u'|FLGF-FLAGELLAR-MOTOR-ROD-PROTEIN|', u'|FLGG-FLAGELLAR-MOTOR-ROD-PROTEIN|', u'|FLGI-FLAGELLAR-P-RING|', u'|FLIF-FLAGELLAR-MS-RING|', u'|EG11346-MONOMER|', u'|EG10322-MONOMER|'], [1, 34, 26, 1, 1, 1, 1, 1, 1, 1, 1, 1, 1, 2]], [[u'|1-PFK-MONOMER|'], [2]], [[u'|EG12259-MONOMER|', u'|EG12260-MONOMER|'], [1, 1]], [[u'|G6811-MONOMER|'], [2]]]\n",
      "[[[u'|OPPC-MONOMER|'], [1]], [[u'|YHBN-MONOMER|'], [1]], [[u'|G7455-MONOMER|'], [1]], [[u'|ISOCITDEH-SUBUNIT|'], [2]], [[u'|EG10866-MONOMER|'], [1]], [[u'|EG11356-MONOMER|'], [1]], [[u'|G6898-MONOMER|'], [1]], [[u'|URPHOS-MONOMER|'], [1]], [[u'|G6149-MONOMER|'], [1]], [[u'|G7865-MONOMER|'], [1]]]\n"
     ]
    }
   ],
   "source": [
    "\"\"\"\n",
    "p\n",
    "An instance of the class |Proteins|. \n",
    "exclude-small-molecules?\n",
    "Keyword, Optional If nil, then small molecule components are also returned. \n",
    "Default value is true. \n",
    "\"\"\"\n",
    "\n",
    "lst = []\n",
    "for protein in complexes:\n",
    "    lst.append(ecoli.base_components_of_protein(p = protein))\n",
    "print(lst[0:10])\n",
    "\n",
    "lst = []\n",
    "for protein in proteins:\n",
    "    lst.append(ecoli.base_components_of_protein(p = protein))\n",
    "print(lst[0:10])"
   ]
  },
  {
   "cell_type": "code",
   "execution_count": 5,
   "metadata": {},
   "outputs": [
    {
     "name": "stdout",
     "output_type": "stream",
     "text": [
      "[[u'|CPLX0-7660|'], [u'|CPLX0-8247|'], [u'|CPLX0-3102|', u'|CPLX0-3108|', u'|CPLX0-3107|'], [u'|ACETYL-COA-CARBOXYLTRANSFER-CPLX|', u'|ACETYL-COA-CARBOXYLMULTI-CPLX|'], [u'|CPLX0-7|'], [u'|TRANS-CPLX-204|'], [u'|FLAGELLAR-MOTOR-COMPLEX|', u'|CPLX0-7452|'], [u'|1-PFK|'], [u'|CPLX0-8125|'], [u'|CPLX0-7687|']]\n",
      "[[u'|OPPC-MONOMER|', u'|CPLX0-3970|', u'|ABC-22-CPLX|'], [u'|YHBN-MONOMER|', u'|CPLX0-7992|'], [u'|G7455-MONOMER|', u'|CPLX0-7839|'], [u'|ISOCITHASE-P|'], [u'|EG10866-MONOMER|', u'|CPLX0-3962|', u'|CPLX0-3964|'], [u'|EG11356-MONOMER|'], [u'|G6898-MONOMER|'], [u'|URPHOS-MONOMER|', u'|URPHOS-CPLX|'], [u'|G6149-MONOMER|'], [u'|G7865-MONOMER|', u'|CPLX0-3924|']]\n"
     ]
    }
   ],
   "source": [
    "\"\"\"\n",
    "protein\n",
    "An instance of the class |Proteins|. \n",
    "exclude-self?\n",
    "Optional If true, then protein will not be included in the return value. \n",
    "\"\"\"\n",
    "\n",
    "lst = []\n",
    "for protein in complexes:\n",
    "    lst.append(ecoli.containers_of(protein = protein))\n",
    "print(lst[0:10])\n",
    "\n",
    "lst = []\n",
    "for protein in proteins:\n",
    "    lst.append(ecoli.containers_of(protein = protein))\n",
    "print(lst[0:10])"
   ]
  },
  {
   "cell_type": "code",
   "execution_count": 6,
   "metadata": {},
   "outputs": [
    {
     "name": "stdout",
     "output_type": "stream",
     "text": [
      "[[u'|CPLX0-7660|'], [u'|CPLX0-8247|'], [u'|CPLX0-3102|', u'|CPLX0-3108|', u'|CPLX0-3107|'], [u'|ACETYL-COA-CARBOXYLTRANSFER-CPLX|', u'|ACETYL-COA-CARBOXYLMULTI-CPLX|'], [u'|CPLX0-7|'], [u'|TRANS-CPLX-204|'], [u'|FLAGELLAR-MOTOR-COMPLEX|', u'|CPLX0-7452|'], [u'|1-PFK|'], [u'|CPLX0-8125|'], [u'|CPLX0-7687|']]\n",
      "[[u'|OPPC-MONOMER|', u'|CPLX0-3970|', u'|ABC-22-CPLX|'], [u'|YHBN-MONOMER|', u'|CPLX0-7992|'], [u'|G7455-MONOMER|', u'|CPLX0-7839|'], [u'|ISOCITHASE-P|'], [u'|EG10866-MONOMER|', u'|CPLX0-3962|', u'|CPLX0-3964|'], [u'|EG11356-MONOMER|'], [u'|G6898-MONOMER|'], [u'|URPHOS-MONOMER|', u'|URPHOS-CPLX|'], [u'|G6149-MONOMER|'], [u'|G7865-MONOMER|', u'|CPLX0-3924|']]\n"
     ]
    }
   ],
   "source": [
    "\"\"\"\n",
    "protein\n",
    "An instance of the class |Proteins|. \n",
    "exclude-self?\n",
    "Optional If true, then protein will not be included in the return value. \n",
    "\"\"\"\n",
    "\n",
    "lst = []\n",
    "for protein in complexes:\n",
    "    lst.append(ecoli.protein_or_rna_containers_of(protein = protein))\n",
    "print(lst[0:10])\n",
    "\n",
    "lst = []\n",
    "for protein in proteins:\n",
    "    lst.append(ecoli.protein_or_rna_containers_of(protein = protein))\n",
    "print(lst[0:10])"
   ]
  },
  {
   "cell_type": "code",
   "execution_count": 7,
   "metadata": {},
   "outputs": [
    {
     "name": "stdout",
     "output_type": "stream",
     "text": [
      "[[u'|CPLX0-7660|'], [u'|CPLX0-8247|'], [u'|CPLX0-3102|'], [], [], [], [], [u'|1-PFK|'], [], [u'|CPLX0-7687|']]\n",
      "[[u'|OPPC-MONOMER|'], [u'|YHBN-MONOMER|'], [u'|G7455-MONOMER|', u'|CPLX0-7839|'], [], [u'|EG10866-MONOMER|'], [u'|EG11356-MONOMER|'], [u'|G6898-MONOMER|'], [u'|URPHOS-MONOMER|', u'|URPHOS-CPLX|'], [u'|G6149-MONOMER|'], [u'|G7865-MONOMER|', u'|CPLX0-3924|']]\n"
     ]
    }
   ],
   "source": [
    "\"\"\"\n",
    "protein\n",
    "An instance of the class |Proteins|. \n",
    "exclude-self?\n",
    "Optional If true, then protein will not be included in the return value. \n",
    "\"\"\"\n",
    "\n",
    "lst = []\n",
    "for protein in complexes:\n",
    "    lst.append(ecoli.homomultimeric_containers_of(protein = protein))\n",
    "print(lst[0:10])\n",
    "\n",
    "lst = []\n",
    "for protein in proteins:\n",
    "    lst.append(ecoli.homomultimeric_containers_of(protein = protein))\n",
    "print(lst[0:10])"
   ]
  },
  {
   "cell_type": "code",
   "execution_count": 8,
   "metadata": {},
   "outputs": [
    {
     "name": "stdout",
     "output_type": "stream",
     "text": [
      "[True, True, True, False, False, False, False, True, False, True]\n",
      "[True, True, True, False, True, True, True, True, True, True]\n"
     ]
    }
   ],
   "source": [
    "lst = []\n",
    "for protein in complexes:\n",
    "    lst.append(ecoli.polypeptide_or_homomultimer_p(protein = protein))\n",
    "print(lst[0:10])\n",
    "\n",
    "lst = []\n",
    "for protein in proteins:\n",
    "    lst.append(ecoli.polypeptide_or_homomultimer_p(protein = protein))\n",
    "print(lst[0:10])"
   ]
  },
  {
   "cell_type": "code",
   "execution_count": 9,
   "metadata": {},
   "outputs": [
    {
     "name": "stdout",
     "output_type": "stream",
     "text": [
      "[u'|CPLX0-7660|', u'|CPLX0-8247|', u'|CPLX0-3102|', u'|ACETYL-COA-CARBOXYLTRANSFER-CPLX|', u'|CPLX0-7|', u'|TRANS-CPLX-204|', u'|FLAGELLAR-MOTOR-COMPLEX|', u'|1-PFK|', u'|CPLX0-8125|', u'|CPLX0-7687|']\n",
      "[u'|OPPC-MONOMER|', u'|YHBN-MONOMER|', u'|G7455-MONOMER|', u'|ISOCITHASE-CPLX|', u'|EG10866-MONOMER|', u'|EG11356-MONOMER|', u'|G6898-MONOMER|', u'|URPHOS-MONOMER|', u'|G6149-MONOMER|', u'|G7865-MONOMER|']\n"
     ]
    }
   ],
   "source": [
    "lst = []\n",
    "for protein in complexes:\n",
    "    lst.append(ecoli.unmodified_form(protein = protein))\n",
    "print(lst[0:10])\n",
    "\n",
    "lst = []\n",
    "for protein in proteins:\n",
    "    lst.append(ecoli.unmodified_form(protein = protein))\n",
    "print(lst[0:10])"
   ]
  },
  {
   "cell_type": "code",
   "execution_count": 10,
   "metadata": {},
   "outputs": [
    {
     "name": "stdout",
     "output_type": "stream",
     "text": [
      "[u'|CPLX0-7660|', u'|CPLX0-8247|', u'|CPLX0-3102|', u'|ACETYL-COA-CARBOXYLTRANSFER-CPLX|', u'|CPLX0-7|', u'|TRANS-CPLX-204|', u'|FLAGELLAR-MOTOR-COMPLEX|', u'|1-PFK|', u'|CPLX0-8125|', u'|CPLX0-7687|']\n",
      "[u'|OPPC-MONOMER|', u'|YHBN-MONOMER|', u'|G7455-MONOMER|', u'|ISOCITHASE-CPLX|', u'|EG10866-MONOMER|', u'|EG11356-MONOMER|', u'|G6898-MONOMER|', u'|URPHOS-MONOMER|', u'|G6149-MONOMER|', u'|G7865-MONOMER|']\n"
     ]
    }
   ],
   "source": [
    "lst = []\n",
    "for protein in complexes:\n",
    "    lst.append(ecoli.unmodified_or_unbound_form(protein = protein))\n",
    "print(lst[0:10])\n",
    "\n",
    "lst = []\n",
    "for protein in proteins:\n",
    "    lst.append(ecoli.unmodified_or_unbound_form(protein = protein))\n",
    "print(lst[0:10])"
   ]
  },
  {
   "cell_type": "code",
   "execution_count": 11,
   "metadata": {},
   "outputs": [
    {
     "name": "stdout",
     "output_type": "stream",
     "text": [
      "[[u'|CPLX0-7660|'], [u'|CPLX0-8247|'], [u'|CPLX0-3102|'], [u'|ACETYL-COA-CARBOXYLTRANSFER-CPLX|'], [u'|CPLX0-7|'], [u'|TRANS-CPLX-204|'], [u'|FLAGELLAR-MOTOR-COMPLEX|'], [u'|1-PFK|'], [u'|CPLX0-8125|'], [u'|CPLX0-7687|']]\n",
      "[[u'|OPPC-MONOMER|'], [u'|YHBN-MONOMER|'], [u'|G7455-MONOMER|'], [u'|ISOCITHASE-CPLX|'], [u'|EG10866-MONOMER|'], [u'|EG11356-MONOMER|'], [u'|G6898-MONOMER|'], [u'|URPHOS-MONOMER|'], [u'|G6149-MONOMER|'], [u'|G7865-MONOMER|']]\n"
     ]
    }
   ],
   "source": [
    "\"\"\"\n",
    "prots\n",
    "A list of instances of the class |Proteins|. \n",
    "debind?\n",
    "Keyword, Optional When non-nil, the proteins are further simplified by obtaining \n",
    "the unbound form of the protein, if it is bound to a small molecule. \n",
    "\"\"\"\n",
    "\n",
    "lst = []\n",
    "for protein in complexes:\n",
    "    lst.append(ecoli.reduce_modified_proteins(prots = [protein]))\n",
    "print(lst[0:10])\n",
    "\n",
    "lst = []\n",
    "for protein in proteins:\n",
    "    lst.append(ecoli.reduce_modified_proteins(prots = [protein]))\n",
    "print(lst[0:10])"
   ]
  },
  {
   "cell_type": "code",
   "execution_count": 12,
   "metadata": {},
   "outputs": [
    {
     "name": "stdout",
     "output_type": "stream",
     "text": [
      "[[u'|G6106-MONOMER|', u'|CPLX0-7660|'], [u'|URAA-MONOMER|', u'|CPLX0-8247|'], [u'|EG10159-MONOMER|', u'|CPLX0-3102|', u'|CPLX0-3108|', u'|CPLX0-3107|'], [u'|CARBOXYL-TRANSFERASE-BETA-MONOMER|', u'|CARBOXYL-TRANSFERASE-ALPHA-MONOMER|', u'|ACETYL-COA-CARBOXYLTRANSFER-CPLX|', u'|ACETYL-COA-CARBOXYLMULTI-CPLX|'], [u'|CRR-MONOMER|', u'|MONOMER0-5|', u'|CPLX0-7|'], [u'|YHIV-MONOMER|', u'|EG12240-MONOMER|', u'|CPLX0-7964|', u'|EG11009-MONOMER|', u'|TRANS-CPLX-204|'], [u'|EG10322-MONOMER|', u'|EG11346-MONOMER|', u'|FLIF-FLAGELLAR-MS-RING|', u'|FLGI-FLAGELLAR-P-RING|', u'|FLGG-FLAGELLAR-MOTOR-ROD-PROTEIN|', u'|FLGF-FLAGELLAR-MOTOR-ROD-PROTEIN|', u'|FLGC-FLAGELLAR-MOTOR-ROD-PROTEIN|', u'|FLGB-FLAGELLAR-MOTOR-ROD-PROTEIN|', u'|MOTB-FLAGELLAR-MOTOR-STATOR-PROTEIN|', u'|MOTA-FLAGELLAR-MOTOR-STATOR-PROTEIN|', u'|FLGH-FLAGELLAR-L-RING|', u'|CPLX0-7450|', u'|FLIG-FLAGELLAR-SWITCH-PROTEIN|', u'|FLIM-FLAGELLAR-C-RING-SWITCH|', u'|FLIN-FLAGELLAR-C-RING-SWITCH|', u'|FLAGELLAR-MOTOR-COMPLEX|', u'|CPLX0-7452|'], [u'|1-PFK-MONOMER|', u'|1-PFK|'], [u'|EG12260-MONOMER|', u'|EG12259-MONOMER|', u'|CPLX0-8125|'], [u'|G6811-MONOMER|', u'|CPLX0-7687|']]\n",
      "[[u'|OPPC-MONOMER|', u'|CPLX0-3970|', u'|ABC-22-CPLX|'], [u'|YHBN-MONOMER|', u'|CPLX0-7992|'], [u'|G7455-MONOMER|', u'|CPLX0-7839|'], [u'|ISOCITDEH-SUBUNIT|', u'|ISOCITHASE-CPLX|', u'|ISOCITHASE-P|'], [u'|EG10866-MONOMER|', u'|CPLX0-3962|'], [u'|EG11356-MONOMER|'], [u'|G6898-MONOMER|'], [u'|URPHOS-MONOMER|', u'|URPHOS-CPLX|'], [u'|G6149-MONOMER|'], [u'|G7865-MONOMER|', u'|CPLX0-3924|']]\n"
     ]
    }
   ],
   "source": [
    "lst = []\n",
    "for protein in complexes:\n",
    "    lst.append(ecoli.all_direct_forms_of_protein(protein = protein))\n",
    "print(lst[0:10])\n",
    "\n",
    "lst = []\n",
    "for protein in proteins:\n",
    "    lst.append(ecoli.all_direct_forms_of_protein(protein = protein))\n",
    "print(lst[0:10])"
   ]
  },
  {
   "cell_type": "code",
   "execution_count": 13,
   "metadata": {},
   "outputs": [
    {
     "name": "stdout",
     "output_type": "stream",
     "text": [
      "[[u'|G6106-MONOMER|', u'|CPLX0-7660|'], [u'|URAA-MONOMER|', u'|CPLX0-8247|'], [u'|EG10159-MONOMER|', u'|CPLX0-3102|', u'|CPLX0-3108|', u'|CPLX0-3107|'], [u'|CARBOXYL-TRANSFERASE-ALPHA-MONOMER|', u'|CARBOXYL-TRANSFERASE-BETA-MONOMER|', u'|ACETYL-COA-CARBOXYLTRANSFER-CPLX|', u'|ACETYL-COA-CARBOXYLMULTI-CPLX|'], [u'|MONOMER0-5|', u'|CRR-MONOMER|', u'|CPLX-157|', u'|CPLX-168|', u'|CPLX0-7|'], [u'|EG11009-MONOMER|', u'|CPLX0-7964|', u'|TRANS-200-CPLX|', u'|TRANS-CPLX-201|', u'|TRANS-CPLX-202|', u'|CPLX0-2161|', u'|CPLX0-2121|', u'|CPLX0-2141|', u'|CPLX0-3932|', u'|EG12240-MONOMER|', u'|YHIV-MONOMER|', u'|TRANS-CPLX-204|'], [u'|FLIN-FLAGELLAR-C-RING-SWITCH|', u'|FLIM-FLAGELLAR-C-RING-SWITCH|', u'|FLIG-FLAGELLAR-SWITCH-PROTEIN|', u'|CPLX0-7450|', u'|FLGH-FLAGELLAR-L-RING|', u'|MOTA-FLAGELLAR-MOTOR-STATOR-PROTEIN|', u'|MOTB-FLAGELLAR-MOTOR-STATOR-PROTEIN|', u'|FLGB-FLAGELLAR-MOTOR-ROD-PROTEIN|', u'|FLGC-FLAGELLAR-MOTOR-ROD-PROTEIN|', u'|FLGF-FLAGELLAR-MOTOR-ROD-PROTEIN|', u'|FLGG-FLAGELLAR-MOTOR-ROD-PROTEIN|', u'|FLGI-FLAGELLAR-P-RING|', u'|FLIF-FLAGELLAR-MS-RING|', u'|EG11346-MONOMER|', u'|EG10322-MONOMER|', u'|FLAGELLAR-MOTOR-COMPLEX|', u'|CPLX0-7452|'], [u'|1-PFK-MONOMER|', u'|1-PFK|'], [u'|EG12259-MONOMER|', u'|EG12260-MONOMER|', u'|CPLX0-8125|'], [u'|G6811-MONOMER|', u'|CPLX0-7687|']]\n",
      "[[u'|OPPC-MONOMER|', u'|CPLX0-3970|', u'|ABC-22-CPLX|'], [u'|YHBN-MONOMER|', u'|CPLX0-7992|'], [u'|G7455-MONOMER|', u'|CPLX0-7839|'], [u'|ISOCITHASE-P|', u'|ISOCITDEH-SUBUNIT|', u'|ISOCITHASE-CPLX|'], [u'|EG10866-MONOMER|', u'|CPLX0-3962|', u'|CPLX0-3964|'], [u'|EG11356-MONOMER|'], [u'|G6898-MONOMER|'], [u'|URPHOS-MONOMER|', u'|URPHOS-CPLX|'], [u'|G6149-MONOMER|'], [u'|G7865-MONOMER|', u'|CPLX0-3924|']]\n"
     ]
    }
   ],
   "source": [
    "lst = []\n",
    "for protein in complexes:\n",
    "    lst.append(ecoli.all_forms_of_protein(protein = protein))\n",
    "print(lst[0:10])\n",
    "\n",
    "lst = []\n",
    "for protein in proteins:\n",
    "    lst.append(ecoli.all_forms_of_protein(protein = protein))\n",
    "print(lst[0:10])"
   ]
  },
  {
   "cell_type": "code",
   "execution_count": 14,
   "metadata": {},
   "outputs": [
    {
     "name": "stdout",
     "output_type": "stream",
     "text": [
      "[[u'|CPLX0-7660|'], [u'|CPLX0-8247|'], [u'|CPLX0-3102|'], [u'|ACETYL-COA-CARBOXYLTRANSFER-CPLX|'], [u'|CPLX0-7|'], [u'|TRANS-CPLX-204|'], [u'|FLAGELLAR-MOTOR-COMPLEX|'], [u'|1-PFK|'], [u'|CPLX0-8125|'], [u'|CPLX0-7687|']]\n",
      "[[u'|OPPC-MONOMER|'], [u'|YHBN-MONOMER|'], [u'|G7455-MONOMER|'], [u'|ISOCITHASE-P|'], [u'|EG10866-MONOMER|'], [u'|EG11356-MONOMER|'], [u'|G6898-MONOMER|'], [u'|URPHOS-MONOMER|'], [u'|G6149-MONOMER|'], [u'|G7865-MONOMER|']]\n"
     ]
    }
   ],
   "source": [
    "lst = []\n",
    "for protein in complexes:\n",
    "    lst.append(ecoli.modified_forms(protein = protein))\n",
    "print(lst[0:10])\n",
    "\n",
    "lst = []\n",
    "for protein in proteins:\n",
    "    lst.append(ecoli.modified_forms(protein = protein))\n",
    "print(lst[0:10])"
   ]
  },
  {
   "cell_type": "code",
   "execution_count": 15,
   "metadata": {},
   "outputs": [
    {
     "name": "stdout",
     "output_type": "stream",
     "text": [
      "[[u'|CPLX0-7660|'], [u'|CPLX0-8247|'], [u'|CPLX0-3102|'], [u'|ACETYL-COA-CARBOXYLTRANSFER-CPLX|'], [u'|CPLX0-7|'], [u'|TRANS-CPLX-204|'], [u'|FLAGELLAR-MOTOR-COMPLEX|'], [u'|1-PFK|'], [u'|CPLX0-8125|'], [u'|CPLX0-7687|']]\n",
      "[[u'|OPPC-MONOMER|'], [u'|YHBN-MONOMER|'], [u'|G7455-MONOMER|'], [u'|ISOCITHASE-CPLX|', u'|ISOCITHASE-P|'], [u'|EG10866-MONOMER|'], [u'|EG11356-MONOMER|'], [u'|G6898-MONOMER|'], [u'|URPHOS-MONOMER|'], [u'|G6149-MONOMER|'], [u'|G7865-MONOMER|']]\n"
     ]
    }
   ],
   "source": [
    "lst = []\n",
    "for protein in complexes:\n",
    "    lst.append(ecoli.modified_and_unmodified_forms(protein = protein))\n",
    "print(lst[0:10])\n",
    "\n",
    "lst = []\n",
    "for protein in proteins:\n",
    "    lst.append(ecoli.modified_and_unmodified_forms(protein = protein))\n",
    "print(lst[0:10])"
   ]
  },
  {
   "cell_type": "code",
   "execution_count": 16,
   "metadata": {},
   "outputs": [
    {
     "name": "stdout",
     "output_type": "stream",
     "text": [
      "[[u'|CPLX0-7660|'], [u'|CPLX0-8247|'], [u'|CPLX0-3102|', u'|CPLX0-3108|', u'|CPLX0-3107|'], [u'|ACETYL-COA-CARBOXYLTRANSFER-CPLX|', u'|ACETYL-COA-CARBOXYLMULTI-CPLX|'], [u'|CPLX0-7|'], [u'|TRANS-CPLX-204|'], [u'|FLAGELLAR-MOTOR-COMPLEX|', u'|CPLX0-7452|'], [u'|1-PFK|'], [u'|CPLX0-8125|'], [u'|CPLX0-7687|']]\n",
      "[[u'|OPPC-MONOMER|', u'|CPLX0-3970|', u'|ABC-22-CPLX|'], [u'|YHBN-MONOMER|', u'|CPLX0-7992|'], [u'|G7455-MONOMER|', u'|CPLX0-7839|'], [u'|ISOCITHASE-P|'], [u'|EG10866-MONOMER|', u'|CPLX0-3962|', u'|CPLX0-3964|'], [u'|EG11356-MONOMER|'], [u'|G6898-MONOMER|'], [u'|URPHOS-MONOMER|', u'|URPHOS-CPLX|'], [u'|G6149-MONOMER|'], [u'|G7865-MONOMER|', u'|CPLX0-3924|']]\n"
     ]
    }
   ],
   "source": [
    "lst = []\n",
    "for protein in complexes:\n",
    "    lst.append(ecoli.modified_containers(protein = protein))\n",
    "print(lst[0:10])\n",
    "\n",
    "lst = []\n",
    "for protein in proteins:\n",
    "    lst.append(ecoli.modified_containers(protein = protein))\n",
    "print(lst[0:10])"
   ]
  },
  {
   "cell_type": "code",
   "execution_count": 17,
   "metadata": {},
   "outputs": [
    {
     "name": "stdout",
     "output_type": "stream",
     "text": [
      "[[u'|CPLX0-7660|'], [u'|CPLX0-8247|'], [u'|CPLX0-3108|', u'|CPLX0-3107|'], [u'|ACETYL-COA-CARBOXYLMULTI-CPLX|'], [u'|CPLX0-7|'], [u'|TRANS-CPLX-204|'], [u'|CPLX0-7452|'], [u'|1-PFK|'], [u'|CPLX0-8125|'], [u'|CPLX0-7687|']]\n",
      "[[u'|CPLX0-3970|', u'|ABC-22-CPLX|'], [u'|CPLX0-7992|'], [u'|CPLX0-7839|'], [u'|ISOCITHASE-P|'], [u'|CPLX0-3964|'], [u'|EG11356-MONOMER|'], [u'|G6898-MONOMER|'], [u'|URPHOS-CPLX|'], [u'|G6149-MONOMER|'], [u'|CPLX0-3924|']]\n"
     ]
    }
   ],
   "source": [
    "lst = []\n",
    "for protein in complexes:\n",
    "    lst.append(ecoli.top_containers(protein = protein))\n",
    "print(lst[0:10])\n",
    "\n",
    "lst = []\n",
    "for protein in proteins:\n",
    "    lst.append(ecoli.top_containers(protein = protein))\n",
    "print(lst[0:10])"
   ]
  },
  {
   "cell_type": "code",
   "execution_count": 18,
   "metadata": {},
   "outputs": [
    {
     "name": "stdout",
     "output_type": "stream",
     "text": [
      "[[], [], [], [], [], [], [], [], [], []]\n",
      "[[], [], [], [], [], [], [], [], [], []]\n"
     ]
    }
   ],
   "source": [
    "lst = []\n",
    "for protein in complexes:\n",
    "    lst.append(ecoli.small_molecule_cplxes_of_prot(protein = protein))\n",
    "print(lst[0:10])\n",
    "\n",
    "lst = []\n",
    "for protein in proteins:\n",
    "    lst.append(ecoli.small_molecule_cplxes_of_prot(protein = protein))\n",
    "print(lst[0:10])"
   ]
  },
  {
   "cell_type": "code",
   "execution_count": 19,
   "metadata": {},
   "outputs": [
    {
     "name": "stdout",
     "output_type": "stream",
     "text": [
      "[[u'|G6106|'], [u'|EG12129|'], [u'|EG10159|'], [u'|EG11647|', u'|EG10217|'], [u'|G7264|', u'|EG10165|'], [u'|EG11009|', u'|EG12240|', u'|EG12241|'], [u'|EG10324|', u'|EG10323|', u'|EG11654|', u'|G364|', u'|EG10601|', u'|EG10602|', u'|G358|', u'|G359|', u'|G362|', u'|G363|', u'|G365|', u'|EG11347|', u'|EG11346|', u'|EG10322|'], [u'|EG10337|'], [u'|EG12259|', u'|EG12260|'], [u'|G6811|']]\n",
      "[[u'|EG10676|'], [u'|G7665|'], [u'|G7455|'], [u'|EG10489|'], [u'|EG10866|'], [u'|EG11356|'], [u'|G6898|'], [u'|EG11045|'], [u'|G6149|'], [u'|G7865|']]\n"
     ]
    }
   ],
   "source": [
    "lst = []\n",
    "for protein in complexes:\n",
    "    lst.append(ecoli.genes_of_protein(protein = protein))\n",
    "print(lst[0:10])\n",
    "\n",
    "lst = []\n",
    "for protein in proteins:\n",
    "    lst.append(ecoli.genes_of_protein(protein = protein))\n",
    "print(lst[0:10])"
   ]
  },
  {
   "cell_type": "code",
   "execution_count": 20,
   "metadata": {},
   "outputs": [
    {
     "name": "stdout",
     "output_type": "stream",
     "text": [
      "[[u'|G6106|'], [u'|EG12129|'], [u'|EG10159|'], [u'|EG11647|', u'|EG10217|'], [u'|G7264|', u'|EG10165|'], [u'|EG11009|', u'|EG12240|', u'|EG12241|'], [u'|EG10324|', u'|EG10323|', u'|EG11654|', u'|G364|', u'|EG10601|', u'|EG10602|', u'|G358|', u'|G359|', u'|G362|', u'|G363|', u'|G365|', u'|EG11347|', u'|EG11346|', u'|EG10322|'], [u'|EG10337|'], [u'|EG12259|', u'|EG12260|'], [u'|G6811|']]\n",
      "[[u'|EG10676|'], [u'|G7665|'], [u'|G7455|'], [u'|EG10489|'], [u'|EG10866|'], [u'|EG11356|'], [u'|G6898|'], [u'|EG11045|'], [u'|G6149|'], [u'|G7865|']]\n"
     ]
    }
   ],
   "source": [
    "lst = []\n",
    "for protein in complexes:\n",
    "    lst.append(ecoli.genes_of_proteins(protein = [protein]))\n",
    "print(lst[0:10])\n",
    "\n",
    "lst = []\n",
    "for protein in proteins:\n",
    "    lst.append(ecoli.genes_of_proteins(protein = [protein]))\n",
    "print(lst[0:10])"
   ]
  },
  {
   "cell_type": "code",
   "execution_count": 21,
   "metadata": {},
   "outputs": [
    {
     "name": "stdout",
     "output_type": "stream",
     "text": [
      "[[u'|RXN0-4301|'], [u'|TRANS-RXN-132|'], [], [u'|RXN0-5055|'], [u'|RXN0-17|'], [u'|TRANS-RXN-352|', u'|TRANS-RXN-367|', u'|TRANS-RXN-359|'], [], [u'|1PFRUCTPHOSN-RXN|'], [u'|CELLULOSE-SYNTHASE-UDP-FORMING-RXN|'], [u'|SUCCINATE-SEMIALDEHYDE-DEHYDROGENASE-RXN|']]\n",
      "[[], [], [], [], [], [], [], [], [], []]\n"
     ]
    }
   ],
   "source": [
    "\"\"\"\n",
    "e\n",
    "An instance of the class |Proteins|. \n",
    "kb\n",
    "Keyword, Optional The KB object of the KB in which to find the associated \n",
    "reactions. Defaults to the current PGDB. \n",
    "include-specific-forms?\n",
    "Keyword, Optional When true, specific forms of associated generic reactions are \n",
    "also returned. Default value is true. \n",
    "\"\"\"\n",
    "\n",
    "lst = []\n",
    "for protein in complexes:\n",
    "    lst.append(ecoli.reactions_of_enzyme(protein = protein))\n",
    "print(lst[0:10])\n",
    "\n",
    "lst = []\n",
    "for protein in proteins:\n",
    "    lst.append(ecoli.reactions_of_enzyme(protein = protein))\n",
    "print(lst[0:10])"
   ]
  },
  {
   "cell_type": "code",
   "execution_count": 22,
   "metadata": {},
   "outputs": [
    {
     "name": "stdout",
     "output_type": "stream",
     "text": [
      "[[u'|ECOLI|'], [u'|ECOLI|'], [u'|ECOLI|'], [u'|ECOLI|'], [u'|ECOLI|'], [u'|ECOLI|'], [u'|ECOLI|'], [u'|ECOLI|'], [u'|ECOLI|'], [u'|ECOLI|']]\n",
      "[[u'|ECOLI|'], [u'|ECOLI|'], [u'|ECOLI|'], [u'|ECOLI|'], [u'|ECOLI|'], [u'|ECOLI|'], [u'|ECOLI|'], [u'|ECOLI|'], [u'|ECOLI|'], [u'|ECOLI|']]\n"
     ]
    }
   ],
   "source": [
    "lst = []\n",
    "for protein in complexes:\n",
    "    lst.append(ecoli.species_of_protein(protein = protein))\n",
    "print(lst[0:10])\n",
    "\n",
    "lst = []\n",
    "for protein in proteins:\n",
    "    lst.append(ecoli.species_of_protein(protein = protein))\n",
    "print(lst[0:10])"
   ]
  },
  {
   "cell_type": "code",
   "execution_count": 23,
   "metadata": {},
   "outputs": [
    {
     "name": "stdout",
     "output_type": "stream",
     "text": [
      "[True, True, False, True, True, True, False, True, True, True]\n",
      "[False, False, False, False, False, False, False, False, False, False]\n"
     ]
    }
   ],
   "source": [
    "\"\"\"\n",
    "type\n",
    "Optional Can take on one of the following values to select more precisely what \n",
    "is meant by an “enzyme”:\n",
    "\n",
    ":any\n",
    "Any protein that catalyzes a reaction is considered an enzyme. \n",
    ":chemical-change\n",
    "If the reactants and products of the catalyzed reactin differ, and not just by \n",
    "their cellular location, then the protein is considered an enzyme. \n",
    ":small-molecule\n",
    "If the reactants of the catalyzed reaction differ and are small molecules, then \n",
    "the protein is considered an enzyme. \n",
    ":transport\n",
    "If the protein catalyzes a transport reaction. \n",
    ":non-transport\n",
    "If the protein only catalyzes non-transport reactions. \n",
    "\"\"\"\n",
    "\n",
    "lst = []\n",
    "for protein in complexes:\n",
    "    lst.append(ecoli.enzyme_p(protein = protein, type = ':any'))\n",
    "print(lst[0:10])\n",
    "\n",
    "lst = []\n",
    "for protein in proteins:\n",
    "    lst.append(ecoli.enzyme_p(protein = protein, type = u':any'))\n",
    "print(lst[0:10])"
   ]
  },
  {
   "cell_type": "code",
   "execution_count": 24,
   "metadata": {},
   "outputs": [],
   "source": [
    "# lst = []\n",
    "# for protein in complexes:\n",
    "#     lst.append(ecoli.leader_peptide_p(protein = protein))\n",
    "# print(lst[0:10])\n",
    "\n",
    "# lst = []\n",
    "# for protein in proteins:\n",
    "#     lst.append(ecoli.leader_peptide_p(protein = protein))\n",
    "# print(lst[0:10])"
   ]
  },
  {
   "cell_type": "code",
   "execution_count": 25,
   "metadata": {},
   "outputs": [
    {
     "name": "stdout",
     "output_type": "stream",
     "text": [
      "[u'|Proteins|', u'|Proteins|', u'|Proteins|', u'|Proteins|', u'|Proteins|', u'|Proteins|', u'|Proteins|', u'|Proteins|', u'|Proteins|', u'|Proteins|']\n",
      "[u'|Proteins|', u'|Proteins|', u'|Proteins|', u'|Proteins|', u'|Proteins|', u'|Proteins|', u'|Proteins|', u'|Proteins|', u'|Proteins|', u'|Proteins|']\n"
     ]
    }
   ],
   "source": [
    "lst = []\n",
    "for protein in complexes:\n",
    "    lst.append(ecoli.protein_p(protein))\n",
    "print(lst[0:10])\n",
    "\n",
    "lst = []\n",
    "for protein in proteins:\n",
    "    lst.append(ecoli.protein_p(protein))\n",
    "print(lst[0:10])"
   ]
  },
  {
   "cell_type": "code",
   "execution_count": 26,
   "metadata": {},
   "outputs": [
    {
     "name": "stdout",
     "output_type": "stream",
     "text": [
      "[u'|Protein-Complexes|', u'|Protein-Complexes|', u'|Protein-Complexes|', u'|Protein-Complexes|', u'|Protein-Complexes|', u'|Protein-Complexes|', u'|Protein-Complexes|', u'|Protein-Complexes|', u'|Protein-Complexes|', u'|Protein-Complexes|']\n",
      "[False, False, False, u'|Protein-Complexes|', False, False, False, False, False, False]\n"
     ]
    }
   ],
   "source": [
    "lst = []\n",
    "for protein in complexes:\n",
    "    lst.append(ecoli.complex_p(protein))\n",
    "print(lst[0:10])\n",
    "\n",
    "lst = []\n",
    "for protein in proteins:\n",
    "    lst.append(ecoli.complex_p(protein))\n",
    "print(lst[0:10])"
   ]
  },
  {
   "cell_type": "code",
   "execution_count": 27,
   "metadata": {},
   "outputs": [
    {
     "name": "stdout",
     "output_type": "stream",
     "text": [
      "[[u'|RXN0-4301|'], [u'|TRANS-RXN-132|'], [], [u'|RXN0-5055|'], [u'|RXN0-17|'], [u'|TRANS-RXN-352|', u'|TRANS-RXN-367|', u'|TRANS-RXN-359|'], [], [u'|1PFRUCTPHOSN-RXN|'], [u'|CELLULOSE-SYNTHASE-UDP-FORMING-RXN|'], [u'|SUCCINATE-SEMIALDEHYDE-DEHYDROGENASE-RXN|']]\n",
      "[[u'|TRANS-RXN0-268|', u'|ABC-8-RXN|', u'|3.6.3.23-RXN|'], [u'|TRANS-RXN-237|'], [], [], [], [], [], [u'|URPHOS-RXN|'], [], [u'|PEPTIDYLPROLYL-ISOMERASE-RXN|']]\n"
     ]
    }
   ],
   "source": [
    "\"\"\"\n",
    "p\n",
    "An instance of the class |Proteins|. \n",
    "check-protein-components?\n",
    "Optional If true, check all components of this protein for catalyzed reactions. \n",
    "Defaults to true. \n",
    "check-protein-containers?\n",
    "Optional If true, check the containers and modified forms of the protein for \n",
    "catalyzed reactions. \n",
    "\"\"\"\n",
    "\n",
    "lst = []\n",
    "for protein in complexes:\n",
    "    lst.append(ecoli.reactions_of_protein(protein = protein))\n",
    "print(lst[0:10])\n",
    "\n",
    "lst = []\n",
    "for protein in proteins:\n",
    "    lst.append(ecoli.reactions_of_protein(protein = protein, check_protein_containers = True))\n",
    "print(lst[0:10])"
   ]
  },
  {
   "cell_type": "code",
   "execution_count": 28,
   "metadata": {},
   "outputs": [
    {
     "data": {
      "text/plain": [
       "\"\\nrxn\\nAn instance of the class |Reactions|. \\ncompartments\\nA list of cellular compartments, as defined in the Cellular Components Ontology. \\nSee frame 'CCO. \\ndefault-ok?\\nKeyword, Optional If true, then we return true if the reaction has no associated \\ncompartment information, or one of its associated locations is a super-class of \\none of the members of the compartments argument. \\npwy\\nKeyword, Optional If supplied, the search for associated enzymes of the argument \\nrxn is limited to the given child of |Pathways|. \\nloose?\\nKeyword, Optional If true, then the compartments 'CCO\\xe2\\x80\\x91CYTOPLASM and 'CCO\\xe2\\x80\\x91CYTOSOL \\nare treated as being the same compartment. \\n\""
      ]
     },
     "execution_count": 28,
     "metadata": {},
     "output_type": "execute_result"
    }
   ],
   "source": [
    "\"\"\"\n",
    "rxn\n",
    "An instance of the class |Reactions|. \n",
    "compartments\n",
    "A list of cellular compartments, as defined in the Cellular Components Ontology. \n",
    "See frame 'CCO. \n",
    "default-ok?\n",
    "Keyword, Optional If true, then we return true if the reaction has no associated \n",
    "compartment information, or one of its associated locations is a super-class of \n",
    "one of the members of the compartments argument. \n",
    "pwy\n",
    "Keyword, Optional If supplied, the search for associated enzymes of the argument \n",
    "rxn is limited to the given child of |Pathways|. \n",
    "loose?\n",
    "Keyword, Optional If true, then the compartments 'CCO‑CYTOPLASM and 'CCO‑CYTOSOL \n",
    "are treated as being the same compartment. \n",
    "\"\"\"\n",
    "\n",
    "# lst = []\n",
    "# for protein in complexes:\n",
    "#     lst.append(ecoli.protein_in_compartment_p(rxn = protein, compartments = u'|CCO_CYTOSOL|'))\n",
    "# print(lst[0:10])\n",
    "\n",
    "# lst = []\n",
    "# for protein in proteins:\n",
    "#     lst.append(ecoli.protein_in_compartment_p(rxn = protein, compartments = u'|CCO_CYTOSOL|'))\n",
    "# print(lst[0:10])"
   ]
  },
  {
   "cell_type": "code",
   "execution_count": 29,
   "metadata": {},
   "outputs": [
    {
     "name": "stdout",
     "output_type": "stream",
     "text": [
      "[u'|DCUA-MONOMER|', u'|G7399-MONOMER|', u'|YIDT-MONOMER|', u'|CORA-MONOMER|', u'|EG12134-MONOMER|', u'|EG11486-MONOMER|', u'|CYNX-MONOMER|', u'|YJDL-MONOMER|', u'|EG11512-MONOMER|', u'|GLTP-MONOMER|']\n"
     ]
    }
   ],
   "source": [
    "\"\"\"\n",
    "membranes\n",
    "Keyword Either :all or a list of instances of the class. Defaults to :all \n",
    "'CCO‑MEMBRANE. \n",
    "method\n",
    "Either :location or :reaction‑compartments. :location will check the 'locations \n",
    "slot, while :reaction‑compartments will examine the compartments of reaction \n",
    "substrates. Default value is :location. \n",
    "\"\"\"\n",
    "\n",
    "lst = ecoli.all_transporters_across(membranes = ':all')\n",
    "print(lst[0:10])"
   ]
  },
  {
   "cell_type": "code",
   "execution_count": 30,
   "metadata": {},
   "outputs": [
    {
     "name": "stdout",
     "output_type": "stream",
     "text": [
      "[[], [], [], [], [], [], [], [], [], []]\n",
      "[[], [], [], [], [], [], [], [], [], []]\n"
     ]
    }
   ],
   "source": [
    "lst = []\n",
    "for protein in complexes:\n",
    "    lst.append(ecoli.autocatalytic_reactions_of_enzyme(protein))\n",
    "print(lst[0:10])\n",
    "\n",
    "lst = []\n",
    "for protein in proteins:\n",
    "    lst.append(ecoli.autocatalytic_reactions_of_enzyme(protein))\n",
    "print(lst[0:10])"
   ]
  },
  {
   "cell_type": "code",
   "execution_count": 31,
   "metadata": {},
   "outputs": [
    {
     "name": "stdout",
     "output_type": "stream",
     "text": [
      "[u'|RXN0-7271|']\n",
      "[u'|RXN-18586|']\n",
      "[u'|RXN0-7271|']\n",
      "[u'|RXN0-5211|']\n",
      "[u'|RXN-15890|', u'|RXN-19474|', u'|ENTG-RXN|']\n",
      "[u'|RXN-16996|', u'|RXN-16995|']\n",
      "[u'|RXN-18388|', u'|RXN-9788|']\n",
      "[u'|RXN-15881|']\n",
      "[u'|CITTRANS-RXN|', u'|CITRYLY-RXN|']\n"
     ]
    }
   ],
   "source": [
    "for i in lst:\n",
    "    if i != []:\n",
    "        print(i)"
   ]
  },
  {
   "cell_type": "code",
   "execution_count": null,
   "metadata": {},
   "outputs": [],
   "source": []
  }
 ],
 "metadata": {
  "kernelspec": {
   "display_name": "Python 2",
   "language": "python",
   "name": "python2"
  },
  "language_info": {
   "codemirror_mode": {
    "name": "ipython",
    "version": 2
   },
   "file_extension": ".py",
   "mimetype": "text/x-python",
   "name": "python",
   "nbconvert_exporter": "python",
   "pygments_lexer": "ipython2",
   "version": "2.7.15rc1"
  }
 },
 "nbformat": 4,
 "nbformat_minor": 2
}
