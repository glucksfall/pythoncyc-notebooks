{
 "cells": [
  {
   "cell_type": "code",
   "execution_count": 1,
   "metadata": {},
   "outputs": [
    {
     "data": {
      "text/plain": [
       "0"
      ]
     },
     "execution_count": 1,
     "metadata": {},
     "output_type": "execute_result"
    }
   ],
   "source": [
    "#to run the script, you need to start pathway tools form the command line \n",
    "# using the -lisp -python options. Example (from the pathway tools github repository)\n",
    "import os\n",
    "# os.system('nohup /opt/pathway-tools/pathway-tools -lisp -python &')\n",
    "os.system('nohup /opt/pathway-tools/pathway-tools -lisp -python-local-only &') # added cybersecurity"
   ]
  },
  {
   "cell_type": "code",
   "execution_count": 13,
   "metadata": {},
   "outputs": [
    {
     "ename": "ValueError",
     "evalue": "Attempted relative import in non-package",
     "output_type": "error",
     "traceback": [
      "\u001b[0;31m\u001b[0m",
      "\u001b[0;31mValueError\u001b[0mTraceback (most recent call last)",
      "\u001b[0;32m<ipython-input-13-63e9d61d8fdf>\u001b[0m in \u001b[0;36m<module>\u001b[0;34m()\u001b[0m\n\u001b[1;32m      1\u001b[0m \u001b[0;31m# import pythoncyc\u001b[0m\u001b[0;34m\u001b[0m\u001b[0;34m\u001b[0m\u001b[0m\n\u001b[0;32m----> 2\u001b[0;31m \u001b[0;32mfrom\u001b[0m \u001b[0;34m.\u001b[0m\u001b[0;34m.\u001b[0m\u001b[0mlatendre_PythonCyc\u001b[0m\u001b[0;34m.\u001b[0m\u001b[0mpythoncyc\u001b[0m \u001b[0;32mimport\u001b[0m \u001b[0m__init__\u001b[0m\u001b[0;34m\u001b[0m\u001b[0m\n\u001b[0m\u001b[1;32m      3\u001b[0m \u001b[0mall_orgids\u001b[0m \u001b[0;34m=\u001b[0m \u001b[0mpythoncyc\u001b[0m\u001b[0;34m.\u001b[0m\u001b[0mall_orgids\u001b[0m\u001b[0;34m(\u001b[0m\u001b[0;34m)\u001b[0m\u001b[0;34m\u001b[0m\u001b[0m\n\u001b[1;32m      4\u001b[0m \u001b[0;32mprint\u001b[0m \u001b[0mall_orgids\u001b[0m\u001b[0;34m\u001b[0m\u001b[0m\n\u001b[1;32m      5\u001b[0m \u001b[0;34m\u001b[0m\u001b[0m\n",
      "\u001b[0;31mValueError\u001b[0m: Attempted relative import in non-package"
     ]
    }
   ],
   "source": [
    "# import pythoncyc\n",
    "from ..latendre_PythonCyc.pythoncyc import __init__\n",
    "all_orgids = pythoncyc.all_orgids()\n",
    "print all_orgids\n",
    "\n",
    "meta = pythoncyc.select_organism(u'|META|')\n",
    "ecoli = pythoncyc.select_organism(u'|ECOLI|')"
   ]
  },
  {
   "cell_type": "code",
   "execution_count": 3,
   "metadata": {},
   "outputs": [
    {
     "data": {
      "text/plain": [
       "[u'|PWY0-1347|',\n",
       " u'|PWY-6690|',\n",
       " u'|PWY0-1348|',\n",
       " u'|PWY-5162|',\n",
       " u'|PWY0-1352|',\n",
       " u'|PWY0-1355|',\n",
       " u'|2PHENDEG-PWY|',\n",
       " u'|PWY0-1465|',\n",
       " u'|TRESYN-PWY|',\n",
       " u'|PANTO-PWY|']"
      ]
     },
     "execution_count": 3,
     "metadata": {},
     "output_type": "execute_result"
    }
   ],
   "source": [
    "\"\"\"\n",
    "selector\n",
    "Optional Selects whether all pathways, or just small-molecule metabolism base \n",
    "pathways. Can take either a symbol of :all or :small‑molecule. Defaults to \n",
    "<code>:all</code>. \n",
    "base?\n",
    "Optional If this argument evaluates to true, only includes base pathways. \n",
    "Otherwise, all pathways, including superpathways, will be returned. \n",
    "\"\"\"\n",
    "\n",
    "ecoli.all_pathways(selector = u':all', base = True)[0:10]\n",
    "ecoli.all_pathways(selector = u':small-molecule', base = True)[0:10]"
   ]
  },
  {
   "cell_type": "code",
   "execution_count": 4,
   "metadata": {},
   "outputs": [
    {
     "data": {
      "text/plain": [
       "[u'|RXN-17635|',\n",
       " u'|RXN-6268|',\n",
       " u'|RXN-7282|',\n",
       " u'|RXN-10720|',\n",
       " u'|RXN-12870|',\n",
       " u'|RXN-14515|',\n",
       " u'|RXN-13460|',\n",
       " u'|RXN-14808|',\n",
       " u'|RXN-18819|',\n",
       " u'|RXN-15121|']"
      ]
     },
     "execution_count": 4,
     "metadata": {},
     "output_type": "execute_result"
    }
   ],
   "source": [
    "\"\"\"\n",
    "type\n",
    "Optional The type of reaction to return. Defaults to :metab‑smm. The possible \n",
    "values are:\n",
    "\n",
    ":all\n",
    "All reactions. \n",
    ":metab-pathways\n",
    "All reactions found within metabolic pathways. Includes reactions that are \n",
    "pathway holes. May include a handfull of reactions whose substrates are \n",
    "macromolecules, e.g., ACP. Excludes transport reactions. \n",
    ":metab-smm\n",
    "All reactions of small molecule metabolism, whether or not they are present in a \n",
    "pathway. Subsumes :metab‑pathways. \n",
    ":metab-all\n",
    "All enzyme-catalyzed reactions. Subsumes :metab‑smm. \n",
    ":enzyme\n",
    "All enzyme-catalyzed reactions (i.e., instances of either EC-Reactions class or \n",
    "Unclassified-Reactions class). \n",
    ":transport\n",
    "All transport reactions. \n",
    ":small-molecule\n",
    "All reactions whose substrates are all small molecules, as opposed to \n",
    "macromolecules. Excludes transport reactions. \n",
    ":protein-small-molecule-reaction\n",
    "One of the substrates of the reaction is a macromolecule, and one of the \n",
    "substrates of the reaction is a small molecule. \n",
    ":protein-reaction\n",
    "All substrates of the reaction are proteins. \n",
    ":trna-reaction\n",
    "One of the substrates of the reaction is a tRNA. \n",
    ":spontaneous\n",
    "Spontaneous reactions. \n",
    ":non-spontaneous\n",
    "Non-spontaneous reactions that are likely to be enzyme catalyzed. Some reactions \n",
    "will be returned for type :non‑spontaneous that will not be returned by \n",
    ":enzyme. \n",
    "\"\"\"\n",
    "\n",
    "ecoli.all_rxns(type = ':all')[0:10]\n",
    "ecoli.all_rxns(type = ':metab-pathways')[0:10]\n",
    "ecoli.all_rxns(type = ':metab-smm')[0:10]\n",
    "ecoli.all_rxns(type = ':metab-all')[0:10]\n",
    "ecoli.all_rxns(type = ':transport')[0:10]\n",
    "ecoli.all_rxns(type = ':small-molecule')[0:10]\n",
    "ecoli.all_rxns(type = ':protein-small-molecule-reaction')[0:10]\n",
    "ecoli.all_rxns(type = ':protein-reaction')[0:10]\n",
    "ecoli.all_rxns(type = ':trna-reaction')[0:10]\n",
    "ecoli.all_rxns(type = ':spontaneous')[0:10]\n",
    "# ecoli.all_rxns(type = ':non-spontaneous')[0:10]"
   ]
  },
  {
   "cell_type": "code",
   "execution_count": 5,
   "metadata": {},
   "outputs": [
    {
     "data": {
      "text/plain": [
       "[u'|Protein-Arginine-Aminocarbinol|',\n",
       " u'|PROTON|',\n",
       " u'|Protein-Arginine-Imidazolidine|']"
      ]
     },
     "execution_count": 5,
     "metadata": {},
     "output_type": "execute_result"
    }
   ],
   "source": [
    "\"\"\"\n",
    "rxns\n",
    "A list of reaction frames. \n",
    "\"\"\"\n",
    "\n",
    "ecoli.all_substrates(rxns = ecoli.all_rxns(type = ':spontaneous')[0:1])"
   ]
  },
  {
   "cell_type": "code",
   "execution_count": 6,
   "metadata": {},
   "outputs": [
    {
     "data": {
      "text/plain": [
       "[u'|DIPYRROMETHANE|',\n",
       " u'|GTP|',\n",
       " u'|UBIQUINONE-8|',\n",
       " u'|AMMONIUM|',\n",
       " u'|LYS|',\n",
       " u'|HEME_O|',\n",
       " u'|CPD-18260|',\n",
       " u'|PQQ|',\n",
       " u'|SIROHEME|',\n",
       " u'|Mo-molybdopterin-cofactor|']"
      ]
     },
     "execution_count": 6,
     "metadata": {},
     "output_type": "execute_result"
    }
   ],
   "source": [
    "ecoli.all_cofactors()[0:10]"
   ]
  },
  {
   "cell_type": "code",
   "execution_count": 7,
   "metadata": {},
   "outputs": [
    {
     "data": {
      "text/plain": [
       "[u'|DEOXY-RIBOSE-1P|',\n",
       " u'|CPD0-1546|',\n",
       " u'|CPD0-1545|',\n",
       " u'|NACL|',\n",
       " u'|Gramicidins|',\n",
       " u'|CPD0-1633|',\n",
       " u'|G7642-MONOMER|',\n",
       " u'|CPD-9229|',\n",
       " u'|PENICILLIN|',\n",
       " u'|CPD0-2358|']"
      ]
     },
     "execution_count": 7,
     "metadata": {},
     "output_type": "execute_result"
    }
   ],
   "source": [
    "ecoli.all_modulators()[0:10]"
   ]
  },
  {
   "cell_type": "code",
   "execution_count": 8,
   "metadata": {},
   "outputs": [
    {
     "data": {
      "text/plain": [
       "[u'|LI+|',\n",
       " u'|MELIBIOSE|',\n",
       " u'|D-GALACTURONATE|',\n",
       " u'|PROTON|',\n",
       " u'|GUANINE|',\n",
       " u'|N-ACETYL-D-MANNOSAMINE-6P|',\n",
       " u'|CPD-334|',\n",
       " u'|CPD0-2499|',\n",
       " u'|D-GALACTARATE|',\n",
       " u'|VAL|']"
      ]
     },
     "execution_count": 8,
     "metadata": {},
     "output_type": "execute_result"
    }
   ],
   "source": [
    "\"\"\"\n",
    "from-compartment\n",
    "Keyword, Optional The compartment that the chemical is coming from (see Cellular \n",
    "Component Ontology). \n",
    "to-compartment\n",
    "Keyword, Optional The compartment that the chemical is going to (see Cellular \n",
    "Component Ontology). \n",
    "show-compartment\n",
    "Keyword, Optional Show the form of the compound as it is present in the \n",
    "specified compartment (see Cellular Component Ontology), if the compound is \n",
    "modified during transport. \n",
    "primary-only?\n",
    "Keyword, Optional If true, filter out common transport compounds, such as \n",
    "protons and Na+. \n",
    "\"\"\"\n",
    "\n",
    "ecoli.all_transported_chemicals()[0:10]\n",
    "ecoli.all_transported_chemicals(primary_only = True)[0:10]\n",
    "ecoli.all_transported_chemicals(from_compartment = u'|CCO-CYTOSOL|')[0:10]\n",
    "ecoli.all_transported_chemicals(to_compartment = u'|CCO-CYTOSOL|')[0:10]\n",
    "# ecoli.all_transported_chemicals(show_compartment = 'cell')[0:10] # not valid argument"
   ]
  },
  {
   "cell_type": "code",
   "execution_count": 9,
   "metadata": {},
   "outputs": [
    {
     "data": {
      "text/plain": [
       "[u'|CPLX0-7660|',\n",
       " u'|CPLX0-8247|',\n",
       " u'|CPLX0-3102|',\n",
       " u'|ACETYL-COA-CARBOXYLTRANSFER-CPLX|',\n",
       " u'|CPLX0-7|',\n",
       " u'|TRANS-CPLX-204|',\n",
       " u'|FLAGELLAR-MOTOR-COMPLEX|',\n",
       " u'|1-PFK|',\n",
       " u'|CPLX0-8125|',\n",
       " u'|CPLX0-7687|']"
      ]
     },
     "execution_count": 9,
     "metadata": {},
     "output_type": "execute_result"
    }
   ],
   "source": [
    "\"\"\"\n",
    "filter\n",
    "Keyword The type of protein complexes to return. The argument must be one of the \n",
    "following values:\n",
    "\n",
    ":all or t\n",
    "Return all protein complexes. \n",
    ":hetero\n",
    "Return all heteromultimers. \n",
    ":homo\n",
    "Return all homomultimers. \n",
    "\"\"\"\n",
    "\n",
    "ecoli.all_protein_complexes(filter = 'all')[0:10]\n",
    "ecoli.all_protein_complexes(filter = 'hetero')[0:10]\n",
    "ecoli.all_protein_complexes(filter = 'homo')[0:10]\n",
    "ecoli.all_protein_complexes()[0:10]"
   ]
  },
  {
   "cell_type": "code",
   "execution_count": 10,
   "metadata": {},
   "outputs": [
    {
     "data": {
      "text/plain": [
       "[u'|G6165-MONOMER|',\n",
       " u'|PHOSPHO-NARP|',\n",
       " u'|G6882-MONOMER|',\n",
       " u'|MONOMER0-1|',\n",
       " u'|G7947-MONOMER|',\n",
       " u'|G6175-MONOMER|',\n",
       " u'|EG11554-MONOMER|',\n",
       " u'|PD01196|',\n",
       " u'|EG10087-MONOMER|',\n",
       " u'|EG10226-MONOMER|']"
      ]
     },
     "execution_count": 10,
     "metadata": {},
     "output_type": "execute_result"
    }
   ],
   "source": [
    "\"\"\"\n",
    "Side-Effects\n",
    "\n",
    "allow-modified-forms?\n",
    "Keyword, Optional A boolean value. If true, modified and unmodified forms of the \n",
    "protein are returned. If false, then only unmodified forms of the proteins are \n",
    "returned. The default value is t.\n",
    "\"\"\"\n",
    "\n",
    "ecoli.all_transcription_factors()[0:10]\n",
    "ecoli.all_transcription_factors(allow_modified_forms = True)[0:10]"
   ]
  },
  {
   "cell_type": "code",
   "execution_count": 11,
   "metadata": {},
   "outputs": [
    {
     "data": {
      "text/plain": [
       "[u'|G6165-MONOMER|',\n",
       " u'|NARP-MONOMER|',\n",
       " u'|TAR-CPLX|',\n",
       " u'|G6882-MONOMER|',\n",
       " u'|EG11140-MONOMER|',\n",
       " u'|EG10881-MONOMER|',\n",
       " u'|G7947-MONOMER|',\n",
       " u'|G6175-MONOMER|',\n",
       " u'|EG12111-MONOMER|',\n",
       " u'|EG11554-MONOMER|']"
      ]
     },
     "execution_count": 11,
     "metadata": {},
     "output_type": "execute_result"
    }
   ],
   "source": [
    "\"\"\"\n",
    "class\n",
    "Keyword, Optional The class |Regulation| or a subclass. It defaults to \n",
    "|Regulation‑of‑Transcription‑Initiation|. \n",
    "allow-modified forms?\n",
    "Keyword, Optional A boolean value. If true, modified and unmodified forms of the \n",
    "protein are returned. If false, then only unmodified forms of the proteins are \n",
    "returned. The default value is t.\n",
    "\"\"\"\n",
    "\n",
    "ecoli.all_genetic_regulation_proteins(class_name = u'|Regulation|', allow_modified_forms = False)[0:10]"
   ]
  },
  {
   "cell_type": "code",
   "execution_count": 12,
   "metadata": {},
   "outputs": [
    {
     "data": {
      "text/plain": [
       "[u'|EG11355-MONOMER|',\n",
       " u'|RPOE-MONOMER|',\n",
       " u'|RPOD-MONOMER|',\n",
       " u'|RPON-MONOMER|',\n",
       " u'|PD00440|',\n",
       " u'|RPOS-MONOMER|',\n",
       " u'|RPOH-MONOMER|']"
      ]
     },
     "execution_count": 12,
     "metadata": {},
     "output_type": "execute_result"
    }
   ],
   "source": [
    "ecoli.all_sigma_factors()"
   ]
  },
  {
   "cell_type": "code",
   "execution_count": 13,
   "metadata": {},
   "outputs": [
    {
     "data": {
      "text/plain": [
       "[[u'|TU0-8814|'],\n",
       " [u'|TU0-8710|'],\n",
       " [u'|TU0-13847|'],\n",
       " [u'|TU0-13769|'],\n",
       " [u'|TU0-13667|'],\n",
       " [u'|TU00321|'],\n",
       " [u'|TU0-13385|'],\n",
       " [u'|TU00223|'],\n",
       " [u'|TU0-14243|'],\n",
       " [u'|TU0-14168|']]"
      ]
     },
     "execution_count": 13,
     "metadata": {},
     "output_type": "execute_result"
    }
   ],
   "source": [
    "ecoli.all_operons()[0:10]"
   ]
  },
  {
   "cell_type": "code",
   "execution_count": 14,
   "metadata": {},
   "outputs": [
    {
     "data": {
      "text/plain": [
       "[u'|RXN-14142|',\n",
       " u'|GLUCOSE-1-PHOSPHAT-RXN|',\n",
       " u'|2.7.10.1-RXN|',\n",
       " u'|5.99.1.2-RXN|',\n",
       " u'|1.5.1.34-RXN|',\n",
       " u'|RXN-17780|',\n",
       " u'|KETOACYLCOATHIOL-RXN|',\n",
       " u'|RXN0-7251|',\n",
       " u'|GLYCPDIESTER-RXN|',\n",
       " u'|LTAA-RXN|']"
      ]
     },
     "execution_count": 14,
     "metadata": {},
     "output_type": "execute_result"
    }
   ],
   "source": [
    "\"\"\"\n",
    "rxns\n",
    "Keyword, Optional A list of instances of the class |Reactions|. Defaults to the \n",
    "result of (all‑rxns :enzyme).\n",
    "\"\"\"\n",
    "\n",
    "ecoli.rxns_w_isozymes(rxns = ecoli.all_rxns(':enzyme'))[0:10]\n",
    "ecoli.rxns_w_isozymes()[0:10]"
   ]
  },
  {
   "cell_type": "code",
   "execution_count": 15,
   "metadata": {},
   "outputs": [
    {
     "data": {
      "text/plain": [
       "[u'|DCYSDESULF-RXN|',\n",
       " u'|RXN-14142|',\n",
       " u'|RXN-12402|',\n",
       " u'|GLUCOSE-1-PHOSPHAT-RXN|',\n",
       " u'|PUTTRANSAM-RXN|',\n",
       " u'|1.5.1.34-RXN|',\n",
       " u'|DHDOGALDOL-RXN|',\n",
       " u'|RXN-19777|',\n",
       " u'|RXN-12073|',\n",
       " u'|RXN-14285|']"
      ]
     },
     "execution_count": 15,
     "metadata": {},
     "output_type": "execute_result"
    }
   ],
   "source": [
    "\"\"\"\n",
    "rxns\n",
    "Keyword, Optional A list of instances of the class |Reactions|. Defaults to the \n",
    "result of (all‑rxns :enzyme).\n",
    "\"\"\"\n",
    "\n",
    "ecoli.rxns_catalyzed_by_complex(rxns = ecoli.all_rxns(':enzyme'))[0:10]\n",
    "ecoli.rxns_catalyzed_by_complex()[0:10]"
   ]
  },
  {
   "cell_type": "code",
   "execution_count": 16,
   "metadata": {},
   "outputs": [
    {
     "data": {
      "text/plain": [
       "[u'|MHPELY-MONOMER|',\n",
       " u'|G6571-MONOMER|',\n",
       " u'|G7751-MONOMER|',\n",
       " u'|G7910-MONOMER|',\n",
       " u'|G6904-MONOMER|',\n",
       " u'|PGLUCONDEHYDRAT-MONOMER|',\n",
       " u'|MONOMER0-1241|',\n",
       " u'|ACECITLY-CPLX|',\n",
       " u'|G7422-MONOMER|',\n",
       " u'|EG12069-MONOMER|']"
      ]
     },
     "execution_count": 16,
     "metadata": {},
     "output_type": "execute_result"
    }
   ],
   "source": [
    "\"\"\"\n",
    "type\n",
    "Keyword, Optional A type as taken from the argument to #'enzyme?. Defaults to \n",
    ":chemical‑change.\n",
    "\n",
    ">> type\n",
    "Optional Can take on one of the following values to select more precisely what \n",
    "is meant by an “enzyme”:\n",
    "\n",
    ":any\n",
    "Any protein that catalyzes a reaction is considered an enzyme. \n",
    ":chemical-change\n",
    "If the reactants and products of the catalyzed reactin differ, and not just by \n",
    "their cellular location, then the protein is considered an enzyme. \n",
    ":small-molecule\n",
    "If the reactants of the catalyzed reaction differ and are small molecules, then \n",
    "the protein is considered an enzyme. \n",
    ":transport\n",
    "If the protein catalyzes a transport reaction. \n",
    ":non-transport\n",
    "If the protein only catalyzes non-transport reactions. \n",
    "\"\"\"\n",
    "\n",
    "ecoli.all_enzymes()[0:10]\n",
    "ecoli.all_enzymes(type = ':any')[0:10]\n",
    "ecoli.all_enzymes(type = ':chemical-change')[0:10]\n",
    "ecoli.all_enzymes(type = ':small-molecule')[0:10]\n",
    "ecoli.all_enzymes(type = ':transport')[0:10]\n",
    "ecoli.all_enzymes(type = ':non-transport')[0:10]"
   ]
  },
  {
   "cell_type": "code",
   "execution_count": 17,
   "metadata": {},
   "outputs": [
    {
     "data": {
      "text/plain": [
       "[u'|DCUA-MONOMER|',\n",
       " u'|G7399-MONOMER|',\n",
       " u'|YIDT-MONOMER|',\n",
       " u'|CORA-MONOMER|',\n",
       " u'|EG12134-MONOMER|',\n",
       " u'|EG11486-MONOMER|',\n",
       " u'|CYNX-MONOMER|',\n",
       " u'|YJDL-MONOMER|',\n",
       " u'|EG11512-MONOMER|',\n",
       " u'|GLTP-MONOMER|']"
      ]
     },
     "execution_count": 17,
     "metadata": {},
     "output_type": "execute_result"
    }
   ],
   "source": [
    "ecoli.all_transporters()[0:10]"
   ]
  },
  {
   "cell_type": "code",
   "execution_count": null,
   "metadata": {},
   "outputs": [],
   "source": []
  }
 ],
 "metadata": {
  "kernelspec": {
   "display_name": "Python 2",
   "language": "python",
   "name": "python2"
  },
  "language_info": {
   "codemirror_mode": {
    "name": "ipython",
    "version": 2
   },
   "file_extension": ".py",
   "mimetype": "text/x-python",
   "name": "python",
   "nbconvert_exporter": "python",
   "pygments_lexer": "ipython2",
   "version": "2.7.15rc1"
  }
 },
 "nbformat": 4,
 "nbformat_minor": 2
}
