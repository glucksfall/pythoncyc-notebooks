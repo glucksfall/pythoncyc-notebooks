{
 "cells": [
  {
   "cell_type": "code",
   "execution_count": 1,
   "metadata": {},
   "outputs": [
    {
     "data": {
      "text/plain": [
       "0"
      ]
     },
     "execution_count": 1,
     "metadata": {},
     "output_type": "execute_result"
    }
   ],
   "source": [
    "#to run the script, you need to start pathway tools form the command line \n",
    "# using the -lisp -python options. Example (from the pathway tools github repository)\n",
    "import os\n",
    "# os.system('nohup /opt/pathway-tools/pathway-tools -lisp -python &')\n",
    "os.system('nohup /opt/pathway-tools/pathway-tools -lisp -python-local-only &') # added cybersecurity"
   ]
  },
  {
   "cell_type": "code",
   "execution_count": 2,
   "metadata": {},
   "outputs": [
    {
     "name": "stdout",
     "output_type": "stream",
     "text": [
      "[u'|META|', u'|ECOLI|']\n"
     ]
    }
   ],
   "source": [
    "import pythoncyc\n",
    "all_orgids = pythoncyc.all_orgids()\n",
    "print all_orgids\n",
    "\n",
    "meta = pythoncyc.select_organism(u'|META|')\n",
    "ecoli = pythoncyc.select_organism(u'|ECOLI|')\n",
    "compounds = [x.frameid for x in ecoli.compounds.instances]\n",
    "reactions = [x.frameid for x in ecoli.reactions.instances]"
   ]
  },
  {
   "cell_type": "code",
   "execution_count": 3,
   "metadata": {},
   "outputs": [
    {
     "name": "stdout",
     "output_type": "stream",
     "text": [
      "[[u'|RXN0-5298|'], [u'|RXN0-1922|'], [], [u'|QUERCETIN-23-DIOXYGENASE-RXN|'], [], [], [], [], [], [u'|RXN-14408|']]\n"
     ]
    }
   ],
   "source": [
    "\"\"\"\n",
    "cpd\n",
    "A child of class |Compounds|. \n",
    "non-specific-too?\n",
    "Keyword, Optional If non-nil, returns all generic reactions where cpd, or a \n",
    "parent of cpd, appears as a substrate. \n",
    "transport-only?\n",
    "Keyword, Optional If non-nil, return only transport reactions. \n",
    "compartment\n",
    "Keyword, Optional If non-nil, return only reactions within the specified \n",
    "compartment. \n",
    "enzymatic?\n",
    "Keyword, Optional If non-nil, return only enzymatic reactions. \n",
    "\"\"\"\n",
    "\n",
    "lst = []\n",
    "for compound in compounds:\n",
    "    lst.append(ecoli.reactions_of_compound(compound))\n",
    "print(lst[0:10])"
   ]
  },
  {
   "cell_type": "code",
   "execution_count": 4,
   "metadata": {},
   "outputs": [],
   "source": [
    "# lst = []\n",
    "# for compound in compounds:\n",
    "#     for reaction in reactions:\n",
    "#         lst.append(ecoli.substrate_of_generic_rxn(compound, reaction))\n",
    "# print(lst[0:10])"
   ]
  },
  {
   "cell_type": "code",
   "execution_count": 5,
   "metadata": {},
   "outputs": [
    {
     "name": "stdout",
     "output_type": "stream",
     "text": [
      "[[[u'|RXN0-5298|', u'|FUCCAT-PWY|'], [u'|RXN0-5298|', u'|FUC-RHAMCAT-PWY|']], [[u'|RXN0-1922|', None]], [[u'|ARGDECARBOX-RXN|', u'|PWY0-1299|'], [u'|ARGDECARBOX-RXN|', u'|PWY-40|'], [u'|ARGDECARBOX-RXN|', u'|POLYAMSYN-PWY|'], [u'|ARGDECARBOX-RXN|', u'|ARG+POLYAMINE-SYN|'], [u'|ARGDECARBOX-RXN|', u'|PWY0-823|'], [u'|ARGDECARBOX-RXN|', u'|ARGDEG-PWY|'], [u'|ARGDECARBOX-RXN|', u'|ORNARGDEG-PWY|']], [[u'|QUERCETIN-23-DIOXYGENASE-RXN|', None], [u'|RXN-18737|', None], [u'|ATPSYN-RXN|', u'|PWY-7980|']], [[u'|GALACTOACETYLTRAN-RXN|', None]], [], [[u'|RXN0-5266|', u'|PWY-7545|'], [u'|RXN0-5266|', u'|PWY0-1568|'], [u'|RXN0-5266|', u'|PWY0-1353|'], [u'|RXN0-5266|', u'|PWY0-1334|'], [u'|NADH-DEHYDROG-A-RXN|', u'|PWY0-1335|'], [u'|NADH-DEHYDROG-A-RXN|', u'|PWY0-1334|'], [u'|RXN0-5268|', u'|PWY0-1329|'], [u'|RXN0-5268|', u'|PWY-7544|'], [u'|RXN0-5268|', u'|PWY0-1565|'], [u'|RXN0-5268|', u'|PWY0-1561|'], [u'|RXN0-5268|', u'|PWY0-1335|'], [u'|RXN0-5268|', u'|PWY0-1567|'], [u'|RXN0-5268|', u'|PWY0-1544|']], [[u'|RXN0-3501|', u'|PWY0-1581|'], [u'|RXN0-3501|', u'|PWY0-1352|'], [u'|RXN0-3501|', u'|PWY0-1321|']], [[u'|RXN0-1139|', None]], [[u'|RXN-14408|', None]]]\n"
     ]
    }
   ],
   "source": [
    "\"\"\"\n",
    "cpd\n",
    "An instance of class |Compounds|. \n",
    "non-specific-too?\n",
    "Keyword, Optional If non-nil, returns all generic reactions where cpd, or a \n",
    "parent of cpd, appears as a substrate. \n",
    "modulators?\n",
    "Keyword, Optional If non-nil, returns pathways where cpd appears as a regulator \n",
    "as well. \n",
    "phys-relevant?\n",
    "Keyword, Optional If true, then only return inhibitors that are associated with \n",
    "|Regulation| instances that have the 'physiologically‑relevant? slot set to \n",
    "non-nil. \n",
    "include-rxns?\n",
    "Keyword, Optional If non-nil, then return a list of reaction-pathway pairs. \n",
    "\"\"\"\n",
    "\n",
    "lst = []\n",
    "for compound in compounds:\n",
    "    lst.append(ecoli.pathways_of_compound(compound, modulators = True, include_rxns = True))\n",
    "print(lst[0:10])"
   ]
  },
  {
   "cell_type": "code",
   "execution_count": 6,
   "metadata": {},
   "outputs": [],
   "source": [
    "\"\"\"\n",
    "cpds\n",
    "An instance or list of instances of class |Compounds|. \n",
    "mode\n",
    "Keyword, Optional Represents the type of regulation. Can take on the values of \n",
    "“+”, “-”, or 'nil. \n",
    "mechanisms\n",
    "Keyword, Optional Keywords from the 'mechanism slot of the corresponding \n",
    "sub-class of the class |Regulation|. If non-nil, only regulation objects with \n",
    "mechanisms in this list will be explored for regulated objects. \n",
    "phys-relevant?\n",
    "Keyword, Optional If true, then only return inhibitors that are associated with \n",
    "|Regulation| instances that have the 'physiologically‑relevant? slot set to \n",
    "non-nil. \n",
    "slots\n",
    "Keyword A list of enzymatic reaction slots to \n",
    "\"\"\"\n",
    "\n",
    "lst = []\n",
    "# for compound in compounds:\n",
    "#     lst.append(ecoli.activated_or_inhibited_by_compound(compound))\n",
    "# print(lst[0:10])"
   ]
  },
  {
   "cell_type": "code",
   "execution_count": 7,
   "metadata": {},
   "outputs": [
    {
     "name": "stdout",
     "output_type": "stream",
     "text": [
      "[[], [], [], [], [], [], [], [], [], []]\n"
     ]
    }
   ],
   "source": [
    "lst = []\n",
    "for compound in compounds:\n",
    "    lst.append(ecoli.tfs_bound_to_compound(compound, include_inactive = True))\n",
    "print(lst[0:10])"
   ]
  },
  {
   "cell_type": "code",
   "execution_count": null,
   "metadata": {},
   "outputs": [],
   "source": []
  }
 ],
 "metadata": {
  "kernelspec": {
   "display_name": "Python 2",
   "language": "python",
   "name": "python2"
  },
  "language_info": {
   "codemirror_mode": {
    "name": "ipython",
    "version": 2
   },
   "file_extension": ".py",
   "mimetype": "text/x-python",
   "name": "python",
   "nbconvert_exporter": "python",
   "pygments_lexer": "ipython2",
   "version": "2.7.15rc1"
  }
 },
 "nbformat": 4,
 "nbformat_minor": 2
}
