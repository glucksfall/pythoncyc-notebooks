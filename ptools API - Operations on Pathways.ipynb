{
 "cells": [
  {
   "cell_type": "code",
   "execution_count": 1,
   "metadata": {},
   "outputs": [
    {
     "data": {
      "text/plain": [
       "0"
      ]
     },
     "execution_count": 1,
     "metadata": {},
     "output_type": "execute_result"
    }
   ],
   "source": [
    "#to run the script, you need to start pathway tools form the command line \n",
    "# using the -lisp -python options. Example (from the pathway tools github repository)\n",
    "import os\n",
    "# os.system('nohup /opt/pathway-tools/pathway-tools -lisp -python &')\n",
    "os.system('nohup /opt/pathway-tools/pathway-tools -lisp -python-local-only &') # added cybersecurity"
   ]
  },
  {
   "cell_type": "code",
   "execution_count": 2,
   "metadata": {},
   "outputs": [
    {
     "name": "stdout",
     "output_type": "stream",
     "text": [
      "[u'|META|', u'|ECOLI|']\n"
     ]
    }
   ],
   "source": [
    "import pythoncyc\n",
    "all_orgids = pythoncyc.all_orgids()\n",
    "print all_orgids\n",
    "\n",
    "meta = pythoncyc.select_organism(u'|META|')\n",
    "ecoli = pythoncyc.select_organism(u'|ECOLI|')"
   ]
  },
  {
   "cell_type": "code",
   "execution_count": 3,
   "metadata": {},
   "outputs": [
    {
     "data": {
      "text/plain": [
       "[u'|EG12082|',\n",
       " u'|EG12088|',\n",
       " u'|EG12090|',\n",
       " u'|EG12091|',\n",
       " u'|EG12092|',\n",
       " u'|EG11773|',\n",
       " u'|EG12093|',\n",
       " u'|EG12089|',\n",
       " u'|EG12087|',\n",
       " u'|EG11774|',\n",
       " u'|EG12086|',\n",
       " u'|EG12084|',\n",
       " u'|EG12083|',\n",
       " u'|EG11815|',\n",
       " u'|EG11814|']"
      ]
     },
     "execution_count": 3,
     "metadata": {},
     "output_type": "execute_result"
    }
   ],
   "source": [
    "\"\"\"\n",
    "pwy\n",
    "An instance of the class |Pathways|. \n",
    "sorted?\n",
    "Keyword, Optional If true, the genes are sorted in the order in which the \n",
    "corresponding reaction occurrs in the sequence of the pathway. \n",
    "\"\"\"\n",
    "\n",
    "lst = []\n",
    "for pwy in ecoli.all_pathways(selector = ':all', base = True):\n",
    "    lst.append(ecoli.genes_of_pathway(pwy = pwy))\n",
    "lst[0]"
   ]
  },
  {
   "cell_type": "code",
   "execution_count": 4,
   "metadata": {},
   "outputs": [
    {
     "data": {
      "text/plain": [
       "[u'|NADH-DHI-CPLX|', u'|TMAOREDUCTI-CPLX|']"
      ]
     },
     "execution_count": 4,
     "metadata": {},
     "output_type": "execute_result"
    }
   ],
   "source": [
    "\"\"\"\n",
    "pwy\n",
    "An instance of the class |Pathways|. \n",
    "species\n",
    "Keyword, Optional A list of species, such that in a multi-organism PGDB such as \n",
    "MetaCyc, only proteins found in those organisms will be returned. This list can \n",
    "include valid org‑ids, children of class |Organisms|, and strings. Please see \n",
    "the documentation for the 'species slot‑unit for more information. \n",
    "experimental-only?\n",
    "Keyword, Optional When true, only return enzymes that have a non-computational \n",
    "evidence code associated with it. \n",
    "sorted?\n",
    "Keyword, Optional If true, the enzymes are sorted in the order in which the \n",
    "corresponding reaction occurrs in the sequence of the pathway. \n",
    "\"\"\"\n",
    "\n",
    "lst = []\n",
    "for pwy in ecoli.all_pathways(selector = ':all', base = True):\n",
    "    lst.append(ecoli.enzymes_of_pathway(pwy = pwy))\n",
    "lst[0]"
   ]
  },
  {
   "cell_type": "code",
   "execution_count": 5,
   "metadata": {},
   "outputs": [
    {
     "data": {
      "text/plain": [
       "[u'|TRIMETHYLAMINE-N-O|',\n",
       " u'|TRIMETHYLAMINE|',\n",
       " u'|WATER|',\n",
       " u'|Menaquinones|',\n",
       " u'|Menaquinols|',\n",
       " u'|E-|',\n",
       " u'|PROTON|',\n",
       " u'|NAD|',\n",
       " u'|NADH|']"
      ]
     },
     "execution_count": 5,
     "metadata": {},
     "output_type": "execute_result"
    }
   ],
   "source": [
    "lst = []\n",
    "for pwy in ecoli.all_pathways(selector = ':all', base = True):\n",
    "    lst.append(ecoli.compounds_of_pathway(pwy = pwy))\n",
    "lst[0]"
   ]
  },
  {
   "cell_type": "code",
   "execution_count": 6,
   "metadata": {},
   "outputs": [
    {
     "data": {
      "text/plain": [
       "[[u'|NADH|',\n",
       "  u'|Menaquinones|',\n",
       "  u'|Menaquinols|',\n",
       "  u'|PROTON|',\n",
       "  u'|TRIMETHYLAMINE-N-O|'],\n",
       " [u'|TRIMETHYLAMINE-N-O|', u'|NADH|'],\n",
       " [u'|NAD|',\n",
       "  u'|Menaquinols|',\n",
       "  u'|PROTON|',\n",
       "  u'|TRIMETHYLAMINE|',\n",
       "  u'|WATER|',\n",
       "  u'|Menaquinones|'],\n",
       " [u'|WATER|', u'|TRIMETHYLAMINE|', u'|NAD|']]"
      ]
     },
     "execution_count": 6,
     "metadata": {},
     "output_type": "execute_result"
    }
   ],
   "source": [
    "lst = []\n",
    "for pwy in ecoli.all_pathways(selector = ':all', base = True):\n",
    "    lst.append(ecoli.substrates_of_pathway(pwy = pwy))\n",
    "lst[0]"
   ]
  },
  {
   "cell_type": "code",
   "execution_count": 7,
   "metadata": {},
   "outputs": [
    {
     "data": {
      "text/plain": [
       "[[],\n",
       " [],\n",
       " [],\n",
       " [],\n",
       " [],\n",
       " [u'|PWY0-1584|', u'|PWY0-1581|', u'|PWY0-1573|', u'|PWY0-1321|'],\n",
       " [],\n",
       " [],\n",
       " [],\n",
       " []]"
      ]
     },
     "execution_count": 7,
     "metadata": {},
     "output_type": "execute_result"
    }
   ],
   "source": [
    "lst = []\n",
    "for pwy in ecoli.all_pathways(selector = ':all', base = True):\n",
    "    lst.append(ecoli.variants_of_pathway(pwy = pwy))\n",
    "lst[0:10]"
   ]
  },
  {
   "cell_type": "code",
   "execution_count": 8,
   "metadata": {},
   "outputs": [
    {
     "data": {
      "text/plain": [
       "[[[u'|RXN0-5264|', u'|RXN0-5388|']], 1, 2, 2]"
      ]
     },
     "execution_count": 8,
     "metadata": {},
     "output_type": "execute_result"
    }
   ],
   "source": [
    "\"\"\"\n",
    "pwy\n",
    "An instance of the class |Pathways|, which is not a super-pathway (i.e., does \n",
    "not have any entries in its 'sub‑pathways slot). \n",
    "rxn-list\n",
    "Optional The list of reactions to use as the starting list of connected \n",
    "component clusters. Defaults to (get‑slot‑values pwy 'reaction‑list).\n",
    "\n",
    "pred-list\n",
    "Optional The list of reaction predecessors to iterate from in order to cluster \n",
    "the reactions in rxn‑list. Defaults to (get‑slot‑values pwy 'predecessors).\n",
    "\"\"\"\n",
    "\n",
    "lst = []\n",
    "for pwy in ecoli.all_pathways(selector = ':all', base = True):\n",
    "    lst.append(ecoli.pathway_components(pwy = pwy))\n",
    "lst[0]"
   ]
  },
  {
   "cell_type": "code",
   "execution_count": 9,
   "metadata": {},
   "outputs": [
    {
     "data": {
      "text/plain": [
       "[False, True, False, False, False, False, True, False, False, False]"
      ]
     },
     "execution_count": 9,
     "metadata": {},
     "output_type": "execute_result"
    }
   ],
   "source": [
    "lst = []\n",
    "for pwy in ecoli.all_pathways(selector = ':all', base = True):\n",
    "    lst.append(ecoli.noncontiguous_pathway_p(pwy = pwy))\n",
    "lst[0:10]"
   ]
  },
  {
   "cell_type": "code",
   "execution_count": 10,
   "metadata": {},
   "outputs": [
    {
     "data": {
      "text/plain": [
       "[[u'|RXN-15348|', u'|RXN-15348|', False],\n",
       " [u'|RXN-15348|', u'|LACTALDREDUCT-RXN|', False],\n",
       " [u'|RXN-15348|', u'|PFLDEACTIV-RXN|', False],\n",
       " [u'|RXN-15348|', u'|OHMETPYRKIN-RXN|', False],\n",
       " [u'|RXN-15348|', u'|RXN0-7094|', False],\n",
       " [u'|RXN-15348|', u'|TRIOSEPISOMERIZATION-RXN|', False],\n",
       " [u'|RXN-15348|', u'|RXN0-7298|', False],\n",
       " [u'|RXN-15348|', u'|RXN0-1137|', False],\n",
       " [u'|RXN-15348|', u'|BADH-RXN|', False],\n",
       " [u'|RXN-15348|', u'|DMKCYT-RXN|', False]]"
      ]
     },
     "execution_count": 10,
     "metadata": {},
     "output_type": "execute_result"
    }
   ],
   "source": [
    "\"\"\"\n",
    "rxn1\n",
    "An instance of the class |Reactions|. \n",
    "rxn2\n",
    "An instance of the class |Reactions|. \n",
    "pwy\n",
    "An instance of the class |Pathways|. \n",
    "\"\"\"\n",
    "\n",
    "lst = []\n",
    "for pwy in ecoli.all_pathways(selector = ':all', base = True)[0:10]:\n",
    "    for rxn1 in ecoli.all_rxns(type = ':all')[0:10]:\n",
    "        for rxn2 in ecoli.all_rxns(type = ':all')[0:10]:\n",
    "            lst.append([rxn1, rxn2, ecoli.rxns_adjacent_in_pwy_p(rxn1 = rxn1, rxn2 = rxn2, pwy = pwy)])\n",
    "#     lst.append(ecoli.rxns_adjacent_in_pwy_p(rxn1 = u'|RXN0-5264|', rxn2 = u'|RXN0-5388|', pwy = pwy))\n",
    "lst[0:10]"
   ]
  },
  {
   "cell_type": "code",
   "execution_count": null,
   "metadata": {},
   "outputs": [],
   "source": []
  }
 ],
 "metadata": {
  "kernelspec": {
   "display_name": "Python 2",
   "language": "python",
   "name": "python2"
  },
  "language_info": {
   "codemirror_mode": {
    "name": "ipython",
    "version": 2
   },
   "file_extension": ".py",
   "mimetype": "text/x-python",
   "name": "python",
   "nbconvert_exporter": "python",
   "pygments_lexer": "ipython2",
   "version": "2.7.15rc1"
  }
 },
 "nbformat": 4,
 "nbformat_minor": 2
}
