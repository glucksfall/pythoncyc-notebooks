{
 "cells": [
  {
   "cell_type": "code",
   "execution_count": 1,
   "metadata": {},
   "outputs": [
    {
     "data": {
      "text/plain": [
       "0"
      ]
     },
     "execution_count": 1,
     "metadata": {},
     "output_type": "execute_result"
    }
   ],
   "source": [
    "#to run the script, you need to start pathway tools form the command line \n",
    "# using the -lisp -python options. Example (from the pathway tools github repository)\n",
    "import os\n",
    "# os.system('nohup /opt/pathway-tools/pathway-tools -lisp -python &')\n",
    "os.system('nohup /opt/pathway-tools/pathway-tools -lisp -python-local-only &') # added cybersecurity"
   ]
  },
  {
   "cell_type": "code",
   "execution_count": 2,
   "metadata": {},
   "outputs": [
    {
     "name": "stdout",
     "output_type": "stream",
     "text": [
      "[u'|META|', u'|ECOLI|']\n"
     ]
    }
   ],
   "source": [
    "import pythoncyc\n",
    "all_orgids = pythoncyc.all_orgids()\n",
    "print all_orgids\n",
    "\n",
    "meta = pythoncyc.select_organism(u'|META|')\n",
    "ecoli = pythoncyc.select_organism(u'|ECOLI|')"
   ]
  },
  {
   "cell_type": "code",
   "execution_count": 3,
   "metadata": {},
   "outputs": [
    {
     "data": {
      "text/plain": [
       "[[],\n",
       " [u'|EG10351|'],\n",
       " [u'|EG10031|'],\n",
       " [u'|G7259|', u'|G7135|'],\n",
       " [],\n",
       " [u'|EG11015|'],\n",
       " [u'|M007|'],\n",
       " [u'|EG11591|'],\n",
       " [u'|EG10110|'],\n",
       " []]"
      ]
     },
     "execution_count": 3,
     "metadata": {},
     "output_type": "execute_result"
    }
   ],
   "source": [
    "lst = []\n",
    "for rxn in ecoli.all_rxns(type = ':all'):\n",
    "    lst.append(ecoli.genes_of_reaction(rxn = rxn))\n",
    "lst[0:10]"
   ]
  },
  {
   "cell_type": "code",
   "execution_count": 4,
   "metadata": {},
   "outputs": [
    {
     "data": {
      "text/plain": [
       "[[u'|GLUTATHIONE|', u'|CPD-11281|', u'|HS|', u'|OXIDIZED-GLUTATHIONE|'],\n",
       " [u'|NAD|', u'|PROPANE-1-2-DIOL|', u'|LACTALD|', u'|NADH|', u'|PROTON|'],\n",
       " [u'|PYRUVFORMLY-CPLX|', u'|PYRUVFORMLY-INACTIVE-CPLX|'],\n",
       " [u'|HMP|',\n",
       "  u'|ATP|',\n",
       "  u'|PROTON|',\n",
       "  u'|ADP|',\n",
       "  u'|AMINO-HYDROXYMETHYL-METHYL-PYR-P|'],\n",
       " [u'|CPLX0-8115|', u'|CPLX0-2861|', u'|CPLX0-7657|', u'|CPLX-154|'],\n",
       " [u'|GAP|', u'|DIHYDROXY-ACETONE-PHOSPHATE|'],\n",
       " [u'|ATP|', u'|PRENOL|', u'|CPD-14332|', u'|ADP|', u'|PROTON|'],\n",
       " [u'|LIPOYL-ACP|', u'|E2O-MONOMER|', u'|SUCB-LIPOATE|', u'|ACP|'],\n",
       " [u'|WATER|',\n",
       "  u'|NAD|',\n",
       "  u'|BETAINE_ALDEHYDE|',\n",
       "  u'|PROTON|',\n",
       "  u'|BETAINE|',\n",
       "  u'|NADH|'],\n",
       " [u'|Red-Demethylmenaquinol-Oxidoreductases|',\n",
       "  u'|Cytochromes-B|',\n",
       "  u'|Cytochromes-B-Reduced|',\n",
       "  u'|Ox-Demethylmenaquinone-Oxidoreductases|']]"
      ]
     },
     "execution_count": 4,
     "metadata": {},
     "output_type": "execute_result"
    }
   ],
   "source": [
    "lst = []\n",
    "for rxn in ecoli.all_rxns(type = ':all'):\n",
    "    lst.append(ecoli.substrates_of_reaction(rxn = rxn))\n",
    "lst[0:10]"
   ]
  },
  {
   "cell_type": "code",
   "execution_count": 5,
   "metadata": {},
   "outputs": [
    {
     "data": {
      "text/plain": [
       "[[],\n",
       " [u'|LACTALDREDUCT-CPLX|'],\n",
       " [u'|ADHE-CPLX|'],\n",
       " [u'|HMP-P-KIN-CPLX|', u'|PDXK-CPLX|'],\n",
       " [],\n",
       " [u'|TPI|'],\n",
       " [u'|CPLX0-8211|'],\n",
       " [u'|EG11591-MONOMER|'],\n",
       " [u'|BADH-CPLX|'],\n",
       " []]"
      ]
     },
     "execution_count": 5,
     "metadata": {},
     "output_type": "execute_result"
    }
   ],
   "source": [
    "\"\"\"\n",
    "rxn\n",
    "An instance of the class |Reactions|. \n",
    "species\n",
    "Keyword, Optional A list of species, such that in a multi-organism PGDB such as \n",
    "MetaCyc, only proteins found in those organisms will be returned. This list can \n",
    "include valid org‑ids, children of class |Organisms|, and strings. Please see \n",
    "the documentation for the 'species slot‑unit for more information. Default value \n",
    "is nil. \n",
    "experimental-only?\n",
    "Keyword, Optional When true, only return enzymes that have a non-computational \n",
    "evidence code associated with it. \n",
    "local-only-p\n",
    "Keyword, Optional When true, only return enzymes that catalyze the specific form \n",
    "of the reaction, as opposed to enzymes that are known to catalyze a more general \n",
    "form (i.e., class) of the reaction. \n",
    "\"\"\"\n",
    "\n",
    "lst = []\n",
    "for rxn in ecoli.all_rxns(type = ':all'):\n",
    "    lst.append(ecoli.enzymes_of_reaction(rxn = rxn, species = u'|ECOLI|', experimental_only = False, local_only = False))\n",
    "lst[0:10]"
   ]
  },
  {
   "cell_type": "code",
   "execution_count": 6,
   "metadata": {},
   "outputs": [
    {
     "data": {
      "text/plain": [
       "[None,\n",
       " None,\n",
       " None,\n",
       " [[u'|ATP|', u'|HMP|'],\n",
       "  [u'|PROTON|', u'|ADP|', u'|AMINO-HYDROXYMETHYL-METHYL-PYR-P|']],\n",
       " None,\n",
       " None,\n",
       " [[u'|PRENOL|', u'|ATP|'], [u'|CPD-14332|', u'|ADP|', u'|PROTON|']],\n",
       " None,\n",
       " [[u'|BETAINE_ALDEHYDE|', u'|NAD|', u'|WATER|'],\n",
       "  [u'|PROTON|', u'|BETAINE|', u'|NADH|']],\n",
       " [[u'|Cytochromes-B|', u'|Red-Demethylmenaquinol-Oxidoreductases|'],\n",
       "  [u'|Cytochromes-B-Reduced|', u'|Ox-Demethylmenaquinone-Oxidoreductases|']]]"
      ]
     },
     "execution_count": 6,
     "metadata": {},
     "output_type": "execute_result"
    }
   ],
   "source": [
    "\"\"\"\n",
    "rxn\n",
    "An instance of the class |Reactions|. \n",
    "direction\n",
    "Keyword, Optional Can take on the following values:\n",
    "\n",
    ":L2R\n",
    "The reaction direction goes from ‘left to right’, as described in the \n",
    "|Reactions| instance. \n",
    ":R2L\n",
    "The reaction direction goes from ‘right to left’; the opposite of what is \n",
    "described in the |Reactions| instance. \n",
    "\n",
    "pwy\n",
    "Keyword, Optional An instance of the class |Pathways|. \n",
    "\"\"\"\n",
    "\n",
    "lst = []\n",
    "for rxn in ecoli.all_rxns(type = ':all'):\n",
    "    lst.append(ecoli.reaction_reactants_and_products(rxn = rxn))\n",
    "lst[0:10]"
   ]
  },
  {
   "cell_type": "code",
   "execution_count": 7,
   "metadata": {},
   "outputs": [
    {
     "data": {
      "text/plain": [
       "[u'|SMALL-MOLECULE|',\n",
       " u'|SMALL-MOLECULE|',\n",
       " u'|PROTEIN-REACTION|',\n",
       " u'|SMALL-MOLECULE|',\n",
       " u'|PROTEIN-REACTION|',\n",
       " u'|SMALL-MOLECULE|',\n",
       " u'|SMALL-MOLECULE|',\n",
       " u'|PROTEIN-REACTION|',\n",
       " u'|SMALL-MOLECULE|',\n",
       " u'|PROTEIN-REACTION|']"
      ]
     },
     "execution_count": 7,
     "metadata": {},
     "output_type": "execute_result"
    }
   ],
   "source": [
    "lst = []\n",
    "for rxn in ecoli.all_rxns(type = ':all'):\n",
    "    lst.append(ecoli.reaction_type(rxn = rxn))\n",
    "lst[0:10]"
   ]
  },
  {
   "cell_type": "code",
   "execution_count": 8,
   "metadata": {},
   "outputs": [
    {
     "data": {
      "text/plain": [
       "'\\nrxn\\nAn instance of the class |Reactions|. \\ncomplete?\\nOptional If true, the predicate will return true when there is any associated \\ngene without a sequence. If nil, the predicate will return true when all \\nassociated genes are without a sequence. \\n'"
      ]
     },
     "execution_count": 8,
     "metadata": {},
     "output_type": "execute_result"
    }
   ],
   "source": [
    "\"\"\"\n",
    "rxn\n",
    "An instance of the class |Reactions|. \n",
    "complete?\n",
    "Optional If true, the predicate will return true when there is any associated \n",
    "gene without a sequence. If nil, the predicate will return true when all \n",
    "associated genes are without a sequence. \n",
    "\"\"\"\n",
    "\n",
    "# lst = []\n",
    "# for rxn in ecoli.all_rxns(type = ':all'):\n",
    "#     lst.append(ecoli.rxn_without_sequenced_enzyme_p(rxn = rxn, complete = True))\n",
    "# lst[0:10]"
   ]
  },
  {
   "cell_type": "code",
   "execution_count": 9,
   "metadata": {},
   "outputs": [
    {
     "data": {
      "text/plain": [
       "[False, False, False, False, False, False, False, False, False, False]"
      ]
     },
     "execution_count": 9,
     "metadata": {},
     "output_type": "execute_result"
    }
   ],
   "source": [
    "\"\"\"\n",
    "rxn\n",
    "An instance of the class |Reactions|. \n",
    "hole-if-any-gene-without-position?\n",
    "Keyword, Optional If true, then genes without specified coordinates for the \n",
    "current organism’s genome are not counted when determining the status of the \n",
    "reaction.\n",
    "\"\"\"\n",
    "\n",
    "lst = []\n",
    "for rxn in ecoli.all_rxns(type = ':all'):\n",
    "    lst.append(ecoli.pathway_hole_p(rxn = rxn))\n",
    "lst[0:10]"
   ]
  },
  {
   "cell_type": "code",
   "execution_count": 10,
   "metadata": {},
   "outputs": [],
   "source": [
    "# lst = []\n",
    "# for rxn in ecoli.all_rxns(type = ':all'):\n",
    "#     lst.append(ecoli.rxn_present_p(rxn = rxn))\n",
    "# lst[0:10]"
   ]
  },
  {
   "cell_type": "code",
   "execution_count": 11,
   "metadata": {},
   "outputs": [
    {
     "data": {
      "text/plain": [
       "[False, False, False, False, False, False, False, False, False, False]"
      ]
     },
     "execution_count": 11,
     "metadata": {},
     "output_type": "execute_result"
    }
   ],
   "source": [
    "\"\"\"\n",
    "specific-rxn\n",
    "A child of the class |Reactions|. \n",
    "generic-rxn\n",
    "A child of the class |Reactions|. \n",
    "\"\"\"\n",
    "\n",
    "lst = []\n",
    "for rxn in ecoli.all_rxns(type = ':all'):\n",
    "    lst.append(ecoli.rxn_specific_form_of_rxn_p(specific_rxn = rxn, generic_rxn = u'|RXN0-3741|'))\n",
    "lst[0:10]"
   ]
  },
  {
   "cell_type": "code",
   "execution_count": 12,
   "metadata": {},
   "outputs": [
    {
     "data": {
      "text/plain": [
       "[[], [], [], [], [], [], [], [], [], []]"
      ]
     },
     "execution_count": 12,
     "metadata": {},
     "output_type": "execute_result"
    }
   ],
   "source": [
    "lst = []\n",
    "for rxn in ecoli.all_rxns(type = ':all'):\n",
    "    lst.append(ecoli.nonspecific_forms_of_rxn(rxn = rxn))\n",
    "lst[0:10]"
   ]
  },
  {
   "cell_type": "code",
   "execution_count": 13,
   "metadata": {},
   "outputs": [
    {
     "data": {
      "text/plain": [
       "[[], [], [], [], [], [], [], [], [], []]"
      ]
     },
     "execution_count": 13,
     "metadata": {},
     "output_type": "execute_result"
    }
   ],
   "source": [
    "lst = []\n",
    "for rxn in ecoli.all_rxns(type = ':all'):\n",
    "    lst.append(ecoli.specific_forms_of_rxn(rxn = rxn))\n",
    "lst[0:10]"
   ]
  },
  {
   "cell_type": "code",
   "execution_count": 14,
   "metadata": {},
   "outputs": [
    {
     "data": {
      "text/plain": [
       "[False, False, False, False, False, False, False, False, False, False]"
      ]
     },
     "execution_count": 14,
     "metadata": {},
     "output_type": "execute_result"
    }
   ],
   "source": [
    "\"\"\"\n",
    "rxn\n",
    "An instance of the class |Reactions|. \n",
    "compartments\n",
    "A list of cellular compartments, as defined in the Cellular Components Ontology. \n",
    "See frame 'CCO. \n",
    "default-ok?\n",
    "Keyword, Optional If true, then we return true if the reaction has no associated \n",
    "compartment information, or one of its associated locations is a super-class of \n",
    "one of the members of the compartments argument. \n",
    "pwy\n",
    "Keyword, Optional If supplied, the search for associated enzymes of the argument \n",
    "rxn is limited to the given child of |Pathways|. \n",
    "loose?\n",
    "Keyword, Optional If true, then the compartments 'CCO‑CYTOPLASM and 'CCO‑CYTOSOL \n",
    "are treated as being the same compartment.\n",
    "\"\"\"\n",
    "\n",
    "lst = []\n",
    "for rxn in ecoli.all_rxns(type = ':all'):\n",
    "    lst.append(ecoli.rxn_in_compartment_p(rxn = rxn, compartments = u'|CCO_CYTOSOL|'))\n",
    "lst[0:10]"
   ]
  },
  {
   "cell_type": "code",
   "execution_count": 15,
   "metadata": {},
   "outputs": [
    {
     "data": {
      "text/plain": [
       "\"\\nrxn\\nAn instance of the class |Reactions|. \\ndefault\\nOptional The default compartment for reactions without any compartment \\nannotations on their substrates. The default value is 'CCO\\xe2\\x80\\x91CYTOSOL. \\n\""
      ]
     },
     "execution_count": 15,
     "metadata": {},
     "output_type": "execute_result"
    }
   ],
   "source": [
    "\"\"\"\n",
    "rxn\n",
    "An instance of the class |Reactions|. \n",
    "default\n",
    "Optional The default compartment for reactions without any compartment \n",
    "annotations on their substrates. The default value is 'CCO‑CYTOSOL. \n",
    "\"\"\"\n",
    "\n",
    "# lst = []\n",
    "# for rxn in ecoli.all_rxns(type = ':all'):\n",
    "#     lst.append(ecoli.compartment_of_rxn(rxn = rxn))\n",
    "# lst[0:10]"
   ]
  },
  {
   "cell_type": "code",
   "execution_count": 16,
   "metadata": {},
   "outputs": [
    {
     "data": {
      "text/plain": [
       "[[u'|CCO-CYTOSOL|'],\n",
       " [u'|CCO-CYTOSOL|'],\n",
       " [u'|CCO-CYTOSOL|'],\n",
       " [u'|CCO-CYTOSOL|'],\n",
       " [u'|CCO-CYTOSOL|'],\n",
       " [u'|CCO-CYTOSOL|'],\n",
       " [u'|CCO-CYTOSOL|'],\n",
       " [u'|CCO-CYTOSOL|'],\n",
       " [u'|CCO-CYTOSOL|'],\n",
       " [u'|CCO-CYTOSOL|']]"
      ]
     },
     "execution_count": 16,
     "metadata": {},
     "output_type": "execute_result"
    }
   ],
   "source": [
    "\"\"\"\n",
    "rxn\n",
    "An instance of the class |Reactions|. \n",
    "sides\n",
    "Keyword, Optional The slots of the reaction to consider. The default value is \n",
    "'(LEFT RIGHT). \n",
    "default-compartment\n",
    "The default compartment, as determined by the function (default‑compartment), \n",
    "which currently is set to 'CCO‑CYTOSOL.\n",
    "\"\"\"\n",
    "\n",
    "lst = []\n",
    "for rxn in ecoli.all_rxns(type = ':all'):\n",
    "    lst.append(ecoli.compartments_of_reaction(rxn = rxn))\n",
    "lst[0:10]"
   ]
  },
  {
   "cell_type": "code",
   "execution_count": 17,
   "metadata": {},
   "outputs": [
    {
     "data": {
      "text/plain": [
       "[[u'|WATER|'],\n",
       " [u'|PROTON|', u'|D-ARABINOSE|'],\n",
       " [u'|CADAVERINE|', u'|PROTON|'],\n",
       " [u'|INOSINE|', u'|PROTON|'],\n",
       " [u'|TREHALOSE-6P|'],\n",
       " [u'|GLYOX|'],\n",
       " [u'|VAL|', u'|NA+|'],\n",
       " [u'|HOMO-SER|', u'|PROTON|'],\n",
       " [u'|Alkylphosphonates|'],\n",
       " [u'|Aromatic-Amino-Acids|']]"
      ]
     },
     "execution_count": 17,
     "metadata": {},
     "output_type": "execute_result"
    }
   ],
   "source": [
    "\"\"\"\n",
    "rxn\n",
    "An instance of the class |Reactions|. \n",
    "side\n",
    "Keyword, Optional The side of the reaction from which to return the transported \n",
    "compound. \n",
    "primary-only?\n",
    "Keyword, Optional If true, then filter out common exchangers (currently defined \n",
    "as '(PROTON NA CPD-1)+). If true, and the only transported compounds are in this \n",
    "list, then the filter doesn’t apply. \n",
    "from-compartment\n",
    "Keyword, Optional A compartment (child of class 'CCO). If specified, then only \n",
    "return compounds transported from that compartment. \n",
    "to-compartment\n",
    "Keyword, Optional A compartment (child of class 'CCO). If specified, then only \n",
    "return compounds transported to that compartment. \n",
    "show-compartment\n",
    "Keyword, Optional A compartment (child of class 'CCO). If specified, and the \n",
    "compound is modified during transport, then only return the form of the compound \n",
    "as found in this compartment. \n",
    "\"\"\"\n",
    "\n",
    "lst = []\n",
    "for rxn in ecoli.all_rxns(type = ':transport'):\n",
    "    lst.append(ecoli.transported_chemicals(rxn = rxn))\n",
    "lst[0:10]"
   ]
  },
  {
   "cell_type": "code",
   "execution_count": 18,
   "metadata": {},
   "outputs": [
    {
     "data": {
      "text/plain": [
       "[[], [], [], [], [], [], [], [], [], []]"
      ]
     },
     "execution_count": 18,
     "metadata": {},
     "output_type": "execute_result"
    }
   ],
   "source": [
    "\"\"\"\n",
    "rxn\n",
    "An instance of the class |Reactions|. \n",
    "pwy\n",
    "A child of the class |Pathways|. \n",
    "\"\"\"\n",
    "\n",
    "lst = []\n",
    "for rxn in ecoli.all_rxns(type = ':all'):\n",
    "    lst.append(ecoli.get_predecessors(rxn = rxn, pwy = u'PWY0-1347'))\n",
    "lst[0:10]"
   ]
  },
  {
   "cell_type": "code",
   "execution_count": 19,
   "metadata": {},
   "outputs": [
    {
     "data": {
      "text/plain": [
       "[[], [], [], [], [], [], [], [], [], []]"
      ]
     },
     "execution_count": 19,
     "metadata": {},
     "output_type": "execute_result"
    }
   ],
   "source": [
    "\"\"\"\n",
    "rxn\n",
    "An instance of the class |Reactions|. \n",
    "pwy\n",
    "A child of the class |Pathways|. \n",
    "\"\"\"\n",
    "\n",
    "lst = []\n",
    "for rxn in ecoli.all_rxns(type = ':all'):\n",
    "    lst.append(ecoli.get_successors(rxn = rxn, pwy = u'PWY0-1347'))\n",
    "lst[0:10]"
   ]
  },
  {
   "cell_type": "code",
   "execution_count": 20,
   "metadata": {},
   "outputs": [
    {
     "data": {
      "text/plain": [
       "[False, False, False, True, False, False, False, False, False, False]"
      ]
     },
     "execution_count": 20,
     "metadata": {},
     "output_type": "execute_result"
    }
   ],
   "source": [
    "lst = []\n",
    "for rxn in ecoli.all_rxns(type = ':all'):\n",
    "    lst.append(ecoli.rxn_w_isozymes_p(rxn = rxn))\n",
    "lst[0:10]"
   ]
  },
  {
   "cell_type": "code",
   "execution_count": null,
   "metadata": {},
   "outputs": [],
   "source": []
  }
 ],
 "metadata": {
  "kernelspec": {
   "display_name": "Python 2",
   "language": "python",
   "name": "python2"
  },
  "language_info": {
   "codemirror_mode": {
    "name": "ipython",
    "version": 2
   },
   "file_extension": ".py",
   "mimetype": "text/x-python",
   "name": "python",
   "nbconvert_exporter": "python",
   "pygments_lexer": "ipython2",
   "version": "2.7.15rc1"
  }
 },
 "nbformat": 4,
 "nbformat_minor": 2
}
